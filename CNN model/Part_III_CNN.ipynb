{
 "cells": [
  {
   "cell_type": "markdown",
   "metadata": {
    "id": "r4OKd00uIt8R"
   },
   "source": [
    "# **Part III: Convolutional neural networks**\n",
    "Task in Part III is to develop deep learning models with PyTorch. The tast is to design a convolutional neural network that classifies an MRI dataset of subjects' left hippocampus into one of two classes (cognitively normal or Alzheimer's disease). Each MRI dataset in Part III is a tensor of size 30x40x30. The diagnosis of subjects in the training set is either True (Alzheimer's disease) or False (cognitively normal). Finally, the task is to determine the diganosis of subjects in the testing set.\n"
   ]
  },
  {
   "cell_type": "code",
   "execution_count": 1,
   "metadata": {
    "colab": {
     "base_uri": "https://localhost:8080/"
    },
    "executionInfo": {
     "elapsed": 48678,
     "status": "ok",
     "timestamp": 1683700881762,
     "user": {
      "displayName": "Johnny M",
      "userId": "01154982244905029082"
     },
     "user_tz": -120
    },
    "id": "x-DPaprbRHPc",
    "outputId": "1a22ced6-2d56-4f12-d19f-630131cb7e0a"
   },
   "outputs": [
    {
     "name": "stdout",
     "output_type": "stream",
     "text": [
      "Mounted at /content/drive\n"
     ]
    }
   ],
   "source": [
    "# Mount Google Drive\n",
    "from google.colab import drive\n",
    "drive.mount('/content/drive')"
   ]
  },
  {
   "cell_type": "code",
   "execution_count": 2,
   "metadata": {
    "colab": {
     "base_uri": "https://localhost:8080/"
    },
    "executionInfo": {
     "elapsed": 5765,
     "status": "ok",
     "timestamp": 1683700906808,
     "user": {
      "displayName": "Johnny M",
      "userId": "01154982244905029082"
     },
     "user_tz": -120
    },
    "id": "xD_4dcCXh6qk",
    "outputId": "30fb9c21-aa72-4f38-afb0-1860ab1d8c8d"
   },
   "outputs": [
    {
     "name": "stdout",
     "output_type": "stream",
     "text": [
      "Archive:  /content/drive/MyDrive/SC42140/Train_Data.zip\n",
      "   creating: ./Train_Data/\n",
      "  inflating: ./Train_Data/Train_Subject_100_LHC.pt  \n",
      "  inflating: ./Train_Data/Train_Subject_101_LHC.pt  \n",
      "  inflating: ./Train_Data/Train_Subject_102_LHC.pt  \n",
      "  inflating: ./Train_Data/Train_Subject_103_LHC.pt  \n",
      "  inflating: ./Train_Data/Train_Subject_104_LHC.pt  \n",
      "  inflating: ./Train_Data/Train_Subject_105_LHC.pt  \n",
      "  inflating: ./Train_Data/Train_Subject_106_LHC.pt  \n",
      "  inflating: ./Train_Data/Train_Subject_107_LHC.pt  \n",
      "  inflating: ./Train_Data/Train_Subject_108_LHC.pt  \n",
      "  inflating: ./Train_Data/Train_Subject_109_LHC.pt  \n",
      "  inflating: ./Train_Data/Train_Subject_10_LHC.pt  \n",
      "  inflating: ./Train_Data/Train_Subject_110_LHC.pt  \n",
      "  inflating: ./Train_Data/Train_Subject_111_LHC.pt  \n",
      "  inflating: ./Train_Data/Train_Subject_112_LHC.pt  \n",
      "  inflating: ./Train_Data/Train_Subject_113_LHC.pt  \n",
      "  inflating: ./Train_Data/Train_Subject_114_LHC.pt  \n",
      "  inflating: ./Train_Data/Train_Subject_115_LHC.pt  \n",
      "  inflating: ./Train_Data/Train_Subject_116_LHC.pt  \n",
      "  inflating: ./Train_Data/Train_Subject_117_LHC.pt  \n",
      "  inflating: ./Train_Data/Train_Subject_118_LHC.pt  \n",
      "  inflating: ./Train_Data/Train_Subject_119_LHC.pt  \n",
      "  inflating: ./Train_Data/Train_Subject_11_LHC.pt  \n",
      "  inflating: ./Train_Data/Train_Subject_120_LHC.pt  \n",
      "  inflating: ./Train_Data/Train_Subject_121_LHC.pt  \n",
      "  inflating: ./Train_Data/Train_Subject_122_LHC.pt  \n",
      "  inflating: ./Train_Data/Train_Subject_123_LHC.pt  \n",
      "  inflating: ./Train_Data/Train_Subject_124_LHC.pt  \n",
      "  inflating: ./Train_Data/Train_Subject_125_LHC.pt  \n",
      "  inflating: ./Train_Data/Train_Subject_126_LHC.pt  \n",
      "  inflating: ./Train_Data/Train_Subject_127_LHC.pt  \n",
      "  inflating: ./Train_Data/Train_Subject_128_LHC.pt  \n",
      "  inflating: ./Train_Data/Train_Subject_129_LHC.pt  \n",
      "  inflating: ./Train_Data/Train_Subject_12_LHC.pt  \n",
      "  inflating: ./Train_Data/Train_Subject_130_LHC.pt  \n",
      "  inflating: ./Train_Data/Train_Subject_131_LHC.pt  \n",
      "  inflating: ./Train_Data/Train_Subject_132_LHC.pt  \n",
      "  inflating: ./Train_Data/Train_Subject_133_LHC.pt  \n",
      "  inflating: ./Train_Data/Train_Subject_134_LHC.pt  \n",
      "  inflating: ./Train_Data/Train_Subject_135_LHC.pt  \n",
      "  inflating: ./Train_Data/Train_Subject_136_LHC.pt  \n",
      "  inflating: ./Train_Data/Train_Subject_137_LHC.pt  \n",
      "  inflating: ./Train_Data/Train_Subject_138_LHC.pt  \n",
      "  inflating: ./Train_Data/Train_Subject_139_LHC.pt  \n",
      "  inflating: ./Train_Data/Train_Subject_13_LHC.pt  \n",
      "  inflating: ./Train_Data/Train_Subject_140_LHC.pt  \n",
      "  inflating: ./Train_Data/Train_Subject_141_LHC.pt  \n",
      "  inflating: ./Train_Data/Train_Subject_142_LHC.pt  \n",
      "  inflating: ./Train_Data/Train_Subject_143_LHC.pt  \n",
      "  inflating: ./Train_Data/Train_Subject_144_LHC.pt  \n",
      "  inflating: ./Train_Data/Train_Subject_145_LHC.pt  \n",
      "  inflating: ./Train_Data/Train_Subject_146_LHC.pt  \n",
      "  inflating: ./Train_Data/Train_Subject_147_LHC.pt  \n",
      "  inflating: ./Train_Data/Train_Subject_148_LHC.pt  \n",
      "  inflating: ./Train_Data/Train_Subject_149_LHC.pt  \n",
      "  inflating: ./Train_Data/Train_Subject_14_LHC.pt  \n",
      "  inflating: ./Train_Data/Train_Subject_150_LHC.pt  \n",
      "  inflating: ./Train_Data/Train_Subject_151_LHC.pt  \n",
      "  inflating: ./Train_Data/Train_Subject_152_LHC.pt  \n",
      "  inflating: ./Train_Data/Train_Subject_153_LHC.pt  \n",
      "  inflating: ./Train_Data/Train_Subject_154_LHC.pt  \n",
      "  inflating: ./Train_Data/Train_Subject_155_LHC.pt  \n",
      "  inflating: ./Train_Data/Train_Subject_156_LHC.pt  \n",
      "  inflating: ./Train_Data/Train_Subject_157_LHC.pt  \n",
      "  inflating: ./Train_Data/Train_Subject_158_LHC.pt  \n",
      "  inflating: ./Train_Data/Train_Subject_159_LHC.pt  \n",
      "  inflating: ./Train_Data/Train_Subject_15_LHC.pt  \n",
      "  inflating: ./Train_Data/Train_Subject_160_LHC.pt  \n",
      "  inflating: ./Train_Data/Train_Subject_161_LHC.pt  \n",
      "  inflating: ./Train_Data/Train_Subject_162_LHC.pt  \n",
      "  inflating: ./Train_Data/Train_Subject_163_LHC.pt  \n",
      "  inflating: ./Train_Data/Train_Subject_164_LHC.pt  \n",
      "  inflating: ./Train_Data/Train_Subject_165_LHC.pt  \n",
      "  inflating: ./Train_Data/Train_Subject_166_LHC.pt  \n",
      "  inflating: ./Train_Data/Train_Subject_167_LHC.pt  \n",
      "  inflating: ./Train_Data/Train_Subject_168_LHC.pt  \n",
      "  inflating: ./Train_Data/Train_Subject_169_LHC.pt  \n",
      "  inflating: ./Train_Data/Train_Subject_16_LHC.pt  \n",
      "  inflating: ./Train_Data/Train_Subject_170_LHC.pt  \n",
      "  inflating: ./Train_Data/Train_Subject_171_LHC.pt  \n",
      "  inflating: ./Train_Data/Train_Subject_172_LHC.pt  \n",
      "  inflating: ./Train_Data/Train_Subject_173_LHC.pt  \n",
      "  inflating: ./Train_Data/Train_Subject_174_LHC.pt  \n",
      "  inflating: ./Train_Data/Train_Subject_175_LHC.pt  \n",
      "  inflating: ./Train_Data/Train_Subject_176_LHC.pt  \n",
      "  inflating: ./Train_Data/Train_Subject_177_LHC.pt  \n",
      "  inflating: ./Train_Data/Train_Subject_178_LHC.pt  \n",
      "  inflating: ./Train_Data/Train_Subject_179_LHC.pt  \n",
      "  inflating: ./Train_Data/Train_Subject_17_LHC.pt  \n",
      "  inflating: ./Train_Data/Train_Subject_180_LHC.pt  \n",
      "  inflating: ./Train_Data/Train_Subject_181_LHC.pt  \n",
      "  inflating: ./Train_Data/Train_Subject_182_LHC.pt  \n",
      "  inflating: ./Train_Data/Train_Subject_183_LHC.pt  \n",
      "  inflating: ./Train_Data/Train_Subject_184_LHC.pt  \n",
      "  inflating: ./Train_Data/Train_Subject_185_LHC.pt  \n",
      "  inflating: ./Train_Data/Train_Subject_186_LHC.pt  \n",
      "  inflating: ./Train_Data/Train_Subject_187_LHC.pt  \n",
      "  inflating: ./Train_Data/Train_Subject_188_LHC.pt  \n",
      "  inflating: ./Train_Data/Train_Subject_189_LHC.pt  \n",
      "  inflating: ./Train_Data/Train_Subject_18_LHC.pt  \n",
      "  inflating: ./Train_Data/Train_Subject_190_LHC.pt  \n",
      "  inflating: ./Train_Data/Train_Subject_191_LHC.pt  \n",
      "  inflating: ./Train_Data/Train_Subject_192_LHC.pt  \n",
      "  inflating: ./Train_Data/Train_Subject_193_LHC.pt  \n",
      "  inflating: ./Train_Data/Train_Subject_194_LHC.pt  \n",
      "  inflating: ./Train_Data/Train_Subject_195_LHC.pt  \n",
      "  inflating: ./Train_Data/Train_Subject_196_LHC.pt  \n",
      "  inflating: ./Train_Data/Train_Subject_197_LHC.pt  \n",
      "  inflating: ./Train_Data/Train_Subject_198_LHC.pt  \n",
      "  inflating: ./Train_Data/Train_Subject_199_LHC.pt  \n",
      "  inflating: ./Train_Data/Train_Subject_19_LHC.pt  \n",
      "  inflating: ./Train_Data/Train_Subject_1_LHC.pt  \n",
      "  inflating: ./Train_Data/Train_Subject_200_LHC.pt  \n",
      "  inflating: ./Train_Data/Train_Subject_201_LHC.pt  \n",
      "  inflating: ./Train_Data/Train_Subject_202_LHC.pt  \n",
      "  inflating: ./Train_Data/Train_Subject_203_LHC.pt  \n",
      "  inflating: ./Train_Data/Train_Subject_204_LHC.pt  \n",
      "  inflating: ./Train_Data/Train_Subject_205_LHC.pt  \n",
      "  inflating: ./Train_Data/Train_Subject_206_LHC.pt  \n",
      "  inflating: ./Train_Data/Train_Subject_207_LHC.pt  \n",
      "  inflating: ./Train_Data/Train_Subject_208_LHC.pt  \n",
      "  inflating: ./Train_Data/Train_Subject_209_LHC.pt  \n",
      "  inflating: ./Train_Data/Train_Subject_20_LHC.pt  \n",
      "  inflating: ./Train_Data/Train_Subject_210_LHC.pt  \n",
      "  inflating: ./Train_Data/Train_Subject_211_LHC.pt  \n",
      "  inflating: ./Train_Data/Train_Subject_212_LHC.pt  \n",
      "  inflating: ./Train_Data/Train_Subject_213_LHC.pt  \n",
      "  inflating: ./Train_Data/Train_Subject_214_LHC.pt  \n",
      "  inflating: ./Train_Data/Train_Subject_215_LHC.pt  \n",
      "  inflating: ./Train_Data/Train_Subject_216_LHC.pt  \n",
      "  inflating: ./Train_Data/Train_Subject_217_LHC.pt  \n",
      "  inflating: ./Train_Data/Train_Subject_218_LHC.pt  \n",
      "  inflating: ./Train_Data/Train_Subject_219_LHC.pt  \n",
      "  inflating: ./Train_Data/Train_Subject_21_LHC.pt  \n",
      "  inflating: ./Train_Data/Train_Subject_220_LHC.pt  \n",
      "  inflating: ./Train_Data/Train_Subject_22_LHC.pt  \n",
      "  inflating: ./Train_Data/Train_Subject_23_LHC.pt  \n",
      "  inflating: ./Train_Data/Train_Subject_24_LHC.pt  \n",
      "  inflating: ./Train_Data/Train_Subject_25_LHC.pt  \n",
      "  inflating: ./Train_Data/Train_Subject_26_LHC.pt  \n",
      "  inflating: ./Train_Data/Train_Subject_27_LHC.pt  \n",
      "  inflating: ./Train_Data/Train_Subject_28_LHC.pt  \n",
      "  inflating: ./Train_Data/Train_Subject_29_LHC.pt  \n",
      "  inflating: ./Train_Data/Train_Subject_2_LHC.pt  \n",
      "  inflating: ./Train_Data/Train_Subject_30_LHC.pt  \n",
      "  inflating: ./Train_Data/Train_Subject_31_LHC.pt  \n",
      "  inflating: ./Train_Data/Train_Subject_32_LHC.pt  \n",
      "  inflating: ./Train_Data/Train_Subject_33_LHC.pt  \n",
      "  inflating: ./Train_Data/Train_Subject_34_LHC.pt  \n",
      "  inflating: ./Train_Data/Train_Subject_35_LHC.pt  \n",
      "  inflating: ./Train_Data/Train_Subject_36_LHC.pt  \n",
      "  inflating: ./Train_Data/Train_Subject_37_LHC.pt  \n",
      "  inflating: ./Train_Data/Train_Subject_38_LHC.pt  \n",
      "  inflating: ./Train_Data/Train_Subject_39_LHC.pt  \n",
      "  inflating: ./Train_Data/Train_Subject_3_LHC.pt  \n",
      "  inflating: ./Train_Data/Train_Subject_40_LHC.pt  \n",
      "  inflating: ./Train_Data/Train_Subject_41_LHC.pt  \n",
      "  inflating: ./Train_Data/Train_Subject_42_LHC.pt  \n",
      "  inflating: ./Train_Data/Train_Subject_43_LHC.pt  \n",
      "  inflating: ./Train_Data/Train_Subject_44_LHC.pt  \n",
      "  inflating: ./Train_Data/Train_Subject_45_LHC.pt  \n",
      "  inflating: ./Train_Data/Train_Subject_46_LHC.pt  \n",
      "  inflating: ./Train_Data/Train_Subject_47_LHC.pt  \n",
      "  inflating: ./Train_Data/Train_Subject_48_LHC.pt  \n",
      "  inflating: ./Train_Data/Train_Subject_49_LHC.pt  \n",
      "  inflating: ./Train_Data/Train_Subject_4_LHC.pt  \n",
      "  inflating: ./Train_Data/Train_Subject_50_LHC.pt  \n",
      "  inflating: ./Train_Data/Train_Subject_51_LHC.pt  \n",
      "  inflating: ./Train_Data/Train_Subject_52_LHC.pt  \n",
      "  inflating: ./Train_Data/Train_Subject_53_LHC.pt  \n",
      "  inflating: ./Train_Data/Train_Subject_54_LHC.pt  \n",
      "  inflating: ./Train_Data/Train_Subject_55_LHC.pt  \n",
      "  inflating: ./Train_Data/Train_Subject_56_LHC.pt  \n",
      "  inflating: ./Train_Data/Train_Subject_57_LHC.pt  \n",
      "  inflating: ./Train_Data/Train_Subject_58_LHC.pt  \n",
      "  inflating: ./Train_Data/Train_Subject_59_LHC.pt  \n",
      "  inflating: ./Train_Data/Train_Subject_5_LHC.pt  \n",
      "  inflating: ./Train_Data/Train_Subject_60_LHC.pt  \n",
      "  inflating: ./Train_Data/Train_Subject_61_LHC.pt  \n",
      "  inflating: ./Train_Data/Train_Subject_62_LHC.pt  \n",
      "  inflating: ./Train_Data/Train_Subject_63_LHC.pt  \n",
      "  inflating: ./Train_Data/Train_Subject_64_LHC.pt  \n",
      "  inflating: ./Train_Data/Train_Subject_65_LHC.pt  \n",
      "  inflating: ./Train_Data/Train_Subject_66_LHC.pt  \n",
      "  inflating: ./Train_Data/Train_Subject_67_LHC.pt  \n",
      "  inflating: ./Train_Data/Train_Subject_68_LHC.pt  \n",
      "  inflating: ./Train_Data/Train_Subject_69_LHC.pt  \n",
      "  inflating: ./Train_Data/Train_Subject_6_LHC.pt  \n",
      "  inflating: ./Train_Data/Train_Subject_70_LHC.pt  \n",
      "  inflating: ./Train_Data/Train_Subject_71_LHC.pt  \n",
      "  inflating: ./Train_Data/Train_Subject_72_LHC.pt  \n",
      "  inflating: ./Train_Data/Train_Subject_73_LHC.pt  \n",
      "  inflating: ./Train_Data/Train_Subject_74_LHC.pt  \n",
      "  inflating: ./Train_Data/Train_Subject_75_LHC.pt  \n",
      "  inflating: ./Train_Data/Train_Subject_76_LHC.pt  \n",
      "  inflating: ./Train_Data/Train_Subject_77_LHC.pt  \n",
      "  inflating: ./Train_Data/Train_Subject_78_LHC.pt  \n",
      "  inflating: ./Train_Data/Train_Subject_79_LHC.pt  \n",
      "  inflating: ./Train_Data/Train_Subject_7_LHC.pt  \n",
      "  inflating: ./Train_Data/Train_Subject_80_LHC.pt  \n",
      "  inflating: ./Train_Data/Train_Subject_81_LHC.pt  \n",
      "  inflating: ./Train_Data/Train_Subject_82_LHC.pt  \n",
      "  inflating: ./Train_Data/Train_Subject_83_LHC.pt  \n",
      "  inflating: ./Train_Data/Train_Subject_84_LHC.pt  \n",
      "  inflating: ./Train_Data/Train_Subject_85_LHC.pt  \n",
      "  inflating: ./Train_Data/Train_Subject_86_LHC.pt  \n",
      "  inflating: ./Train_Data/Train_Subject_87_LHC.pt  \n",
      "  inflating: ./Train_Data/Train_Subject_88_LHC.pt  \n",
      "  inflating: ./Train_Data/Train_Subject_89_LHC.pt  \n",
      "  inflating: ./Train_Data/Train_Subject_8_LHC.pt  \n",
      "  inflating: ./Train_Data/Train_Subject_90_LHC.pt  \n",
      "  inflating: ./Train_Data/Train_Subject_91_LHC.pt  \n",
      "  inflating: ./Train_Data/Train_Subject_92_LHC.pt  \n",
      "  inflating: ./Train_Data/Train_Subject_93_LHC.pt  \n",
      "  inflating: ./Train_Data/Train_Subject_94_LHC.pt  \n",
      "  inflating: ./Train_Data/Train_Subject_95_LHC.pt  \n",
      "  inflating: ./Train_Data/Train_Subject_96_LHC.pt  \n",
      "  inflating: ./Train_Data/Train_Subject_97_LHC.pt  \n",
      "  inflating: ./Train_Data/Train_Subject_98_LHC.pt  \n",
      "  inflating: ./Train_Data/Train_Subject_99_LHC.pt  \n",
      "  inflating: ./Train_Data/Train_Subject_9_LHC.pt  \n",
      "Archive:  /content/drive/MyDrive/SC42140/Test_Data.zip\n",
      "   creating: ./Test_Data/\n",
      "  inflating: ./Test_Data/Test_Subject_221_LHC.pt  \n",
      "  inflating: ./Test_Data/Test_Subject_222_LHC.pt  \n",
      "  inflating: ./Test_Data/Test_Subject_223_LHC.pt  \n",
      "  inflating: ./Test_Data/Test_Subject_224_LHC.pt  \n",
      "  inflating: ./Test_Data/Test_Subject_225_LHC.pt  \n",
      "  inflating: ./Test_Data/Test_Subject_226_LHC.pt  \n",
      "  inflating: ./Test_Data/Test_Subject_227_LHC.pt  \n",
      "  inflating: ./Test_Data/Test_Subject_228_LHC.pt  \n",
      "  inflating: ./Test_Data/Test_Subject_229_LHC.pt  \n",
      "  inflating: ./Test_Data/Test_Subject_230_LHC.pt  \n",
      "  inflating: ./Test_Data/Test_Subject_231_LHC.pt  \n",
      "  inflating: ./Test_Data/Test_Subject_232_LHC.pt  \n",
      "  inflating: ./Test_Data/Test_Subject_233_LHC.pt  \n",
      "  inflating: ./Test_Data/Test_Subject_234_LHC.pt  \n",
      "  inflating: ./Test_Data/Test_Subject_235_LHC.pt  \n",
      "  inflating: ./Test_Data/Test_Subject_236_LHC.pt  \n",
      "  inflating: ./Test_Data/Test_Subject_237_LHC.pt  \n",
      "  inflating: ./Test_Data/Test_Subject_238_LHC.pt  \n",
      "  inflating: ./Test_Data/Test_Subject_239_LHC.pt  \n",
      "  inflating: ./Test_Data/Test_Subject_240_LHC.pt  \n",
      "  inflating: ./Test_Data/Test_Subject_241_LHC.pt  \n",
      "  inflating: ./Test_Data/Test_Subject_242_LHC.pt  \n",
      "  inflating: ./Test_Data/Test_Subject_243_LHC.pt  \n",
      "  inflating: ./Test_Data/Test_Subject_244_LHC.pt  \n",
      "  inflating: ./Test_Data/Test_Subject_245_LHC.pt  \n",
      "  inflating: ./Test_Data/Test_Subject_246_LHC.pt  \n",
      "  inflating: ./Test_Data/Test_Subject_247_LHC.pt  \n",
      "  inflating: ./Test_Data/Test_Subject_248_LHC.pt  \n",
      "  inflating: ./Test_Data/Test_Subject_249_LHC.pt  \n",
      "  inflating: ./Test_Data/Test_Subject_250_LHC.pt  \n",
      "  inflating: ./Test_Data/Test_Subject_251_LHC.pt  \n",
      "  inflating: ./Test_Data/Test_Subject_252_LHC.pt  \n",
      "  inflating: ./Test_Data/Test_Subject_253_LHC.pt  \n",
      "  inflating: ./Test_Data/Test_Subject_254_LHC.pt  \n",
      "  inflating: ./Test_Data/Test_Subject_255_LHC.pt  \n",
      "  inflating: ./Test_Data/Test_Subject_256_LHC.pt  \n",
      "  inflating: ./Test_Data/Test_Subject_257_LHC.pt  \n",
      "  inflating: ./Test_Data/Test_Subject_258_LHC.pt  \n",
      "  inflating: ./Test_Data/Test_Subject_259_LHC.pt  \n",
      "  inflating: ./Test_Data/Test_Subject_260_LHC.pt  \n",
      "  inflating: ./Test_Data/Test_Subject_261_LHC.pt  \n",
      "  inflating: ./Test_Data/Test_Subject_262_LHC.pt  \n",
      "  inflating: ./Test_Data/Test_Subject_263_LHC.pt  \n",
      "  inflating: ./Test_Data/Test_Subject_264_LHC.pt  \n",
      "  inflating: ./Test_Data/Test_Subject_265_LHC.pt  \n",
      "  inflating: ./Test_Data/Test_Subject_266_LHC.pt  \n",
      "  inflating: ./Test_Data/Test_Subject_267_LHC.pt  \n",
      "  inflating: ./Test_Data/Test_Subject_268_LHC.pt  \n",
      "  inflating: ./Test_Data/Test_Subject_269_LHC.pt  \n",
      "  inflating: ./Test_Data/Test_Subject_270_LHC.pt  \n",
      "  inflating: ./Test_Data/Test_Subject_271_LHC.pt  \n",
      "  inflating: ./Test_Data/Test_Subject_272_LHC.pt  \n",
      "  inflating: ./Test_Data/Test_Subject_273_LHC.pt  \n",
      "  inflating: ./Test_Data/Test_Subject_274_LHC.pt  \n",
      "  inflating: ./Test_Data/Test_Subject_275_LHC.pt  \n",
      "  inflating: ./Test_Data/Test_Subject_276_LHC.pt  \n",
      "  inflating: ./Test_Data/Test_Subject_277_LHC.pt  \n",
      "  inflating: ./Test_Data/Test_Subject_278_LHC.pt  \n",
      "  inflating: ./Test_Data/Test_Subject_279_LHC.pt  \n",
      "  inflating: ./Test_Data/Test_Subject_280_LHC.pt  \n",
      "  inflating: ./Test_Data/Test_Subject_281_LHC.pt  \n",
      "  inflating: ./Test_Data/Test_Subject_282_LHC.pt  \n",
      "  inflating: ./Test_Data/Test_Subject_283_LHC.pt  \n",
      "  inflating: ./Test_Data/Test_Subject_284_LHC.pt  \n",
      "  inflating: ./Test_Data/Test_Subject_285_LHC.pt  \n",
      "  inflating: ./Test_Data/Test_Subject_286_LHC.pt  \n",
      "  inflating: ./Test_Data/Test_Subject_287_LHC.pt  \n",
      "  inflating: ./Test_Data/Test_Subject_288_LHC.pt  \n",
      "  inflating: ./Test_Data/Test_Subject_289_LHC.pt  \n",
      "  inflating: ./Test_Data/Test_Subject_290_LHC.pt  \n",
      "  inflating: ./Test_Data/Test_Subject_291_LHC.pt  \n",
      "  inflating: ./Test_Data/Test_Subject_292_LHC.pt  \n",
      "  inflating: ./Test_Data/Test_Subject_293_LHC.pt  \n",
      "  inflating: ./Test_Data/Test_Subject_294_LHC.pt  \n",
      "  inflating: ./Test_Data/Test_Subject_295_LHC.pt  \n",
      "  inflating: ./Test_Data/Test_Subject_296_LHC.pt  \n",
      "  inflating: ./Test_Data/Test_Subject_297_LHC.pt  \n",
      "  inflating: ./Test_Data/Test_Subject_298_LHC.pt  \n",
      "  inflating: ./Test_Data/Test_Subject_299_LHC.pt  \n",
      "  inflating: ./Test_Data/Test_Subject_300_LHC.pt  \n",
      "  inflating: ./Test_Data/Test_Subject_301_LHC.pt  \n",
      "  inflating: ./Test_Data/Test_Subject_302_LHC.pt  \n",
      "  inflating: ./Test_Data/Test_Subject_303_LHC.pt  \n",
      "  inflating: ./Test_Data/Test_Subject_304_LHC.pt  \n",
      "  inflating: ./Test_Data/Test_Subject_305_LHC.pt  \n",
      "  inflating: ./Test_Data/Test_Subject_306_LHC.pt  \n",
      "  inflating: ./Test_Data/Test_Subject_307_LHC.pt  \n",
      "  inflating: ./Test_Data/Test_Subject_308_LHC.pt  \n",
      "  inflating: ./Test_Data/Test_Subject_309_LHC.pt  \n",
      "  inflating: ./Test_Data/Test_Subject_310_LHC.pt  \n",
      "  inflating: ./Test_Data/Test_Subject_311_LHC.pt  \n",
      "  inflating: ./Test_Data/Test_Subject_312_LHC.pt  \n",
      "  inflating: ./Test_Data/Test_Subject_313_LHC.pt  \n",
      "  inflating: ./Test_Data/Test_Subject_314_LHC.pt  \n",
      "  inflating: ./Test_Data/Test_Subject_315_LHC.pt  \n",
      "  inflating: ./Test_Data/Test_Subject_316_LHC.pt  \n",
      "  inflating: ./Test_Data/Test_Subject_317_LHC.pt  \n",
      "  inflating: ./Test_Data/Test_Subject_318_LHC.pt  \n",
      "  inflating: ./Test_Data/Test_Subject_319_LHC.pt  \n",
      "  inflating: ./Test_Data/Test_Subject_320_LHC.pt  \n",
      "  inflating: ./Test_Data/Test_Subject_321_LHC.pt  \n",
      "  inflating: ./Test_Data/Test_Subject_322_LHC.pt  \n",
      "  inflating: ./Test_Data/Test_Subject_323_LHC.pt  \n",
      "  inflating: ./Test_Data/Test_Subject_324_LHC.pt  \n",
      "  inflating: ./Test_Data/Test_Subject_325_LHC.pt  \n",
      "  inflating: ./Test_Data/Test_Subject_326_LHC.pt  \n",
      "  inflating: ./Test_Data/Test_Subject_327_LHC.pt  \n",
      "  inflating: ./Test_Data/Test_Subject_328_LHC.pt  \n",
      "  inflating: ./Test_Data/Test_Subject_329_LHC.pt  \n",
      "  inflating: ./Test_Data/Test_Subject_330_LHC.pt  \n",
      "  inflating: ./Test_Data/Test_Subject_331_LHC.pt  \n",
      "  inflating: ./Test_Data/Test_Subject_332_LHC.pt  \n",
      "  inflating: ./Test_Data/Test_Subject_333_LHC.pt  \n",
      "  inflating: ./Test_Data/Test_Subject_334_LHC.pt  \n",
      "  inflating: ./Test_Data/Test_Subject_335_LHC.pt  \n",
      "  inflating: ./Test_Data/Test_Subject_336_LHC.pt  \n",
      "  inflating: ./Test_Data/Test_Subject_337_LHC.pt  \n",
      "  inflating: ./Test_Data/Test_Subject_338_LHC.pt  \n",
      "  inflating: ./Test_Data/Test_Subject_339_LHC.pt  \n",
      "  inflating: ./Test_Data/Test_Subject_340_LHC.pt  \n",
      "  inflating: ./Test_Data/Test_Subject_341_LHC.pt  \n",
      "  inflating: ./Test_Data/Test_Subject_342_LHC.pt  \n",
      "  inflating: ./Test_Data/Test_Subject_343_LHC.pt  \n",
      "  inflating: ./Test_Data/Test_Subject_344_LHC.pt  \n",
      "  inflating: ./Test_Data/Test_Subject_345_LHC.pt  \n",
      "  inflating: ./Test_Data/Test_Subject_346_LHC.pt  \n",
      "  inflating: ./Test_Data/Test_Subject_347_LHC.pt  \n",
      "  inflating: ./Test_Data/Test_Subject_348_LHC.pt  \n",
      "  inflating: ./Test_Data/Test_Subject_349_LHC.pt  \n",
      "  inflating: ./Test_Data/Test_Subject_350_LHC.pt  \n",
      "  inflating: ./Test_Data/Test_Subject_351_LHC.pt  \n",
      "  inflating: ./Test_Data/Test_Subject_352_LHC.pt  \n",
      "  inflating: ./Test_Data/Test_Subject_353_LHC.pt  \n",
      "  inflating: ./Test_Data/Test_Subject_354_LHC.pt  \n",
      "  inflating: ./Test_Data/Test_Subject_355_LHC.pt  \n",
      "  inflating: ./Test_Data/Test_Subject_356_LHC.pt  \n",
      "  inflating: ./Test_Data/Test_Subject_357_LHC.pt  \n",
      "  inflating: ./Test_Data/Test_Subject_358_LHC.pt  \n",
      "  inflating: ./Test_Data/Test_Subject_359_LHC.pt  \n",
      "  inflating: ./Test_Data/Test_Subject_360_LHC.pt  \n",
      "  inflating: ./Test_Data/Test_Subject_361_LHC.pt  \n",
      "  inflating: ./Test_Data/Test_Subject_362_LHC.pt  \n",
      "  inflating: ./Test_Data/Test_Subject_363_LHC.pt  \n",
      "  inflating: ./Test_Data/Test_Subject_364_LHC.pt  \n",
      "  inflating: ./Test_Data/Test_Subject_365_LHC.pt  \n",
      "  inflating: ./Test_Data/Test_Subject_366_LHC.pt  \n",
      "  inflating: ./Test_Data/Test_Subject_367_LHC.pt  \n",
      "  inflating: ./Test_Data/Test_Subject_368_LHC.pt  \n",
      "  inflating: ./Test_Data/Test_Subject_369_LHC.pt  \n",
      "  inflating: ./Test_Data/Test_Subject_370_LHC.pt  \n",
      "  inflating: ./Test_Data/Test_Subject_371_LHC.pt  \n",
      "  inflating: ./Test_Data/Test_Subject_372_LHC.pt  \n",
      "  inflating: ./Test_Data/Test_Subject_373_LHC.pt  \n",
      "  inflating: ./Test_Data/Test_Subject_374_LHC.pt  \n",
      "  inflating: ./Test_Data/Test_Subject_375_LHC.pt  \n",
      "  inflating: ./Test_Data/Test_Subject_376_LHC.pt  \n",
      "  inflating: ./Test_Data/Test_Subject_377_LHC.pt  \n"
     ]
    }
   ],
   "source": [
    "!unzip '/content/drive/MyDrive/SC42140/Train_Data.zip' -d ./\n",
    "!unzip '/content/drive/MyDrive/SC42140/Test_Data.zip' -d ./"
   ]
  },
  {
   "cell_type": "code",
   "execution_count": 3,
   "metadata": {
    "executionInfo": {
     "elapsed": 4677,
     "status": "ok",
     "timestamp": 1683700911482,
     "user": {
      "displayName": "Johnny M",
      "userId": "01154982244905029082"
     },
     "user_tz": -120
    },
    "id": "LbgDfDsjIskr"
   },
   "outputs": [],
   "source": [
    "# Import libraries \n",
    "import numpy as np\n",
    "import pandas as pd\n",
    "from time import time\n",
    "from os import path\n",
    "import random\n",
    "from copy import deepcopy\n",
    "\n",
    "import torch\n",
    "from torch import nn\n",
    "from torch.utils.data import Dataset, DataLoader, sampler\n",
    "from torchvision import transforms\n",
    "from torchsummary import summary\n",
    "import matplotlib.pyplot as plt\n",
    "from scipy.ndimage import rotate\n",
    "\n",
    "from sklearn.model_selection import GridSearchCV\n",
    "from sklearn.datasets import make_classification\n",
    "from sklearn.ensemble import RandomForestClassifier\n",
    "from sklearn.experimental import enable_halving_search_cv \n",
    "from sklearn.model_selection import HalvingGridSearchCV\n",
    "from sklearn.neural_network import MLPClassifier\n"
   ]
  },
  {
   "cell_type": "markdown",
   "metadata": {
    "id": "yzOwNsqtdu0k"
   },
   "source": [
    "## **MRI data exploration**"
   ]
  },
  {
   "cell_type": "markdown",
   "metadata": {
    "id": "Y3IVL4ytRhJJ"
   },
   "source": [
    "#### Custom PyTorch dataset class"
   ]
  },
  {
   "cell_type": "code",
   "execution_count": 4,
   "metadata": {
    "executionInfo": {
     "elapsed": 4,
     "status": "ok",
     "timestamp": 1683700911483,
     "user": {
      "displayName": "Johnny M",
      "userId": "01154982244905029082"
     },
     "user_tz": -120
    },
    "id": "vNstFs1fX7yz"
   },
   "outputs": [],
   "source": [
    "class MRIDataset(Dataset):\n",
    "    \n",
    "    def __init__(self, mode, data_df):\n",
    "        \"\"\"\n",
    "        Args:\n",
    "            img_dir (str): path to the CAPS directory containing preprocessed images\n",
    "            data_df (DataFrame): metadata of the population.\n",
    "                Columns include participant_id, session_id and diagnosis).\n",
    "            transform (callable): list of transforms applied on-the-fly, chained with torchvision.transforms.Compose.\n",
    "        \"\"\"\n",
    "        self.mode = mode\n",
    "        self.data_df = data_df\n",
    "        self.label_code = {True: 1, False: 0}\n",
    "\n",
    "        self.size = self[0]['image'].shape\n",
    "        \n",
    "    def __len__(self):\n",
    "        return len(self.data_df)\n",
    "    \n",
    "    def __getitem__(self, idx):\n",
    "\n",
    "        diagnosis = self.data_df.loc[idx, 'Diagnosis']\n",
    "        label = self.label_code[diagnosis]\n",
    "        subject_id = self.data_df.loc[idx, 'Subject_Num']\n",
    "        if self.mode == 'develop': \n",
    "          image = torch.load('./Train_Data/Train_Subject_' + str(subject_id) + '_LHC.pt')\n",
    "        elif self.mode == 'grade': \n",
    "          image = torch.load('./Test_Data/Test_Subject_' + str(subject_id) + '_LHC.pt')\n",
    "\n",
    "        sample = {'image': image, 'label': label, 'participant_id': 'P'+ str(subject_id)}\n",
    "        return sample"
   ]
  },
  {
   "cell_type": "markdown",
   "metadata": {
    "id": "lt7-DdGCf-_M"
   },
   "source": [
    "#### Training set"
   ]
  },
  {
   "cell_type": "code",
   "execution_count": 5,
   "metadata": {
    "colab": {
     "base_uri": "https://localhost:8080/",
     "height": 676
    },
    "executionInfo": {
     "elapsed": 860,
     "status": "ok",
     "timestamp": 1683700912340,
     "user": {
      "displayName": "Johnny M",
      "userId": "01154982244905029082"
     },
     "user_tz": -120
    },
    "id": "iumHXaAvmUdq",
    "outputId": "c22b23a9-7bb2-4c6b-a234-4a746215e32d"
   },
   "outputs": [
    {
     "data": {
      "text/html": [
       "\n",
       "  <div id=\"df-3e6b87cb-03db-4ca7-a150-932912273b27\">\n",
       "    <div class=\"colab-df-container\">\n",
       "      <div>\n",
       "<style scoped>\n",
       "    .dataframe tbody tr th:only-of-type {\n",
       "        vertical-align: middle;\n",
       "    }\n",
       "\n",
       "    .dataframe tbody tr th {\n",
       "        vertical-align: top;\n",
       "    }\n",
       "\n",
       "    .dataframe thead th {\n",
       "        text-align: right;\n",
       "    }\n",
       "</style>\n",
       "<table border=\"1\" class=\"dataframe\">\n",
       "  <thead>\n",
       "    <tr style=\"text-align: right;\">\n",
       "      <th></th>\n",
       "      <th>Subject_Num</th>\n",
       "      <th>Diagnosis</th>\n",
       "    </tr>\n",
       "  </thead>\n",
       "  <tbody>\n",
       "    <tr>\n",
       "      <th>0</th>\n",
       "      <td>1</td>\n",
       "      <td>False</td>\n",
       "    </tr>\n",
       "    <tr>\n",
       "      <th>1</th>\n",
       "      <td>2</td>\n",
       "      <td>False</td>\n",
       "    </tr>\n",
       "    <tr>\n",
       "      <th>2</th>\n",
       "      <td>3</td>\n",
       "      <td>False</td>\n",
       "    </tr>\n",
       "    <tr>\n",
       "      <th>3</th>\n",
       "      <td>4</td>\n",
       "      <td>False</td>\n",
       "    </tr>\n",
       "    <tr>\n",
       "      <th>4</th>\n",
       "      <td>5</td>\n",
       "      <td>False</td>\n",
       "    </tr>\n",
       "    <tr>\n",
       "      <th>5</th>\n",
       "      <td>6</td>\n",
       "      <td>True</td>\n",
       "    </tr>\n",
       "    <tr>\n",
       "      <th>6</th>\n",
       "      <td>7</td>\n",
       "      <td>False</td>\n",
       "    </tr>\n",
       "    <tr>\n",
       "      <th>7</th>\n",
       "      <td>8</td>\n",
       "      <td>False</td>\n",
       "    </tr>\n",
       "    <tr>\n",
       "      <th>8</th>\n",
       "      <td>9</td>\n",
       "      <td>False</td>\n",
       "    </tr>\n",
       "    <tr>\n",
       "      <th>9</th>\n",
       "      <td>10</td>\n",
       "      <td>False</td>\n",
       "    </tr>\n",
       "    <tr>\n",
       "      <th>10</th>\n",
       "      <td>11</td>\n",
       "      <td>True</td>\n",
       "    </tr>\n",
       "    <tr>\n",
       "      <th>11</th>\n",
       "      <td>12</td>\n",
       "      <td>True</td>\n",
       "    </tr>\n",
       "    <tr>\n",
       "      <th>12</th>\n",
       "      <td>13</td>\n",
       "      <td>False</td>\n",
       "    </tr>\n",
       "    <tr>\n",
       "      <th>13</th>\n",
       "      <td>14</td>\n",
       "      <td>False</td>\n",
       "    </tr>\n",
       "    <tr>\n",
       "      <th>14</th>\n",
       "      <td>15</td>\n",
       "      <td>False</td>\n",
       "    </tr>\n",
       "    <tr>\n",
       "      <th>15</th>\n",
       "      <td>16</td>\n",
       "      <td>False</td>\n",
       "    </tr>\n",
       "    <tr>\n",
       "      <th>16</th>\n",
       "      <td>17</td>\n",
       "      <td>True</td>\n",
       "    </tr>\n",
       "    <tr>\n",
       "      <th>17</th>\n",
       "      <td>18</td>\n",
       "      <td>False</td>\n",
       "    </tr>\n",
       "    <tr>\n",
       "      <th>18</th>\n",
       "      <td>19</td>\n",
       "      <td>False</td>\n",
       "    </tr>\n",
       "    <tr>\n",
       "      <th>19</th>\n",
       "      <td>20</td>\n",
       "      <td>False</td>\n",
       "    </tr>\n",
       "  </tbody>\n",
       "</table>\n",
       "</div>\n",
       "      <button class=\"colab-df-convert\" onclick=\"convertToInteractive('df-3e6b87cb-03db-4ca7-a150-932912273b27')\"\n",
       "              title=\"Convert this dataframe to an interactive table.\"\n",
       "              style=\"display:none;\">\n",
       "        \n",
       "  <svg xmlns=\"http://www.w3.org/2000/svg\" height=\"24px\"viewBox=\"0 0 24 24\"\n",
       "       width=\"24px\">\n",
       "    <path d=\"M0 0h24v24H0V0z\" fill=\"none\"/>\n",
       "    <path d=\"M18.56 5.44l.94 2.06.94-2.06 2.06-.94-2.06-.94-.94-2.06-.94 2.06-2.06.94zm-11 1L8.5 8.5l.94-2.06 2.06-.94-2.06-.94L8.5 2.5l-.94 2.06-2.06.94zm10 10l.94 2.06.94-2.06 2.06-.94-2.06-.94-.94-2.06-.94 2.06-2.06.94z\"/><path d=\"M17.41 7.96l-1.37-1.37c-.4-.4-.92-.59-1.43-.59-.52 0-1.04.2-1.43.59L10.3 9.45l-7.72 7.72c-.78.78-.78 2.05 0 2.83L4 21.41c.39.39.9.59 1.41.59.51 0 1.02-.2 1.41-.59l7.78-7.78 2.81-2.81c.8-.78.8-2.07 0-2.86zM5.41 20L4 18.59l7.72-7.72 1.47 1.35L5.41 20z\"/>\n",
       "  </svg>\n",
       "      </button>\n",
       "      \n",
       "  <style>\n",
       "    .colab-df-container {\n",
       "      display:flex;\n",
       "      flex-wrap:wrap;\n",
       "      gap: 12px;\n",
       "    }\n",
       "\n",
       "    .colab-df-convert {\n",
       "      background-color: #E8F0FE;\n",
       "      border: none;\n",
       "      border-radius: 50%;\n",
       "      cursor: pointer;\n",
       "      display: none;\n",
       "      fill: #1967D2;\n",
       "      height: 32px;\n",
       "      padding: 0 0 0 0;\n",
       "      width: 32px;\n",
       "    }\n",
       "\n",
       "    .colab-df-convert:hover {\n",
       "      background-color: #E2EBFA;\n",
       "      box-shadow: 0px 1px 2px rgba(60, 64, 67, 0.3), 0px 1px 3px 1px rgba(60, 64, 67, 0.15);\n",
       "      fill: #174EA6;\n",
       "    }\n",
       "\n",
       "    [theme=dark] .colab-df-convert {\n",
       "      background-color: #3B4455;\n",
       "      fill: #D2E3FC;\n",
       "    }\n",
       "\n",
       "    [theme=dark] .colab-df-convert:hover {\n",
       "      background-color: #434B5C;\n",
       "      box-shadow: 0px 1px 3px 1px rgba(0, 0, 0, 0.15);\n",
       "      filter: drop-shadow(0px 1px 2px rgba(0, 0, 0, 0.3));\n",
       "      fill: #FFFFFF;\n",
       "    }\n",
       "  </style>\n",
       "\n",
       "      <script>\n",
       "        const buttonEl =\n",
       "          document.querySelector('#df-3e6b87cb-03db-4ca7-a150-932912273b27 button.colab-df-convert');\n",
       "        buttonEl.style.display =\n",
       "          google.colab.kernel.accessAllowed ? 'block' : 'none';\n",
       "\n",
       "        async function convertToInteractive(key) {\n",
       "          const element = document.querySelector('#df-3e6b87cb-03db-4ca7-a150-932912273b27');\n",
       "          const dataTable =\n",
       "            await google.colab.kernel.invokeFunction('convertToInteractive',\n",
       "                                                     [key], {});\n",
       "          if (!dataTable) return;\n",
       "\n",
       "          const docLinkHtml = 'Like what you see? Visit the ' +\n",
       "            '<a target=\"_blank\" href=https://colab.research.google.com/notebooks/data_table.ipynb>data table notebook</a>'\n",
       "            + ' to learn more about interactive tables.';\n",
       "          element.innerHTML = '';\n",
       "          dataTable['output_type'] = 'display_data';\n",
       "          await google.colab.output.renderOutput(dataTable, element);\n",
       "          const docLink = document.createElement('div');\n",
       "          docLink.innerHTML = docLinkHtml;\n",
       "          element.appendChild(docLink);\n",
       "        }\n",
       "      </script>\n",
       "    </div>\n",
       "  </div>\n",
       "  "
      ],
      "text/plain": [
       "    Subject_Num  Diagnosis\n",
       "0             1      False\n",
       "1             2      False\n",
       "2             3      False\n",
       "3             4      False\n",
       "4             5      False\n",
       "5             6       True\n",
       "6             7      False\n",
       "7             8      False\n",
       "8             9      False\n",
       "9            10      False\n",
       "10           11       True\n",
       "11           12       True\n",
       "12           13      False\n",
       "13           14      False\n",
       "14           15      False\n",
       "15           16      False\n",
       "16           17       True\n",
       "17           18      False\n",
       "18           19      False\n",
       "19           20      False"
      ]
     },
     "execution_count": 5,
     "metadata": {},
     "output_type": "execute_result"
    }
   ],
   "source": [
    "# Diagnosis of 20 first subjects in the training set\n",
    "data_train_df = pd.read_csv('/content/drive/MyDrive/SC42140/training_labels.csv')\n",
    "data_train_df.head(20)"
   ]
  },
  {
   "cell_type": "code",
   "execution_count": 6,
   "metadata": {
    "executionInfo": {
     "elapsed": 6,
     "status": "ok",
     "timestamp": 1683700912340,
     "user": {
      "displayName": "Johnny M",
      "userId": "01154982244905029082"
     },
     "user_tz": -120
    },
    "id": "NxsHD0o4WxUV"
   },
   "outputs": [],
   "source": [
    "# Instantiation of MRIDataset class\n",
    "train_datasetLeftHC = MRIDataset('develop', data_train_df)"
   ]
  },
  {
   "cell_type": "code",
   "execution_count": 7,
   "metadata": {
    "colab": {
     "base_uri": "https://localhost:8080/"
    },
    "executionInfo": {
     "elapsed": 5,
     "status": "ok",
     "timestamp": 1683700912340,
     "user": {
      "displayName": "Johnny M",
      "userId": "01154982244905029082"
     },
     "user_tz": -120
    },
    "id": "ve9EGemM0hgZ",
    "outputId": "b880fa63-368d-4aa8-9ea4-ddc489515f3c"
   },
   "outputs": [
    {
     "name": "stdout",
     "output_type": "stream",
     "text": [
      "Diagnosis: 0\n",
      "MRI dataset: tensor([[[[0.8588, 0.8902, 0.8667,  ..., 0.9882, 0.9490, 0.9451],\n",
      "          [0.8627, 0.8863, 0.7804,  ..., 0.9765, 0.9255, 0.9529],\n",
      "          [0.7098, 0.7412, 0.4000,  ..., 0.9843, 0.9412, 0.9569],\n",
      "          ...,\n",
      "          [0.8510, 0.7255, 0.6157,  ..., 0.3020, 0.9569, 0.9882],\n",
      "          [0.9843, 0.9569, 0.9098,  ..., 0.7922, 0.9882, 0.9059],\n",
      "          [0.9804, 0.9922, 0.9961,  ..., 0.9569, 0.9804, 0.8941]],\n",
      "\n",
      "         [[0.9608, 0.9569, 0.9176,  ..., 0.9922, 0.9922, 0.9882],\n",
      "          [0.9490, 0.9373, 0.8275,  ..., 0.9804, 0.9529, 0.9686],\n",
      "          [0.8784, 0.7922, 0.6039,  ..., 0.9725, 0.9020, 0.9294],\n",
      "          ...,\n",
      "          [0.2157, 0.1098, 0.1647,  ..., 0.1569, 0.8235, 0.9882],\n",
      "          [0.4471, 0.4392, 0.6588,  ..., 0.3961, 0.9373, 0.9804],\n",
      "          [0.8431, 0.9176, 0.9843,  ..., 0.5412, 0.9059, 0.9686]],\n",
      "\n",
      "         [[0.9882, 0.9765, 0.9294,  ..., 0.9843, 0.9882, 0.9804],\n",
      "          [0.9804, 0.9569, 0.8353,  ..., 0.9922, 0.9765, 0.9765],\n",
      "          [0.9529, 0.8824, 0.7333,  ..., 0.9608, 0.9569, 0.9647],\n",
      "          ...,\n",
      "          [0.0078, 0.0980, 0.5490,  ..., 0.1020, 0.3529, 0.8431],\n",
      "          [0.0980, 0.4392, 0.8824,  ..., 0.1294, 0.3804, 0.7569],\n",
      "          [0.6588, 0.8980, 0.9882,  ..., 0.0745, 0.3176, 0.4627]],\n",
      "\n",
      "         ...,\n",
      "\n",
      "         [[0.0863, 0.0196, 0.0000,  ..., 0.8941, 0.3765, 0.2745],\n",
      "          [0.0275, 0.0000, 0.0000,  ..., 0.5294, 0.0353, 0.0118],\n",
      "          [0.0000, 0.0000, 0.0000,  ..., 0.2235, 0.0157, 0.0196],\n",
      "          ...,\n",
      "          [0.0196, 0.0000, 0.0000,  ..., 0.4941, 0.9373, 0.9922],\n",
      "          [0.0000, 0.0000, 0.0000,  ..., 0.8471, 0.9843, 1.0000],\n",
      "          [0.0000, 0.0000, 0.0000,  ..., 0.9882, 0.9961, 1.0000]],\n",
      "\n",
      "         [[0.1804, 0.0431, 0.0314,  ..., 0.8627, 0.2588, 0.5412],\n",
      "          [0.0314, 0.0039, 0.0000,  ..., 0.7451, 0.1725, 0.0902],\n",
      "          [0.0000, 0.0039, 0.0000,  ..., 0.6941, 0.1216, 0.0157],\n",
      "          ...,\n",
      "          [0.0000, 0.0000, 0.0000,  ..., 0.9765, 0.9922, 0.9961],\n",
      "          [0.0000, 0.0000, 0.0000,  ..., 0.9961, 0.9961, 0.9961],\n",
      "          [0.0000, 0.0000, 0.0000,  ..., 1.0000, 0.9961, 0.9961]],\n",
      "\n",
      "         [[0.2353, 0.0196, 0.0235,  ..., 0.9608, 0.8745, 0.9647],\n",
      "          [0.2784, 0.0118, 0.0039,  ..., 0.8353, 0.4745, 0.5490],\n",
      "          [0.1294, 0.0235, 0.0039,  ..., 0.8549, 0.1843, 0.0627],\n",
      "          ...,\n",
      "          [0.0000, 0.0000, 0.0000,  ..., 0.8314, 0.9059, 0.8588],\n",
      "          [0.0000, 0.0000, 0.0000,  ..., 0.9490, 0.9647, 0.9529],\n",
      "          [0.0000, 0.0000, 0.0000,  ..., 0.9882, 0.9804, 0.9686]]]])\n"
     ]
    }
   ],
   "source": [
    "# Example for one study participant\n",
    "index = 0\n",
    "print('Diagnosis: ' + str(train_datasetLeftHC[index]['label']))\n",
    "print('MRI dataset: ' + str(train_datasetLeftHC[index]['image']))"
   ]
  },
  {
   "cell_type": "code",
   "execution_count": null,
   "metadata": {
    "id": "tjA5GT_cYxM7"
   },
   "outputs": [],
   "source": []
  },
  {
   "cell_type": "markdown",
   "metadata": {
    "id": "_OgihfS6f9D4"
   },
   "source": [
    "#### Visualization of left hippocampus MRI data"
   ]
  },
  {
   "cell_type": "code",
   "execution_count": 8,
   "metadata": {
    "executionInfo": {
     "elapsed": 5,
     "status": "ok",
     "timestamp": 1683700912341,
     "user": {
      "displayName": "Johnny M",
      "userId": "01154982244905029082"
     },
     "user_tz": -120
    },
    "id": "xBCVG6dDRt55"
   },
   "outputs": [],
   "source": [
    "def show_slices(slices):\n",
    "    \"\"\" Function to display a row of image slices \"\"\"\n",
    "    fig, axes = plt.subplots(1, len(slices), dpi=100)\n",
    "    fig.tight_layout(pad=1)\n",
    "    for i, slice in enumerate(slices):\n",
    "        axes[i].imshow(slice.T, cmap=\"gray\", origin=\"lower\")"
   ]
  },
  {
   "cell_type": "code",
   "execution_count": 9,
   "metadata": {
    "colab": {
     "base_uri": "https://localhost:8080/",
     "height": 553
    },
    "executionInfo": {
     "elapsed": 2430,
     "status": "ok",
     "timestamp": 1683700919048,
     "user": {
      "displayName": "Johnny M",
      "userId": "01154982244905029082"
     },
     "user_tz": -120
    },
    "id": "cIp8z2abhb5s",
    "outputId": "caf0a150-acde-4363-aa46-24e5590327e9"
   },
   "outputs": [
    {
     "data": {
      "image/png": "[encoded data removed]",
      "text/plain": [
       "<Figure size 640x480 with 3 Axes>"
      ]
     },
     "metadata": {},
     "output_type": "display_data"
    },
    {
     "data": {
      "image/png": "[encoded data removed]",
      "text/plain": [
       "<Figure size 640x480 with 3 Axes>"
      ]
     },
     "metadata": {},
     "output_type": "display_data"
    }
   ],
   "source": [
    "# Plot slices of healthy left hippocampus\n",
    "leftHC_pt = train_datasetLeftHC[0]['image']\n",
    "slice_0 = leftHC_pt[0, 15, :, :]\n",
    "slice_1 = leftHC_pt[0, :, 20, :]\n",
    "slice_2 = leftHC_pt[0, :, :, 15]\n",
    "show_slices([slice_0, slice_1, slice_2])\n",
    "plt.title(\"Left hippocampus of participant \" + train_datasetLeftHC[0]['participant_id'] + \" who is cognitively normal\")\n",
    "plt.show()\n",
    "\n",
    "leftHC_pt = train_datasetLeftHC[18]['image']\n",
    "slice_0 = leftHC_pt[0, 15, :, :]\n",
    "slice_1 = leftHC_pt[0, :, 20, :]\n",
    "slice_2 = leftHC_pt[0, :, :, 15]\n",
    "show_slices([slice_0, slice_1, slice_2])\n",
    "plt.title(\"Left hippocampus of participant \" + train_datasetLeftHC[18]['participant_id'] + \" who is cognitively normal\")\n",
    "plt.show()"
   ]
  },
  {
   "cell_type": "code",
   "execution_count": 10,
   "metadata": {
    "colab": {
     "base_uri": "https://localhost:8080/",
     "height": 553
    },
    "executionInfo": {
     "elapsed": 1799,
     "status": "ok",
     "timestamp": 1683700923165,
     "user": {
      "displayName": "Johnny M",
      "userId": "01154982244905029082"
     },
     "user_tz": -120
    },
    "id": "7YzBrYRQhcD4",
    "outputId": "058f1dca-55ef-48e1-df02-8865e85f465a"
   },
   "outputs": [
    {
     "data": {
      "image/png": "[encoded data removed]",
      "text/plain": [
       "<Figure size 640x480 with 3 Axes>"
      ]
     },
     "metadata": {},
     "output_type": "display_data"
    },
    {
     "data": {
      "image/png": "[encoded data removed]",
      "text/plain": [
       "<Figure size 640x480 with 3 Axes>"
      ]
     },
     "metadata": {},
     "output_type": "display_data"
    }
   ],
   "source": [
    "# Plot slices of diseased left hippocampus \n",
    "leftHC_pt = train_datasetLeftHC[5]['image']\n",
    "slice_0 = leftHC_pt[0, 15, :, :]\n",
    "slice_1 = leftHC_pt[0, :, 20, :]\n",
    "slice_2 = leftHC_pt[0, :, :, 15]\n",
    "show_slices([slice_0, slice_1, slice_2])\n",
    "plt.title(\"Left hippocampus of participant \" + train_datasetLeftHC[5]['participant_id'] + \" who has Alzheimer's disease\")\n",
    "plt.show()\n",
    "\n",
    "leftHC_pt = train_datasetLeftHC[12]['image']\n",
    "slice_0 = leftHC_pt[0, 15, :, :]\n",
    "slice_1 = leftHC_pt[0, :, 20, :]\n",
    "slice_2 = leftHC_pt[0, :, :, 15]\n",
    "show_slices([slice_0, slice_1, slice_2])\n",
    "plt.title(\"Left hippocampus of participant \" + train_datasetLeftHC[12]['participant_id'] + \" who has Alzheimer's disease\")\n",
    "plt.show()"
   ]
  },
  {
   "cell_type": "code",
   "execution_count": null,
   "metadata": {
    "id": "k8WhDxMClidG"
   },
   "outputs": [],
   "source": []
  },
  {
   "cell_type": "markdown",
   "metadata": {
    "id": "kwdpAX0tz2Zu"
   },
   "source": [
    "## **Convolutional neural network architecture**"
   ]
  },
  {
   "cell_type": "markdown",
   "metadata": {
    "id": "YKJABtOSNakA"
   },
   "source": [
    "#### Feature maps\n",
    "\n",
    "The outputs of the layers in a convolutional network are called feature maps.\n",
    "Their size is written with the format: \n",
    "\n",
    "> `n_channels @ dim1 x dim2 x dim3`\n",
    "\n",
    "For a 3D CNN the dimension of the feature maps is actually 5D as the first\n",
    "dimension is the batch size. This dimension is added by the `DataLoader` of\n",
    "Pytorch which stacks the 4D tensors computed by a `Dataset`."
   ]
  },
  {
   "cell_type": "markdown",
   "metadata": {
    "id": "nK26HVAzNanP"
   },
   "source": [
    "#### Convolutions (`nn.Conv3d`)\n",
    "\n",
    "The main arguments of this layer are the input channels, the output channels\n",
    "(number of filters trained) and the size of the filter (or kernel). If an\n",
    "integer `k` is given the kernel will be a cube of size `k`. It is possible to\n",
    "construct rectangular kernels by entering a tuple (but this is very rare).\n",
    "\n",
    "You will find below an illustration of how a single filter produces its\n",
    "output feature map by parsing the one feature map. The size of the output\n",
    "feature map produced depends of the convolution parameters and can be\n",
    "computed with the following formula:\n",
    "\n",
    "> $O_i = \\frac{I_i-k+2P}{S} + 1$\n",
    "\n",
    "*   $O_i$ the size of the output along the ith dimension\n",
    "*   $I_i$ the size of the input along the ith dimension\n",
    "*   $k$ the size of the kernel\n",
    "*   $P$ the padding value\n",
    "*   $S$ the stride value\n",
    "\n",
    "To be able to parse all the feature maps of the input, one filter is actually\n",
    "a 4D tensor of size `(input_channels, k, k, k)`. The ensemble of all the\n",
    "filters included in one convolutional layer is then a 5D tensor stacking all\n",
    "the filters of size `(output_channels, input_channels, k, k, k)`.\n",
    "\n",
    "Each filter is also associated to one bias value that is a scalar added to\n",
    "all the feature maps it produces. Then the bias is a 1D vector of size\n",
    "`output_channels`."
   ]
  },
  {
   "cell_type": "markdown",
   "metadata": {
    "id": "lKauxj5UOdSj"
   },
   "source": [
    "#### Batch Normalization (`nn.BatchNorm3d`)\n",
    "\n",
    "Normalization of feature maps. The following formula is applied on\n",
    "each feature map  $FM_i$:\n",
    "\n",
    "> $FM^{normalized}_i = \\frac{FM_i - mean(FM_i)}{\\sqrt{var(FM_i) + \\epsilon}} * \\gamma_i + \\beta_i$\n",
    "\n",
    "*   $\\epsilon$ is a hyperparameter of the layer (default=1e-05)\n",
    "*   $\\gamma_i$ is the value of the scale for the ith channel (learnable parameter)\n",
    "*   $\\beta_i$ is the value of the shift for the ith channel (learnable parameter)\n",
    "\n",
    "This layer does not have the same behaviour during training and evaluation,\n",
    "this is why it is needed to put the model in evaluation mode in the test\n",
    "function with the command `.eval()`"
   ]
  },
  {
   "cell_type": "markdown",
   "metadata": {
    "id": "qXpZwG_KOl1z"
   },
   "source": [
    "#### Activation function (`nn.LeakyReLU`)\n",
    "\n",
    "In order to introduce non-linearity in the model, an activation function is\n",
    "introduced after the convolutions. It is applied on all intensities\n",
    "independently."
   ]
  },
  {
   "cell_type": "markdown",
   "metadata": {
    "id": "2rmAK6k8O85s"
   },
   "source": [
    "#### Pooling function (`PadMaxPool3d`)\n",
    "\n",
    "The structure of the pooling layer is very similar to the convolutional\n",
    "layer: a kernel is passing through the input with a defined size and stride.\n",
    "However there is no learnable parameters in this layer, the kernel outputing\n",
    "the maximum value of the part of the feature map it covers.\n",
    "\n",
    "Here is an example in 2D of the standard layer of pytorch `nn.MaxPool2d`:\n",
    "\n",
    "![nn.MaxPool2d behaviour](https://drive.google.com/uc?id=1qh9M9r9mfpZeSD1VjOGQAl8zWqBLmcKz)\n",
    "\n",
    "We can observe that the last column may not be used depending on the size of\n",
    "the kernel/input and stride value.\n",
    "\n",
    "This is why the custom module `PadMaxPool` was defined to pad the input in\n",
    "order to exploit information from the whole feature map."
   ]
  },
  {
   "cell_type": "code",
   "execution_count": 11,
   "metadata": {
    "executionInfo": {
     "elapsed": 632,
     "status": "ok",
     "timestamp": 1683700942011,
     "user": {
      "displayName": "Johnny M",
      "userId": "01154982244905029082"
     },
     "user_tz": -120
    },
    "id": "aOsNtSCBz1vM"
   },
   "outputs": [],
   "source": [
    "class PadMaxPool3d(nn.Module):\n",
    "    \"\"\"A MaxPooling module which deals with odd sizes with padding\"\"\"\n",
    "    def __init__(self, kernel_size, stride, return_indices=False, return_pad=False):\n",
    "        super(PadMaxPool3d, self).__init__()\n",
    "        self.kernel_size = kernel_size\n",
    "        self.stride = stride\n",
    "        self.pool = nn.MaxPool3d(kernel_size, stride, return_indices=return_indices)\n",
    "        self.pad = nn.ConstantPad3d(padding=0, value=0)\n",
    "        self.return_indices = return_indices\n",
    "        self.return_pad = return_pad\n",
    "\n",
    "    def set_new_return(self, return_indices=True, return_pad=True):\n",
    "        self.return_indices = return_indices\n",
    "        self.return_pad = return_pad\n",
    "        self.pool.return_indices = return_indices\n",
    "\n",
    "    def forward(self, f_maps):\n",
    "        coords = [self.stride - f_maps.size(i + 2) % self.stride for i in range(3)]\n",
    "        for i, coord in enumerate(coords):\n",
    "            if coord == self.stride:\n",
    "                coords[i] = 0 \n",
    "                \n",
    "        self.pad.padding = (coords[2], 0, coords[1], 0, coords[0], 0)\n",
    "        \n",
    "        if self.return_indices:\n",
    "            output, indices = self.pool(self.pad(f_maps))\n",
    "\n",
    "            if self.return_pad:\n",
    "                return output, indices, (coords[2], 0, coords[1], 0, coords[0], 0)\n",
    "            else:\n",
    "                return output, indices\n",
    "\n",
    "        else:\n",
    "            output = self.pool(self.pad(f_maps))\n",
    "\n",
    "            if self.return_pad:\n",
    "                return output, (coords[2], 0, coords[1], 0, coords[0], 0)\n",
    "            else:\n",
    "                return output"
   ]
  },
  {
   "cell_type": "markdown",
   "metadata": {
    "id": "ylsQTcCYPLy2"
   },
   "source": [
    "Here is an illustration of `PadMaxPool` behaviour. If the number of columns is odd, a column is added to avoid\n",
    "losing data:\n",
    "\n",
    "<a href=\"PadMaxPool behaviour\"><img src=\"https://drive.google.com/uc?id=14R_LCTiV0N6ZXm-3wQCj_Gtc1LsXdQq_\" style=\"height: 200px;\"></a>\n",
    "\n",
    "Similarly, the formula to find the size of the output feature map is:\n",
    "\n",
    "> $O_i = ceil(\\frac{I_i-k+2P}{S}) + 1$"
   ]
  },
  {
   "cell_type": "markdown",
   "metadata": {
    "id": "d1L1DvDYPQwk"
   },
   "source": [
    "#### Dropout (`nn.Dropout`) \n",
    "The aim of a dropout layer is to replace a fixed proportion of the input\n",
    "values by 0 during training only.\n",
    "\n",
    "This layer does not have the same behaviour during training and evaluation,\n",
    "this is why it is needed to put the model in evaluation mode in the test\n",
    "function with the command `.eval()`"
   ]
  },
  {
   "cell_type": "code",
   "execution_count": 12,
   "metadata": {
    "colab": {
     "base_uri": "https://localhost:8080/"
    },
    "executionInfo": {
     "elapsed": 5,
     "status": "ok",
     "timestamp": 1683700949038,
     "user": {
      "displayName": "Johnny M",
      "userId": "01154982244905029082"
     },
     "user_tz": -120
    },
    "id": "x7zAMjUEPWGj",
    "outputId": "7040842c-4d98-45fe-b7b4-771def50afb1"
   },
   "outputs": [
    {
     "name": "stdout",
     "output_type": "stream",
     "text": [
      "Input \n",
      " tensor([0.3854, 0.0815, 0.4156, 0.4068, 0.4300, 0.2245, 0.4402, 0.1334, 0.0914,\n",
      "        0.4868])\n",
      "\n",
      "Output \n",
      " tensor([0.0000, 0.1631, 0.8311, 0.8137, 0.8600, 0.0000, 0.8805, 0.0000, 0.0000,\n",
      "        0.9737])\n"
     ]
    }
   ],
   "source": [
    "dropout = nn.Dropout(0.5)\n",
    "input_tensor = torch.rand(10)\n",
    "output_tensor = dropout(input_tensor)\n",
    "print(\"Input \\n\", input_tensor)\n",
    "print()\n",
    "print(\"Output \\n\", output_tensor)"
   ]
  },
  {
   "cell_type": "markdown",
   "metadata": {
    "id": "VeAV7sJaPVqG"
   },
   "source": [
    "#### Fully-Connected Layers (`nn.Linear`)\n",
    "\n",
    "The fully connected layers take as input 2D vectors of size `(batch_size,\n",
    "N)`. They have two mandatory arguments, the number of values per batch of the\n",
    "input and the number of values per batch of the output.\n",
    "\n",
    "Each output neuron in a FC layer is a linear combination of the inputs + a\n",
    "bias."
   ]
  },
  {
   "cell_type": "code",
   "execution_count": 36,
   "metadata": {
    "colab": {
     "base_uri": "https://localhost:8080/"
    },
    "executionInfo": {
     "elapsed": 4,
     "status": "ok",
     "timestamp": 1683701399468,
     "user": {
      "displayName": "Johnny M",
      "userId": "01154982244905029082"
     },
     "user_tz": -120
    },
    "id": "4o_FVC3Tz1xz",
    "outputId": "cab0a559-93cd-4a50-bfbc-179a842b7381"
   },
   "outputs": [
    {
     "name": "stdout",
     "output_type": "stream",
     "text": [
      "Weights shape \n",
      " torch.Size([2, 16])\n",
      "\n",
      "Bias shape \n",
      " torch.Size([2])\n"
     ]
    }
   ],
   "source": [
    "fc = nn.Linear(16, 2)\n",
    "print(\"Weights shape \\n\", fc.weight.shape)\n",
    "print()\n",
    "print(\"Bias shape \\n\", fc.bias.shape)"
   ]
  },
  {
   "cell_type": "markdown",
   "metadata": {
    "id": "4nMVORzWPbzv"
   },
   "source": [
    "#### Network design\n",
    "Construct here the network corresponding to the scheme and the following\n",
    "description:\n",
    "\n",
    "![Scheme of the network](https://drive.google.com/uc?id=1Qi-ictqudBX4ToBXzqT5w57RHrkn3MPR)\n",
    "\n",
    "The network includes 3 convolutional blocks composed by a convolutional layer\n",
    "(kernel size = 3, padding = 1, stride = 1), a batch normalization, a\n",
    "LeakyReLU activation and a MaxPooling layer. The 3 successive layers include\n",
    "respectively 8, 16 and 32 filters. Then, the feature maps array is flattened in a 1D array to enter a fully-connected layer. Between the convolutional and the fully-connected layers, a dropout layer with a dropout rate of 0.5 is inserted.\n",
    "\n",
    "You need to create the layers composing the neural network hereunder:"
   ]
  },
  {
   "cell_type": "code",
   "execution_count": 37,
   "metadata": {
    "executionInfo": {
     "elapsed": 2,
     "status": "ok",
     "timestamp": 1683701401411,
     "user": {
      "displayName": "Johnny M",
      "userId": "01154982244905029082"
     },
     "user_tz": -120
    },
    "id": "EbO5XmCkOh6W"
   },
   "outputs": [],
   "source": [
    "class CustomNetwork(nn.Module):\n",
    "    def __init__(self):\n",
    "        super(CustomNetwork, self).__init__()\n",
    "        # Define the convolutional blocks\n",
    "        self.conv_blocks = nn.Sequential(\n",
    "            nn.Conv3d(1, 8, kernel_size=3, stride=1, padding=1),\n",
    "            nn.BatchNorm3d(8),\n",
    "            nn.LeakyReLU(),\n",
    "            PadMaxPool3d(kernel_size=2, stride=2),\n",
    "            nn.Conv3d(8, 16, kernel_size=3, stride=1, padding=1),\n",
    "            nn.BatchNorm3d(16),\n",
    "            nn.LeakyReLU(),\n",
    "            PadMaxPool3d(kernel_size=2, stride=2),\n",
    "            nn.Conv3d(16, 32, kernel_size=3, stride=1, padding=1),\n",
    "            nn.BatchNorm3d(32),\n",
    "            nn.LeakyReLU(),\n",
    "            PadMaxPool3d(kernel_size=2, stride=2),\n",
    "        )\n",
    "        \n",
    "        self.flatten = nn.Flatten()\n",
    "        self.dropout = nn.Dropout3d(p=0.5)\n",
    "        self.fc = nn.Linear(2560, 2)\n",
    "\n",
    "    def forward(self, x):\n",
    "        # Pass the input through the convolutional blocks\n",
    "        x = self.conv_blocks(x)\n",
    "\n",
    "        # Flatten the output from the convolutional blocks\n",
    "        x = x.view(x.size(0), -1)\n",
    "\n",
    "        # Apply dropout\n",
    "        x = self.dropout(x)\n",
    "\n",
    "        # Pass the output through the fully-connected layer\n",
    "        x = self.fc(x)\n",
    "\n",
    "        return x\n"
   ]
  },
  {
   "cell_type": "markdown",
   "metadata": {
    "id": "UirqcGkdPvkL"
   },
   "source": [
    "#### Train & Test\n",
    "\n",
    "Complete the `train` method in order to iteratively update the weights of the\n",
    "network. Here the model leading to the lowest loss on the training set at the end of an epoch is returned. The `test` and the 'compute_metrics' methods are provided. "
   ]
  },
  {
   "cell_type": "code",
   "execution_count": 38,
   "metadata": {
    "executionInfo": {
     "elapsed": 1380,
     "status": "ok",
     "timestamp": 1683701404327,
     "user": {
      "displayName": "Johnny M",
      "userId": "01154982244905029082"
     },
     "user_tz": -120
    },
    "id": "2trfKrxSrsz2"
   },
   "outputs": [],
   "source": [
    "def compute_metrics(ground_truth, prediction):\n",
    "    \"\"\"Computes the accuracy, sensitivity, specificity and balanced accuracy\"\"\"\n",
    "    tp = np.sum((prediction == 1) & (ground_truth == 1))\n",
    "    tn = np.sum((prediction == 0) & (ground_truth == 0))\n",
    "    fp = np.sum((prediction == 1) & (ground_truth == 0))\n",
    "    fn = np.sum((prediction == 0) & (ground_truth == 1))\n",
    "   \n",
    "    metrics_classification = dict()\n",
    "    metrics_classification['accuracy'] = (tp + tn) / (tp + tn + fp + fn)\n",
    "   \n",
    "    # Precision \n",
    "    if tp + fp !=0: \n",
    "      metrics_classification['precision'] = tp / (tp + fp)\n",
    "    else: \n",
    "      metrics_classification['precision'] = 0.0\n",
    "\n",
    "    # Recall or sensitivity \n",
    "    if tp + fn != 0:\n",
    "      metrics_classification['recall'] = tp / (tp + fn)\n",
    "    else:\n",
    "      metrics_classification['recall'] = 0.0\n",
    "       \n",
    "    # Specificity \n",
    "    if fp + tn != 0:\n",
    "      metrics_classification['specificity'] = tn / (fp + tn)\n",
    "    else:\n",
    "      metrics_classification['specificity'] = 0.0\n",
    "       \n",
    "    if metrics_classification['precision'] + metrics_classification['recall'] != 0: \n",
    "      metrics_classification['F1-score'] = 2 * metrics_classification['precision'] * metrics_classification['recall'] / (metrics_classification['precision'] + metrics_classification['recall'])\n",
    "    else: \n",
    "      metrics_classification['F1-score'] = 0 \n",
    "    metrics_classification['balanced_accuracy'] = (metrics_classification['recall'] + metrics_classification['specificity']) / 2\n",
    "   \n",
    "    return metrics_classification"
   ]
  },
  {
   "cell_type": "code",
   "execution_count": 39,
   "metadata": {
    "executionInfo": {
     "elapsed": 2,
     "status": "ok",
     "timestamp": 1683701405519,
     "user": {
      "displayName": "Johnny M",
      "userId": "01154982244905029082"
     },
     "user_tz": -120
    },
    "id": "eWnKr8mlYobf"
   },
   "outputs": [],
   "source": [
    "def test(model, data_loader, criterion):\n",
    "    \"\"\"\n",
    "    Method used to test the convolutional neural network classification model\n",
    "    \n",
    "    Args:\n",
    "        model: (nn.Module) the neural network\n",
    "        data_loader: (DataLoader) a DataLoader wrapping a MRIDataset\n",
    "        criterion: (nn.Module) a method to compute the loss of a mini-batch of images\n",
    "    \n",
    "    Returns:\n",
    "        results_df: (DataFrame) the label predicted for every subject\n",
    "        results_metrics: (dict) a set of metrics\n",
    "    \"\"\"\n",
    "    model.eval()\n",
    "    columns = [\"participant_id\", \"proba0\", \"proba1\", \"true_label\", \"predicted_label\"]\n",
    "    results_df = pd.DataFrame(columns=columns)\n",
    "    total_loss = 0\n",
    "    \n",
    "    with torch.no_grad():\n",
    "        for i, data in enumerate(data_loader, 0):\n",
    "            images, labels = data['image'].cuda(), data['label'].cuda()\n",
    "            outputs = model(images)\n",
    "            loss = criterion(outputs, labels)\n",
    "            total_loss += loss.item()\n",
    "            probs = nn.Softmax(dim=1)(outputs)\n",
    "            _, predicted = torch.max(outputs.data, 1)\n",
    "\n",
    "            for idx, sub in enumerate(data['participant_id']):\n",
    "                row = [sub, probs[idx, 0].item(), probs[idx, 1].item(), labels[idx].item(), predicted[idx].item()]\n",
    "                row_df = pd.DataFrame([row], columns=columns)\n",
    "                results_df = pd.concat([results_df, row_df])\n",
    "\n",
    "    results_metrics = compute_metrics(results_df.true_label.values, results_df.predicted_label.values)\n",
    "    results_df.reset_index(inplace=True, drop=True)\n",
    "    results_metrics['mean_loss'] = total_loss / len(data_loader.dataset)\n",
    "    \n",
    "    return results_df, results_metrics"
   ]
  },
  {
   "cell_type": "code",
   "execution_count": 40,
   "metadata": {
    "executionInfo": {
     "elapsed": 2,
     "status": "ok",
     "timestamp": 1683701408675,
     "user": {
      "displayName": "Johnny M",
      "userId": "01154982244905029082"
     },
     "user_tz": -120
    },
    "id": "69ACgTjmBNo1"
   },
   "outputs": [],
   "source": [
    "def train(model, train_loader, criterion, optimizer, n_epochs):\n",
    "    \"\"\"\n",
    "    Method used to train the convolutional neural network classification model\n",
    "    \n",
    "    Args:\n",
    "        model: (nn.Module) the neural network\n",
    "        train_loader: (DataLoader) a DataLoader wrapping a MRIDataset\n",
    "        criterion: (nn.Module) a method to compute the loss of a mini-batch of images\n",
    "        optimizer: (torch.optim) an optimization algorithm\n",
    "        n_epochs: (int) number of epochs performed during training\n",
    "\n",
    "    Returns:\n",
    "        best_model: (nn.Module) the trained neural network\n",
    "    \"\"\"\n",
    "    best_model = deepcopy(model)\n",
    "    train_best_loss = np.inf\n",
    "\n",
    "    for epoch in range(n_epochs):\n",
    "        model.train()\n",
    "\n",
    "        for i, data in enumerate(train_loader, 0):\n",
    "            # Q: Complete the training iteration\n",
    "\n",
    "            # Unpack inputs and labels and ignore additional elements\n",
    "            inputs, labels, *_ = data\n",
    "\n",
    "            # Ensure that inputs and labels are tensors\n",
    "            inputs, labels = data['image'].cuda(), data['label'].cuda()\n",
    "\n",
    "            optimizer.zero_grad()\n",
    "\n",
    "            # Forward pass\n",
    "            outputs = model(inputs)\n",
    "            loss = criterion(outputs, labels)\n",
    "\n",
    "            # Backward pass and optimization\n",
    "            loss.backward()\n",
    "            optimizer.step()\n",
    "\n",
    "        _, train_metrics = test(model, train_loader, criterion)\n",
    "\n",
    "        print(f\"Epoch {epoch}: loss = {train_metrics['mean_loss']:.4f}, \"\n",
    "              f\"accuracy = {train_metrics['accuracy']:.4f}, \"\n",
    "              f\"F1-score = {train_metrics['F1-score']:.4f}\")\n",
    "\n",
    "        if train_metrics['mean_loss'] < train_best_loss:\n",
    "            best_model = deepcopy(model)\n",
    "            train_best_loss = train_metrics['mean_loss']\n",
    "    \n",
    "    return best_model\n"
   ]
  },
  {
   "cell_type": "markdown",
   "metadata": {
    "id": "fM1PHhMgQOr8"
   },
   "source": [
    "## **Model training and prediction**\n",
    "\n",
    "\n"
   ]
  },
  {
   "cell_type": "markdown",
   "metadata": {
    "id": "FyKRrrAxeJkI"
   },
   "source": [
    "#### Hyperparameter choice \n",
    "\n",
    "All hyperparameters influence the classification model training process, but one of the most important is the learning rate. Try different learning rate between $10 ^{-6}$ and $10 ^{-2}$ and observe the differences of loss variations during training. To increase the training speed you can also increase the batch size. Observe how these different choices of hyperparameters affect convergence."
   ]
  },
  {
   "cell_type": "code",
   "execution_count": 97,
   "metadata": {
    "executionInfo": {
     "elapsed": 284,
     "status": "ok",
     "timestamp": 1683702306799,
     "user": {
      "displayName": "Johnny M",
      "userId": "01154982244905029082"
     },
     "user_tz": -120
    },
    "id": "Fc-9Ocnzz2Iy"
   },
   "outputs": [],
   "source": [
    "# Hyperparameter choice \n",
    "learning_rate = 10**-3\n",
    "n_epochs = 100\n",
    "batch_size = 41"
   ]
  },
  {
   "cell_type": "code",
   "execution_count": 98,
   "metadata": {
    "colab": {
     "base_uri": "https://localhost:8080/"
    },
    "executionInfo": {
     "elapsed": 5,
     "status": "ok",
     "timestamp": 1683702309151,
     "user": {
      "displayName": "Johnny M",
      "userId": "01154982244905029082"
     },
     "user_tz": -120
    },
    "id": "SRTvRDLkpux_",
    "outputId": "9d9325f1-03e4-4871-f228-62a7284918fe"
   },
   "outputs": [
    {
     "name": "stdout",
     "output_type": "stream",
     "text": [
      "----------------------------------------------------------------\n",
      "        Layer (type)               Output Shape         Param #\n",
      "================================================================\n",
      "            Conv3d-1        [-1, 8, 30, 40, 30]             224\n",
      "       BatchNorm3d-2        [-1, 8, 30, 40, 30]              16\n",
      "         LeakyReLU-3        [-1, 8, 30, 40, 30]               0\n",
      "     ConstantPad3d-4        [-1, 8, 30, 40, 30]               0\n",
      "         MaxPool3d-5        [-1, 8, 15, 20, 15]               0\n",
      "      PadMaxPool3d-6        [-1, 8, 15, 20, 15]               0\n",
      "            Conv3d-7       [-1, 16, 15, 20, 15]           3,472\n",
      "       BatchNorm3d-8       [-1, 16, 15, 20, 15]              32\n",
      "         LeakyReLU-9       [-1, 16, 15, 20, 15]               0\n",
      "    ConstantPad3d-10       [-1, 16, 16, 20, 16]               0\n",
      "        MaxPool3d-11         [-1, 16, 8, 10, 8]               0\n",
      "     PadMaxPool3d-12         [-1, 16, 8, 10, 8]               0\n",
      "           Conv3d-13         [-1, 32, 8, 10, 8]          13,856\n",
      "      BatchNorm3d-14         [-1, 32, 8, 10, 8]              64\n",
      "        LeakyReLU-15         [-1, 32, 8, 10, 8]               0\n",
      "    ConstantPad3d-16         [-1, 32, 8, 10, 8]               0\n",
      "        MaxPool3d-17          [-1, 32, 4, 5, 4]               0\n",
      "     PadMaxPool3d-18          [-1, 32, 4, 5, 4]               0\n",
      "        Dropout3d-19                 [-1, 2560]               0\n",
      "           Linear-20                    [-1, 2]           5,122\n",
      "================================================================\n",
      "Total params: 22,786\n",
      "Trainable params: 22,786\n",
      "Non-trainable params: 0\n",
      "----------------------------------------------------------------\n",
      "Input size (MB): 0.14\n",
      "Forward/backward pass size (MB): 12.45\n",
      "Params size (MB): 0.09\n",
      "Estimated Total Size (MB): 12.68\n",
      "----------------------------------------------------------------\n"
     ]
    },
    {
     "name": "stderr",
     "output_type": "stream",
     "text": [
      "/usr/local/lib/python3.10/dist-packages/torch/nn/functional.py:1375: UserWarning: dropout3d: Received a 2-D input to dropout3d, which is deprecated and will result in an error in a future release. To retain the behavior and silence this warning, please use dropout instead. Note that dropout3d exists to provide channel-wise dropout on inputs with 3 spatial dimensions, a channel dimension, and an optional batch dimension (i.e. 4D or 5D inputs).\n",
      "  warnings.warn(warn_msg)\n"
     ]
    }
   ],
   "source": [
    "# Send the neural network to the GPU\n",
    "modelLeftHC = CustomNetwork().cuda()\n",
    "\n",
    "# Neural network inspection\n",
    "summary(modelLeftHC, input_size=(1, 30, 40, 30))\n",
    "\n",
    "plt.show()"
   ]
  },
  {
   "cell_type": "code",
   "execution_count": 99,
   "metadata": {
    "colab": {
     "base_uri": "https://localhost:8080/"
    },
    "executionInfo": {
     "elapsed": 43389,
     "status": "ok",
     "timestamp": 1683702354754,
     "user": {
      "displayName": "Johnny M",
      "userId": "01154982244905029082"
     },
     "user_tz": -120
    },
    "id": "FLkj40F08jDy",
    "outputId": "89e0349b-d303-4681-dce2-cd98419317d3"
   },
   "outputs": [
    {
     "name": "stdout",
     "output_type": "stream",
     "text": [
      "<class 'torch.Tensor'> <class 'torch.Tensor'>\n",
      "<class 'torch.Tensor'> <class 'torch.Tensor'>\n",
      "<class 'torch.Tensor'> <class 'torch.Tensor'>\n",
      "<class 'torch.Tensor'> <class 'torch.Tensor'>\n",
      "<class 'torch.Tensor'> <class 'torch.Tensor'>\n",
      "<class 'torch.Tensor'> <class 'torch.Tensor'>\n"
     ]
    },
    {
     "name": "stderr",
     "output_type": "stream",
     "text": [
      "/usr/local/lib/python3.10/dist-packages/torch/nn/functional.py:1375: UserWarning: dropout3d: Received a 2-D input to dropout3d, which is deprecated and will result in an error in a future release. To retain the behavior and silence this warning, please use dropout instead. Note that dropout3d exists to provide channel-wise dropout on inputs with 3 spatial dimensions, a channel dimension, and an optional batch dimension (i.e. 4D or 5D inputs).\n",
      "  warnings.warn(warn_msg)\n",
      "/usr/local/lib/python3.10/dist-packages/torch/nn/functional.py:1375: UserWarning: dropout3d: Received a 2-D input to dropout3d, which is deprecated and will result in an error in a future release. To retain the behavior and silence this warning, please use dropout instead. Note that dropout3d exists to provide channel-wise dropout on inputs with 3 spatial dimensions, a channel dimension, and an optional batch dimension (i.e. 4D or 5D inputs).\n",
      "  warnings.warn(warn_msg)\n",
      "/usr/local/lib/python3.10/dist-packages/torch/nn/functional.py:1375: UserWarning: dropout3d: Received a 2-D input to dropout3d, which is deprecated and will result in an error in a future release. To retain the behavior and silence this warning, please use dropout instead. Note that dropout3d exists to provide channel-wise dropout on inputs with 3 spatial dimensions, a channel dimension, and an optional batch dimension (i.e. 4D or 5D inputs).\n",
      "  warnings.warn(warn_msg)\n"
     ]
    },
    {
     "name": "stdout",
     "output_type": "stream",
     "text": [
      "Epoch 0: loss = 0.5902, accuracy = 0.8000, F1-score = 0.0000\n"
     ]
    },
    {
     "name": "stderr",
     "output_type": "stream",
     "text": [
      "/usr/local/lib/python3.10/dist-packages/torch/nn/functional.py:1375: UserWarning: dropout3d: Received a 2-D input to dropout3d, which is deprecated and will result in an error in a future release. To retain the behavior and silence this warning, please use dropout instead. Note that dropout3d exists to provide channel-wise dropout on inputs with 3 spatial dimensions, a channel dimension, and an optional batch dimension (i.e. 4D or 5D inputs).\n",
      "  warnings.warn(warn_msg)\n",
      "/usr/local/lib/python3.10/dist-packages/torch/nn/functional.py:1375: UserWarning: dropout3d: Received a 2-D input to dropout3d, which is deprecated and will result in an error in a future release. To retain the behavior and silence this warning, please use dropout instead. Note that dropout3d exists to provide channel-wise dropout on inputs with 3 spatial dimensions, a channel dimension, and an optional batch dimension (i.e. 4D or 5D inputs).\n",
      "  warnings.warn(warn_msg)\n",
      "/usr/local/lib/python3.10/dist-packages/torch/nn/functional.py:1375: UserWarning: dropout3d: Received a 2-D input to dropout3d, which is deprecated and will result in an error in a future release. To retain the behavior and silence this warning, please use dropout instead. Note that dropout3d exists to provide channel-wise dropout on inputs with 3 spatial dimensions, a channel dimension, and an optional batch dimension (i.e. 4D or 5D inputs).\n",
      "  warnings.warn(warn_msg)\n",
      "/usr/local/lib/python3.10/dist-packages/torch/nn/functional.py:1375: UserWarning: dropout3d: Received a 2-D input to dropout3d, which is deprecated and will result in an error in a future release. To retain the behavior and silence this warning, please use dropout instead. Note that dropout3d exists to provide channel-wise dropout on inputs with 3 spatial dimensions, a channel dimension, and an optional batch dimension (i.e. 4D or 5D inputs).\n",
      "  warnings.warn(warn_msg)\n",
      "/usr/local/lib/python3.10/dist-packages/torch/nn/functional.py:1375: UserWarning: dropout3d: Received a 2-D input to dropout3d, which is deprecated and will result in an error in a future release. To retain the behavior and silence this warning, please use dropout instead. Note that dropout3d exists to provide channel-wise dropout on inputs with 3 spatial dimensions, a channel dimension, and an optional batch dimension (i.e. 4D or 5D inputs).\n",
      "  warnings.warn(warn_msg)\n",
      "/usr/local/lib/python3.10/dist-packages/torch/nn/functional.py:1375: UserWarning: dropout3d: Received a 2-D input to dropout3d, which is deprecated and will result in an error in a future release. To retain the behavior and silence this warning, please use dropout instead. Note that dropout3d exists to provide channel-wise dropout on inputs with 3 spatial dimensions, a channel dimension, and an optional batch dimension (i.e. 4D or 5D inputs).\n",
      "  warnings.warn(warn_msg)\n",
      "/usr/local/lib/python3.10/dist-packages/torch/nn/functional.py:1375: UserWarning: dropout3d: Received a 2-D input to dropout3d, which is deprecated and will result in an error in a future release. To retain the behavior and silence this warning, please use dropout instead. Note that dropout3d exists to provide channel-wise dropout on inputs with 3 spatial dimensions, a channel dimension, and an optional batch dimension (i.e. 4D or 5D inputs).\n",
      "  warnings.warn(warn_msg)\n",
      "/usr/local/lib/python3.10/dist-packages/torch/nn/functional.py:1375: UserWarning: dropout3d: Received a 2-D input to dropout3d, which is deprecated and will result in an error in a future release. To retain the behavior and silence this warning, please use dropout instead. Note that dropout3d exists to provide channel-wise dropout on inputs with 3 spatial dimensions, a channel dimension, and an optional batch dimension (i.e. 4D or 5D inputs).\n",
      "  warnings.warn(warn_msg)\n"
     ]
    },
    {
     "name": "stdout",
     "output_type": "stream",
     "text": [
      "Epoch 1: loss = 0.6063, accuracy = 0.8909, F1-score = 0.7551\n"
     ]
    },
    {
     "name": "stderr",
     "output_type": "stream",
     "text": [
      "/usr/local/lib/python3.10/dist-packages/torch/nn/functional.py:1375: UserWarning: dropout3d: Received a 2-D input to dropout3d, which is deprecated and will result in an error in a future release. To retain the behavior and silence this warning, please use dropout instead. Note that dropout3d exists to provide channel-wise dropout on inputs with 3 spatial dimensions, a channel dimension, and an optional batch dimension (i.e. 4D or 5D inputs).\n",
      "  warnings.warn(warn_msg)\n",
      "/usr/local/lib/python3.10/dist-packages/torch/nn/functional.py:1375: UserWarning: dropout3d: Received a 2-D input to dropout3d, which is deprecated and will result in an error in a future release. To retain the behavior and silence this warning, please use dropout instead. Note that dropout3d exists to provide channel-wise dropout on inputs with 3 spatial dimensions, a channel dimension, and an optional batch dimension (i.e. 4D or 5D inputs).\n",
      "  warnings.warn(warn_msg)\n",
      "/usr/local/lib/python3.10/dist-packages/torch/nn/functional.py:1375: UserWarning: dropout3d: Received a 2-D input to dropout3d, which is deprecated and will result in an error in a future release. To retain the behavior and silence this warning, please use dropout instead. Note that dropout3d exists to provide channel-wise dropout on inputs with 3 spatial dimensions, a channel dimension, and an optional batch dimension (i.e. 4D or 5D inputs).\n",
      "  warnings.warn(warn_msg)\n",
      "/usr/local/lib/python3.10/dist-packages/torch/nn/functional.py:1375: UserWarning: dropout3d: Received a 2-D input to dropout3d, which is deprecated and will result in an error in a future release. To retain the behavior and silence this warning, please use dropout instead. Note that dropout3d exists to provide channel-wise dropout on inputs with 3 spatial dimensions, a channel dimension, and an optional batch dimension (i.e. 4D or 5D inputs).\n",
      "  warnings.warn(warn_msg)\n",
      "/usr/local/lib/python3.10/dist-packages/torch/nn/functional.py:1375: UserWarning: dropout3d: Received a 2-D input to dropout3d, which is deprecated and will result in an error in a future release. To retain the behavior and silence this warning, please use dropout instead. Note that dropout3d exists to provide channel-wise dropout on inputs with 3 spatial dimensions, a channel dimension, and an optional batch dimension (i.e. 4D or 5D inputs).\n",
      "  warnings.warn(warn_msg)\n",
      "/usr/local/lib/python3.10/dist-packages/torch/nn/functional.py:1375: UserWarning: dropout3d: Received a 2-D input to dropout3d, which is deprecated and will result in an error in a future release. To retain the behavior and silence this warning, please use dropout instead. Note that dropout3d exists to provide channel-wise dropout on inputs with 3 spatial dimensions, a channel dimension, and an optional batch dimension (i.e. 4D or 5D inputs).\n",
      "  warnings.warn(warn_msg)\n"
     ]
    },
    {
     "name": "stdout",
     "output_type": "stream",
     "text": [
      "Epoch 2: loss = 0.4081, accuracy = 0.8000, F1-score = 0.0000\n"
     ]
    },
    {
     "name": "stderr",
     "output_type": "stream",
     "text": [
      "/usr/local/lib/python3.10/dist-packages/torch/nn/functional.py:1375: UserWarning: dropout3d: Received a 2-D input to dropout3d, which is deprecated and will result in an error in a future release. To retain the behavior and silence this warning, please use dropout instead. Note that dropout3d exists to provide channel-wise dropout on inputs with 3 spatial dimensions, a channel dimension, and an optional batch dimension (i.e. 4D or 5D inputs).\n",
      "  warnings.warn(warn_msg)\n",
      "/usr/local/lib/python3.10/dist-packages/torch/nn/functional.py:1375: UserWarning: dropout3d: Received a 2-D input to dropout3d, which is deprecated and will result in an error in a future release. To retain the behavior and silence this warning, please use dropout instead. Note that dropout3d exists to provide channel-wise dropout on inputs with 3 spatial dimensions, a channel dimension, and an optional batch dimension (i.e. 4D or 5D inputs).\n",
      "  warnings.warn(warn_msg)\n",
      "/usr/local/lib/python3.10/dist-packages/torch/nn/functional.py:1375: UserWarning: dropout3d: Received a 2-D input to dropout3d, which is deprecated and will result in an error in a future release. To retain the behavior and silence this warning, please use dropout instead. Note that dropout3d exists to provide channel-wise dropout on inputs with 3 spatial dimensions, a channel dimension, and an optional batch dimension (i.e. 4D or 5D inputs).\n",
      "  warnings.warn(warn_msg)\n",
      "/usr/local/lib/python3.10/dist-packages/torch/nn/functional.py:1375: UserWarning: dropout3d: Received a 2-D input to dropout3d, which is deprecated and will result in an error in a future release. To retain the behavior and silence this warning, please use dropout instead. Note that dropout3d exists to provide channel-wise dropout on inputs with 3 spatial dimensions, a channel dimension, and an optional batch dimension (i.e. 4D or 5D inputs).\n",
      "  warnings.warn(warn_msg)\n",
      "/usr/local/lib/python3.10/dist-packages/torch/nn/functional.py:1375: UserWarning: dropout3d: Received a 2-D input to dropout3d, which is deprecated and will result in an error in a future release. To retain the behavior and silence this warning, please use dropout instead. Note that dropout3d exists to provide channel-wise dropout on inputs with 3 spatial dimensions, a channel dimension, and an optional batch dimension (i.e. 4D or 5D inputs).\n",
      "  warnings.warn(warn_msg)\n",
      "/usr/local/lib/python3.10/dist-packages/torch/nn/functional.py:1375: UserWarning: dropout3d: Received a 2-D input to dropout3d, which is deprecated and will result in an error in a future release. To retain the behavior and silence this warning, please use dropout instead. Note that dropout3d exists to provide channel-wise dropout on inputs with 3 spatial dimensions, a channel dimension, and an optional batch dimension (i.e. 4D or 5D inputs).\n",
      "  warnings.warn(warn_msg)\n",
      "/usr/local/lib/python3.10/dist-packages/torch/nn/functional.py:1375: UserWarning: dropout3d: Received a 2-D input to dropout3d, which is deprecated and will result in an error in a future release. To retain the behavior and silence this warning, please use dropout instead. Note that dropout3d exists to provide channel-wise dropout on inputs with 3 spatial dimensions, a channel dimension, and an optional batch dimension (i.e. 4D or 5D inputs).\n",
      "  warnings.warn(warn_msg)\n"
     ]
    },
    {
     "name": "stdout",
     "output_type": "stream",
     "text": [
      "Epoch 3: loss = 0.2985, accuracy = 0.8727, F1-score = 0.6500\n"
     ]
    },
    {
     "name": "stderr",
     "output_type": "stream",
     "text": [
      "/usr/local/lib/python3.10/dist-packages/torch/nn/functional.py:1375: UserWarning: dropout3d: Received a 2-D input to dropout3d, which is deprecated and will result in an error in a future release. To retain the behavior and silence this warning, please use dropout instead. Note that dropout3d exists to provide channel-wise dropout on inputs with 3 spatial dimensions, a channel dimension, and an optional batch dimension (i.e. 4D or 5D inputs).\n",
      "  warnings.warn(warn_msg)\n",
      "/usr/local/lib/python3.10/dist-packages/torch/nn/functional.py:1375: UserWarning: dropout3d: Received a 2-D input to dropout3d, which is deprecated and will result in an error in a future release. To retain the behavior and silence this warning, please use dropout instead. Note that dropout3d exists to provide channel-wise dropout on inputs with 3 spatial dimensions, a channel dimension, and an optional batch dimension (i.e. 4D or 5D inputs).\n",
      "  warnings.warn(warn_msg)\n",
      "/usr/local/lib/python3.10/dist-packages/torch/nn/functional.py:1375: UserWarning: dropout3d: Received a 2-D input to dropout3d, which is deprecated and will result in an error in a future release. To retain the behavior and silence this warning, please use dropout instead. Note that dropout3d exists to provide channel-wise dropout on inputs with 3 spatial dimensions, a channel dimension, and an optional batch dimension (i.e. 4D or 5D inputs).\n",
      "  warnings.warn(warn_msg)\n",
      "/usr/local/lib/python3.10/dist-packages/torch/nn/functional.py:1375: UserWarning: dropout3d: Received a 2-D input to dropout3d, which is deprecated and will result in an error in a future release. To retain the behavior and silence this warning, please use dropout instead. Note that dropout3d exists to provide channel-wise dropout on inputs with 3 spatial dimensions, a channel dimension, and an optional batch dimension (i.e. 4D or 5D inputs).\n",
      "  warnings.warn(warn_msg)\n",
      "/usr/local/lib/python3.10/dist-packages/torch/nn/functional.py:1375: UserWarning: dropout3d: Received a 2-D input to dropout3d, which is deprecated and will result in an error in a future release. To retain the behavior and silence this warning, please use dropout instead. Note that dropout3d exists to provide channel-wise dropout on inputs with 3 spatial dimensions, a channel dimension, and an optional batch dimension (i.e. 4D or 5D inputs).\n",
      "  warnings.warn(warn_msg)\n",
      "/usr/local/lib/python3.10/dist-packages/torch/nn/functional.py:1375: UserWarning: dropout3d: Received a 2-D input to dropout3d, which is deprecated and will result in an error in a future release. To retain the behavior and silence this warning, please use dropout instead. Note that dropout3d exists to provide channel-wise dropout on inputs with 3 spatial dimensions, a channel dimension, and an optional batch dimension (i.e. 4D or 5D inputs).\n",
      "  warnings.warn(warn_msg)\n",
      "/usr/local/lib/python3.10/dist-packages/torch/nn/functional.py:1375: UserWarning: dropout3d: Received a 2-D input to dropout3d, which is deprecated and will result in an error in a future release. To retain the behavior and silence this warning, please use dropout instead. Note that dropout3d exists to provide channel-wise dropout on inputs with 3 spatial dimensions, a channel dimension, and an optional batch dimension (i.e. 4D or 5D inputs).\n",
      "  warnings.warn(warn_msg)\n",
      "/usr/local/lib/python3.10/dist-packages/torch/nn/functional.py:1375: UserWarning: dropout3d: Received a 2-D input to dropout3d, which is deprecated and will result in an error in a future release. To retain the behavior and silence this warning, please use dropout instead. Note that dropout3d exists to provide channel-wise dropout on inputs with 3 spatial dimensions, a channel dimension, and an optional batch dimension (i.e. 4D or 5D inputs).\n",
      "  warnings.warn(warn_msg)\n"
     ]
    },
    {
     "name": "stdout",
     "output_type": "stream",
     "text": [
      "Epoch 4: loss = 0.2371, accuracy = 0.8909, F1-score = 0.6471\n"
     ]
    },
    {
     "name": "stderr",
     "output_type": "stream",
     "text": [
      "/usr/local/lib/python3.10/dist-packages/torch/nn/functional.py:1375: UserWarning: dropout3d: Received a 2-D input to dropout3d, which is deprecated and will result in an error in a future release. To retain the behavior and silence this warning, please use dropout instead. Note that dropout3d exists to provide channel-wise dropout on inputs with 3 spatial dimensions, a channel dimension, and an optional batch dimension (i.e. 4D or 5D inputs).\n",
      "  warnings.warn(warn_msg)\n",
      "/usr/local/lib/python3.10/dist-packages/torch/nn/functional.py:1375: UserWarning: dropout3d: Received a 2-D input to dropout3d, which is deprecated and will result in an error in a future release. To retain the behavior and silence this warning, please use dropout instead. Note that dropout3d exists to provide channel-wise dropout on inputs with 3 spatial dimensions, a channel dimension, and an optional batch dimension (i.e. 4D or 5D inputs).\n",
      "  warnings.warn(warn_msg)\n",
      "/usr/local/lib/python3.10/dist-packages/torch/nn/functional.py:1375: UserWarning: dropout3d: Received a 2-D input to dropout3d, which is deprecated and will result in an error in a future release. To retain the behavior and silence this warning, please use dropout instead. Note that dropout3d exists to provide channel-wise dropout on inputs with 3 spatial dimensions, a channel dimension, and an optional batch dimension (i.e. 4D or 5D inputs).\n",
      "  warnings.warn(warn_msg)\n",
      "/usr/local/lib/python3.10/dist-packages/torch/nn/functional.py:1375: UserWarning: dropout3d: Received a 2-D input to dropout3d, which is deprecated and will result in an error in a future release. To retain the behavior and silence this warning, please use dropout instead. Note that dropout3d exists to provide channel-wise dropout on inputs with 3 spatial dimensions, a channel dimension, and an optional batch dimension (i.e. 4D or 5D inputs).\n",
      "  warnings.warn(warn_msg)\n",
      "/usr/local/lib/python3.10/dist-packages/torch/nn/functional.py:1375: UserWarning: dropout3d: Received a 2-D input to dropout3d, which is deprecated and will result in an error in a future release. To retain the behavior and silence this warning, please use dropout instead. Note that dropout3d exists to provide channel-wise dropout on inputs with 3 spatial dimensions, a channel dimension, and an optional batch dimension (i.e. 4D or 5D inputs).\n",
      "  warnings.warn(warn_msg)\n",
      "/usr/local/lib/python3.10/dist-packages/torch/nn/functional.py:1375: UserWarning: dropout3d: Received a 2-D input to dropout3d, which is deprecated and will result in an error in a future release. To retain the behavior and silence this warning, please use dropout instead. Note that dropout3d exists to provide channel-wise dropout on inputs with 3 spatial dimensions, a channel dimension, and an optional batch dimension (i.e. 4D or 5D inputs).\n",
      "  warnings.warn(warn_msg)\n",
      "/usr/local/lib/python3.10/dist-packages/torch/nn/functional.py:1375: UserWarning: dropout3d: Received a 2-D input to dropout3d, which is deprecated and will result in an error in a future release. To retain the behavior and silence this warning, please use dropout instead. Note that dropout3d exists to provide channel-wise dropout on inputs with 3 spatial dimensions, a channel dimension, and an optional batch dimension (i.e. 4D or 5D inputs).\n",
      "  warnings.warn(warn_msg)\n",
      "/usr/local/lib/python3.10/dist-packages/torch/nn/functional.py:1375: UserWarning: dropout3d: Received a 2-D input to dropout3d, which is deprecated and will result in an error in a future release. To retain the behavior and silence this warning, please use dropout instead. Note that dropout3d exists to provide channel-wise dropout on inputs with 3 spatial dimensions, a channel dimension, and an optional batch dimension (i.e. 4D or 5D inputs).\n",
      "  warnings.warn(warn_msg)\n"
     ]
    },
    {
     "name": "stdout",
     "output_type": "stream",
     "text": [
      "Epoch 5: loss = 0.1952, accuracy = 0.8955, F1-score = 0.7089\n"
     ]
    },
    {
     "name": "stderr",
     "output_type": "stream",
     "text": [
      "/usr/local/lib/python3.10/dist-packages/torch/nn/functional.py:1375: UserWarning: dropout3d: Received a 2-D input to dropout3d, which is deprecated and will result in an error in a future release. To retain the behavior and silence this warning, please use dropout instead. Note that dropout3d exists to provide channel-wise dropout on inputs with 3 spatial dimensions, a channel dimension, and an optional batch dimension (i.e. 4D or 5D inputs).\n",
      "  warnings.warn(warn_msg)\n",
      "/usr/local/lib/python3.10/dist-packages/torch/nn/functional.py:1375: UserWarning: dropout3d: Received a 2-D input to dropout3d, which is deprecated and will result in an error in a future release. To retain the behavior and silence this warning, please use dropout instead. Note that dropout3d exists to provide channel-wise dropout on inputs with 3 spatial dimensions, a channel dimension, and an optional batch dimension (i.e. 4D or 5D inputs).\n",
      "  warnings.warn(warn_msg)\n",
      "/usr/local/lib/python3.10/dist-packages/torch/nn/functional.py:1375: UserWarning: dropout3d: Received a 2-D input to dropout3d, which is deprecated and will result in an error in a future release. To retain the behavior and silence this warning, please use dropout instead. Note that dropout3d exists to provide channel-wise dropout on inputs with 3 spatial dimensions, a channel dimension, and an optional batch dimension (i.e. 4D or 5D inputs).\n",
      "  warnings.warn(warn_msg)\n",
      "/usr/local/lib/python3.10/dist-packages/torch/nn/functional.py:1375: UserWarning: dropout3d: Received a 2-D input to dropout3d, which is deprecated and will result in an error in a future release. To retain the behavior and silence this warning, please use dropout instead. Note that dropout3d exists to provide channel-wise dropout on inputs with 3 spatial dimensions, a channel dimension, and an optional batch dimension (i.e. 4D or 5D inputs).\n",
      "  warnings.warn(warn_msg)\n",
      "/usr/local/lib/python3.10/dist-packages/torch/nn/functional.py:1375: UserWarning: dropout3d: Received a 2-D input to dropout3d, which is deprecated and will result in an error in a future release. To retain the behavior and silence this warning, please use dropout instead. Note that dropout3d exists to provide channel-wise dropout on inputs with 3 spatial dimensions, a channel dimension, and an optional batch dimension (i.e. 4D or 5D inputs).\n",
      "  warnings.warn(warn_msg)\n",
      "/usr/local/lib/python3.10/dist-packages/torch/nn/functional.py:1375: UserWarning: dropout3d: Received a 2-D input to dropout3d, which is deprecated and will result in an error in a future release. To retain the behavior and silence this warning, please use dropout instead. Note that dropout3d exists to provide channel-wise dropout on inputs with 3 spatial dimensions, a channel dimension, and an optional batch dimension (i.e. 4D or 5D inputs).\n",
      "  warnings.warn(warn_msg)\n"
     ]
    },
    {
     "name": "stdout",
     "output_type": "stream",
     "text": [
      "Epoch 6: loss = 0.2326, accuracy = 0.9091, F1-score = 0.8148\n"
     ]
    },
    {
     "name": "stderr",
     "output_type": "stream",
     "text": [
      "/usr/local/lib/python3.10/dist-packages/torch/nn/functional.py:1375: UserWarning: dropout3d: Received a 2-D input to dropout3d, which is deprecated and will result in an error in a future release. To retain the behavior and silence this warning, please use dropout instead. Note that dropout3d exists to provide channel-wise dropout on inputs with 3 spatial dimensions, a channel dimension, and an optional batch dimension (i.e. 4D or 5D inputs).\n",
      "  warnings.warn(warn_msg)\n",
      "/usr/local/lib/python3.10/dist-packages/torch/nn/functional.py:1375: UserWarning: dropout3d: Received a 2-D input to dropout3d, which is deprecated and will result in an error in a future release. To retain the behavior and silence this warning, please use dropout instead. Note that dropout3d exists to provide channel-wise dropout on inputs with 3 spatial dimensions, a channel dimension, and an optional batch dimension (i.e. 4D or 5D inputs).\n",
      "  warnings.warn(warn_msg)\n",
      "/usr/local/lib/python3.10/dist-packages/torch/nn/functional.py:1375: UserWarning: dropout3d: Received a 2-D input to dropout3d, which is deprecated and will result in an error in a future release. To retain the behavior and silence this warning, please use dropout instead. Note that dropout3d exists to provide channel-wise dropout on inputs with 3 spatial dimensions, a channel dimension, and an optional batch dimension (i.e. 4D or 5D inputs).\n",
      "  warnings.warn(warn_msg)\n",
      "/usr/local/lib/python3.10/dist-packages/torch/nn/functional.py:1375: UserWarning: dropout3d: Received a 2-D input to dropout3d, which is deprecated and will result in an error in a future release. To retain the behavior and silence this warning, please use dropout instead. Note that dropout3d exists to provide channel-wise dropout on inputs with 3 spatial dimensions, a channel dimension, and an optional batch dimension (i.e. 4D or 5D inputs).\n",
      "  warnings.warn(warn_msg)\n",
      "/usr/local/lib/python3.10/dist-packages/torch/nn/functional.py:1375: UserWarning: dropout3d: Received a 2-D input to dropout3d, which is deprecated and will result in an error in a future release. To retain the behavior and silence this warning, please use dropout instead. Note that dropout3d exists to provide channel-wise dropout on inputs with 3 spatial dimensions, a channel dimension, and an optional batch dimension (i.e. 4D or 5D inputs).\n",
      "  warnings.warn(warn_msg)\n",
      "/usr/local/lib/python3.10/dist-packages/torch/nn/functional.py:1375: UserWarning: dropout3d: Received a 2-D input to dropout3d, which is deprecated and will result in an error in a future release. To retain the behavior and silence this warning, please use dropout instead. Note that dropout3d exists to provide channel-wise dropout on inputs with 3 spatial dimensions, a channel dimension, and an optional batch dimension (i.e. 4D or 5D inputs).\n",
      "  warnings.warn(warn_msg)\n",
      "/usr/local/lib/python3.10/dist-packages/torch/nn/functional.py:1375: UserWarning: dropout3d: Received a 2-D input to dropout3d, which is deprecated and will result in an error in a future release. To retain the behavior and silence this warning, please use dropout instead. Note that dropout3d exists to provide channel-wise dropout on inputs with 3 spatial dimensions, a channel dimension, and an optional batch dimension (i.e. 4D or 5D inputs).\n",
      "  warnings.warn(warn_msg)\n"
     ]
    },
    {
     "name": "stdout",
     "output_type": "stream",
     "text": [
      "Epoch 7: loss = 0.1590, accuracy = 0.9409, F1-score = 0.8506\n"
     ]
    },
    {
     "name": "stderr",
     "output_type": "stream",
     "text": [
      "/usr/local/lib/python3.10/dist-packages/torch/nn/functional.py:1375: UserWarning: dropout3d: Received a 2-D input to dropout3d, which is deprecated and will result in an error in a future release. To retain the behavior and silence this warning, please use dropout instead. Note that dropout3d exists to provide channel-wise dropout on inputs with 3 spatial dimensions, a channel dimension, and an optional batch dimension (i.e. 4D or 5D inputs).\n",
      "  warnings.warn(warn_msg)\n",
      "/usr/local/lib/python3.10/dist-packages/torch/nn/functional.py:1375: UserWarning: dropout3d: Received a 2-D input to dropout3d, which is deprecated and will result in an error in a future release. To retain the behavior and silence this warning, please use dropout instead. Note that dropout3d exists to provide channel-wise dropout on inputs with 3 spatial dimensions, a channel dimension, and an optional batch dimension (i.e. 4D or 5D inputs).\n",
      "  warnings.warn(warn_msg)\n",
      "/usr/local/lib/python3.10/dist-packages/torch/nn/functional.py:1375: UserWarning: dropout3d: Received a 2-D input to dropout3d, which is deprecated and will result in an error in a future release. To retain the behavior and silence this warning, please use dropout instead. Note that dropout3d exists to provide channel-wise dropout on inputs with 3 spatial dimensions, a channel dimension, and an optional batch dimension (i.e. 4D or 5D inputs).\n",
      "  warnings.warn(warn_msg)\n",
      "/usr/local/lib/python3.10/dist-packages/torch/nn/functional.py:1375: UserWarning: dropout3d: Received a 2-D input to dropout3d, which is deprecated and will result in an error in a future release. To retain the behavior and silence this warning, please use dropout instead. Note that dropout3d exists to provide channel-wise dropout on inputs with 3 spatial dimensions, a channel dimension, and an optional batch dimension (i.e. 4D or 5D inputs).\n",
      "  warnings.warn(warn_msg)\n",
      "/usr/local/lib/python3.10/dist-packages/torch/nn/functional.py:1375: UserWarning: dropout3d: Received a 2-D input to dropout3d, which is deprecated and will result in an error in a future release. To retain the behavior and silence this warning, please use dropout instead. Note that dropout3d exists to provide channel-wise dropout on inputs with 3 spatial dimensions, a channel dimension, and an optional batch dimension (i.e. 4D or 5D inputs).\n",
      "  warnings.warn(warn_msg)\n",
      "/usr/local/lib/python3.10/dist-packages/torch/nn/functional.py:1375: UserWarning: dropout3d: Received a 2-D input to dropout3d, which is deprecated and will result in an error in a future release. To retain the behavior and silence this warning, please use dropout instead. Note that dropout3d exists to provide channel-wise dropout on inputs with 3 spatial dimensions, a channel dimension, and an optional batch dimension (i.e. 4D or 5D inputs).\n",
      "  warnings.warn(warn_msg)\n",
      "/usr/local/lib/python3.10/dist-packages/torch/nn/functional.py:1375: UserWarning: dropout3d: Received a 2-D input to dropout3d, which is deprecated and will result in an error in a future release. To retain the behavior and silence this warning, please use dropout instead. Note that dropout3d exists to provide channel-wise dropout on inputs with 3 spatial dimensions, a channel dimension, and an optional batch dimension (i.e. 4D or 5D inputs).\n",
      "  warnings.warn(warn_msg)\n"
     ]
    },
    {
     "name": "stdout",
     "output_type": "stream",
     "text": [
      "Epoch 8: loss = 0.2100, accuracy = 0.9045, F1-score = 0.8073\n"
     ]
    },
    {
     "name": "stderr",
     "output_type": "stream",
     "text": [
      "/usr/local/lib/python3.10/dist-packages/torch/nn/functional.py:1375: UserWarning: dropout3d: Received a 2-D input to dropout3d, which is deprecated and will result in an error in a future release. To retain the behavior and silence this warning, please use dropout instead. Note that dropout3d exists to provide channel-wise dropout on inputs with 3 spatial dimensions, a channel dimension, and an optional batch dimension (i.e. 4D or 5D inputs).\n",
      "  warnings.warn(warn_msg)\n",
      "/usr/local/lib/python3.10/dist-packages/torch/nn/functional.py:1375: UserWarning: dropout3d: Received a 2-D input to dropout3d, which is deprecated and will result in an error in a future release. To retain the behavior and silence this warning, please use dropout instead. Note that dropout3d exists to provide channel-wise dropout on inputs with 3 spatial dimensions, a channel dimension, and an optional batch dimension (i.e. 4D or 5D inputs).\n",
      "  warnings.warn(warn_msg)\n",
      "/usr/local/lib/python3.10/dist-packages/torch/nn/functional.py:1375: UserWarning: dropout3d: Received a 2-D input to dropout3d, which is deprecated and will result in an error in a future release. To retain the behavior and silence this warning, please use dropout instead. Note that dropout3d exists to provide channel-wise dropout on inputs with 3 spatial dimensions, a channel dimension, and an optional batch dimension (i.e. 4D or 5D inputs).\n",
      "  warnings.warn(warn_msg)\n",
      "/usr/local/lib/python3.10/dist-packages/torch/nn/functional.py:1375: UserWarning: dropout3d: Received a 2-D input to dropout3d, which is deprecated and will result in an error in a future release. To retain the behavior and silence this warning, please use dropout instead. Note that dropout3d exists to provide channel-wise dropout on inputs with 3 spatial dimensions, a channel dimension, and an optional batch dimension (i.e. 4D or 5D inputs).\n",
      "  warnings.warn(warn_msg)\n",
      "/usr/local/lib/python3.10/dist-packages/torch/nn/functional.py:1375: UserWarning: dropout3d: Received a 2-D input to dropout3d, which is deprecated and will result in an error in a future release. To retain the behavior and silence this warning, please use dropout instead. Note that dropout3d exists to provide channel-wise dropout on inputs with 3 spatial dimensions, a channel dimension, and an optional batch dimension (i.e. 4D or 5D inputs).\n",
      "  warnings.warn(warn_msg)\n",
      "/usr/local/lib/python3.10/dist-packages/torch/nn/functional.py:1375: UserWarning: dropout3d: Received a 2-D input to dropout3d, which is deprecated and will result in an error in a future release. To retain the behavior and silence this warning, please use dropout instead. Note that dropout3d exists to provide channel-wise dropout on inputs with 3 spatial dimensions, a channel dimension, and an optional batch dimension (i.e. 4D or 5D inputs).\n",
      "  warnings.warn(warn_msg)\n",
      "/usr/local/lib/python3.10/dist-packages/torch/nn/functional.py:1375: UserWarning: dropout3d: Received a 2-D input to dropout3d, which is deprecated and will result in an error in a future release. To retain the behavior and silence this warning, please use dropout instead. Note that dropout3d exists to provide channel-wise dropout on inputs with 3 spatial dimensions, a channel dimension, and an optional batch dimension (i.e. 4D or 5D inputs).\n",
      "  warnings.warn(warn_msg)\n"
     ]
    },
    {
     "name": "stdout",
     "output_type": "stream",
     "text": [
      "Epoch 9: loss = 0.1551, accuracy = 0.9227, F1-score = 0.7606\n"
     ]
    },
    {
     "name": "stderr",
     "output_type": "stream",
     "text": [
      "/usr/local/lib/python3.10/dist-packages/torch/nn/functional.py:1375: UserWarning: dropout3d: Received a 2-D input to dropout3d, which is deprecated and will result in an error in a future release. To retain the behavior and silence this warning, please use dropout instead. Note that dropout3d exists to provide channel-wise dropout on inputs with 3 spatial dimensions, a channel dimension, and an optional batch dimension (i.e. 4D or 5D inputs).\n",
      "  warnings.warn(warn_msg)\n",
      "/usr/local/lib/python3.10/dist-packages/torch/nn/functional.py:1375: UserWarning: dropout3d: Received a 2-D input to dropout3d, which is deprecated and will result in an error in a future release. To retain the behavior and silence this warning, please use dropout instead. Note that dropout3d exists to provide channel-wise dropout on inputs with 3 spatial dimensions, a channel dimension, and an optional batch dimension (i.e. 4D or 5D inputs).\n",
      "  warnings.warn(warn_msg)\n",
      "/usr/local/lib/python3.10/dist-packages/torch/nn/functional.py:1375: UserWarning: dropout3d: Received a 2-D input to dropout3d, which is deprecated and will result in an error in a future release. To retain the behavior and silence this warning, please use dropout instead. Note that dropout3d exists to provide channel-wise dropout on inputs with 3 spatial dimensions, a channel dimension, and an optional batch dimension (i.e. 4D or 5D inputs).\n",
      "  warnings.warn(warn_msg)\n",
      "/usr/local/lib/python3.10/dist-packages/torch/nn/functional.py:1375: UserWarning: dropout3d: Received a 2-D input to dropout3d, which is deprecated and will result in an error in a future release. To retain the behavior and silence this warning, please use dropout instead. Note that dropout3d exists to provide channel-wise dropout on inputs with 3 spatial dimensions, a channel dimension, and an optional batch dimension (i.e. 4D or 5D inputs).\n",
      "  warnings.warn(warn_msg)\n",
      "/usr/local/lib/python3.10/dist-packages/torch/nn/functional.py:1375: UserWarning: dropout3d: Received a 2-D input to dropout3d, which is deprecated and will result in an error in a future release. To retain the behavior and silence this warning, please use dropout instead. Note that dropout3d exists to provide channel-wise dropout on inputs with 3 spatial dimensions, a channel dimension, and an optional batch dimension (i.e. 4D or 5D inputs).\n",
      "  warnings.warn(warn_msg)\n",
      "/usr/local/lib/python3.10/dist-packages/torch/nn/functional.py:1375: UserWarning: dropout3d: Received a 2-D input to dropout3d, which is deprecated and will result in an error in a future release. To retain the behavior and silence this warning, please use dropout instead. Note that dropout3d exists to provide channel-wise dropout on inputs with 3 spatial dimensions, a channel dimension, and an optional batch dimension (i.e. 4D or 5D inputs).\n",
      "  warnings.warn(warn_msg)\n",
      "/usr/local/lib/python3.10/dist-packages/torch/nn/functional.py:1375: UserWarning: dropout3d: Received a 2-D input to dropout3d, which is deprecated and will result in an error in a future release. To retain the behavior and silence this warning, please use dropout instead. Note that dropout3d exists to provide channel-wise dropout on inputs with 3 spatial dimensions, a channel dimension, and an optional batch dimension (i.e. 4D or 5D inputs).\n",
      "  warnings.warn(warn_msg)\n"
     ]
    },
    {
     "name": "stdout",
     "output_type": "stream",
     "text": [
      "Epoch 10: loss = 0.1855, accuracy = 0.9545, F1-score = 0.8980\n"
     ]
    },
    {
     "name": "stderr",
     "output_type": "stream",
     "text": [
      "/usr/local/lib/python3.10/dist-packages/torch/nn/functional.py:1375: UserWarning: dropout3d: Received a 2-D input to dropout3d, which is deprecated and will result in an error in a future release. To retain the behavior and silence this warning, please use dropout instead. Note that dropout3d exists to provide channel-wise dropout on inputs with 3 spatial dimensions, a channel dimension, and an optional batch dimension (i.e. 4D or 5D inputs).\n",
      "  warnings.warn(warn_msg)\n",
      "/usr/local/lib/python3.10/dist-packages/torch/nn/functional.py:1375: UserWarning: dropout3d: Received a 2-D input to dropout3d, which is deprecated and will result in an error in a future release. To retain the behavior and silence this warning, please use dropout instead. Note that dropout3d exists to provide channel-wise dropout on inputs with 3 spatial dimensions, a channel dimension, and an optional batch dimension (i.e. 4D or 5D inputs).\n",
      "  warnings.warn(warn_msg)\n",
      "/usr/local/lib/python3.10/dist-packages/torch/nn/functional.py:1375: UserWarning: dropout3d: Received a 2-D input to dropout3d, which is deprecated and will result in an error in a future release. To retain the behavior and silence this warning, please use dropout instead. Note that dropout3d exists to provide channel-wise dropout on inputs with 3 spatial dimensions, a channel dimension, and an optional batch dimension (i.e. 4D or 5D inputs).\n",
      "  warnings.warn(warn_msg)\n",
      "/usr/local/lib/python3.10/dist-packages/torch/nn/functional.py:1375: UserWarning: dropout3d: Received a 2-D input to dropout3d, which is deprecated and will result in an error in a future release. To retain the behavior and silence this warning, please use dropout instead. Note that dropout3d exists to provide channel-wise dropout on inputs with 3 spatial dimensions, a channel dimension, and an optional batch dimension (i.e. 4D or 5D inputs).\n",
      "  warnings.warn(warn_msg)\n",
      "/usr/local/lib/python3.10/dist-packages/torch/nn/functional.py:1375: UserWarning: dropout3d: Received a 2-D input to dropout3d, which is deprecated and will result in an error in a future release. To retain the behavior and silence this warning, please use dropout instead. Note that dropout3d exists to provide channel-wise dropout on inputs with 3 spatial dimensions, a channel dimension, and an optional batch dimension (i.e. 4D or 5D inputs).\n",
      "  warnings.warn(warn_msg)\n",
      "/usr/local/lib/python3.10/dist-packages/torch/nn/functional.py:1375: UserWarning: dropout3d: Received a 2-D input to dropout3d, which is deprecated and will result in an error in a future release. To retain the behavior and silence this warning, please use dropout instead. Note that dropout3d exists to provide channel-wise dropout on inputs with 3 spatial dimensions, a channel dimension, and an optional batch dimension (i.e. 4D or 5D inputs).\n",
      "  warnings.warn(warn_msg)\n",
      "/usr/local/lib/python3.10/dist-packages/torch/nn/functional.py:1375: UserWarning: dropout3d: Received a 2-D input to dropout3d, which is deprecated and will result in an error in a future release. To retain the behavior and silence this warning, please use dropout instead. Note that dropout3d exists to provide channel-wise dropout on inputs with 3 spatial dimensions, a channel dimension, and an optional batch dimension (i.e. 4D or 5D inputs).\n",
      "  warnings.warn(warn_msg)\n",
      "/usr/local/lib/python3.10/dist-packages/torch/nn/functional.py:1375: UserWarning: dropout3d: Received a 2-D input to dropout3d, which is deprecated and will result in an error in a future release. To retain the behavior and silence this warning, please use dropout instead. Note that dropout3d exists to provide channel-wise dropout on inputs with 3 spatial dimensions, a channel dimension, and an optional batch dimension (i.e. 4D or 5D inputs).\n",
      "  warnings.warn(warn_msg)\n"
     ]
    },
    {
     "name": "stdout",
     "output_type": "stream",
     "text": [
      "Epoch 11: loss = 0.1241, accuracy = 0.9773, F1-score = 0.9398\n"
     ]
    },
    {
     "name": "stderr",
     "output_type": "stream",
     "text": [
      "/usr/local/lib/python3.10/dist-packages/torch/nn/functional.py:1375: UserWarning: dropout3d: Received a 2-D input to dropout3d, which is deprecated and will result in an error in a future release. To retain the behavior and silence this warning, please use dropout instead. Note that dropout3d exists to provide channel-wise dropout on inputs with 3 spatial dimensions, a channel dimension, and an optional batch dimension (i.e. 4D or 5D inputs).\n",
      "  warnings.warn(warn_msg)\n",
      "/usr/local/lib/python3.10/dist-packages/torch/nn/functional.py:1375: UserWarning: dropout3d: Received a 2-D input to dropout3d, which is deprecated and will result in an error in a future release. To retain the behavior and silence this warning, please use dropout instead. Note that dropout3d exists to provide channel-wise dropout on inputs with 3 spatial dimensions, a channel dimension, and an optional batch dimension (i.e. 4D or 5D inputs).\n",
      "  warnings.warn(warn_msg)\n",
      "/usr/local/lib/python3.10/dist-packages/torch/nn/functional.py:1375: UserWarning: dropout3d: Received a 2-D input to dropout3d, which is deprecated and will result in an error in a future release. To retain the behavior and silence this warning, please use dropout instead. Note that dropout3d exists to provide channel-wise dropout on inputs with 3 spatial dimensions, a channel dimension, and an optional batch dimension (i.e. 4D or 5D inputs).\n",
      "  warnings.warn(warn_msg)\n",
      "/usr/local/lib/python3.10/dist-packages/torch/nn/functional.py:1375: UserWarning: dropout3d: Received a 2-D input to dropout3d, which is deprecated and will result in an error in a future release. To retain the behavior and silence this warning, please use dropout instead. Note that dropout3d exists to provide channel-wise dropout on inputs with 3 spatial dimensions, a channel dimension, and an optional batch dimension (i.e. 4D or 5D inputs).\n",
      "  warnings.warn(warn_msg)\n",
      "/usr/local/lib/python3.10/dist-packages/torch/nn/functional.py:1375: UserWarning: dropout3d: Received a 2-D input to dropout3d, which is deprecated and will result in an error in a future release. To retain the behavior and silence this warning, please use dropout instead. Note that dropout3d exists to provide channel-wise dropout on inputs with 3 spatial dimensions, a channel dimension, and an optional batch dimension (i.e. 4D or 5D inputs).\n",
      "  warnings.warn(warn_msg)\n",
      "/usr/local/lib/python3.10/dist-packages/torch/nn/functional.py:1375: UserWarning: dropout3d: Received a 2-D input to dropout3d, which is deprecated and will result in an error in a future release. To retain the behavior and silence this warning, please use dropout instead. Note that dropout3d exists to provide channel-wise dropout on inputs with 3 spatial dimensions, a channel dimension, and an optional batch dimension (i.e. 4D or 5D inputs).\n",
      "  warnings.warn(warn_msg)\n"
     ]
    },
    {
     "name": "stdout",
     "output_type": "stream",
     "text": [
      "Epoch 12: loss = 0.1142, accuracy = 1.0000, F1-score = 1.0000\n"
     ]
    },
    {
     "name": "stderr",
     "output_type": "stream",
     "text": [
      "/usr/local/lib/python3.10/dist-packages/torch/nn/functional.py:1375: UserWarning: dropout3d: Received a 2-D input to dropout3d, which is deprecated and will result in an error in a future release. To retain the behavior and silence this warning, please use dropout instead. Note that dropout3d exists to provide channel-wise dropout on inputs with 3 spatial dimensions, a channel dimension, and an optional batch dimension (i.e. 4D or 5D inputs).\n",
      "  warnings.warn(warn_msg)\n",
      "/usr/local/lib/python3.10/dist-packages/torch/nn/functional.py:1375: UserWarning: dropout3d: Received a 2-D input to dropout3d, which is deprecated and will result in an error in a future release. To retain the behavior and silence this warning, please use dropout instead. Note that dropout3d exists to provide channel-wise dropout on inputs with 3 spatial dimensions, a channel dimension, and an optional batch dimension (i.e. 4D or 5D inputs).\n",
      "  warnings.warn(warn_msg)\n",
      "/usr/local/lib/python3.10/dist-packages/torch/nn/functional.py:1375: UserWarning: dropout3d: Received a 2-D input to dropout3d, which is deprecated and will result in an error in a future release. To retain the behavior and silence this warning, please use dropout instead. Note that dropout3d exists to provide channel-wise dropout on inputs with 3 spatial dimensions, a channel dimension, and an optional batch dimension (i.e. 4D or 5D inputs).\n",
      "  warnings.warn(warn_msg)\n",
      "/usr/local/lib/python3.10/dist-packages/torch/nn/functional.py:1375: UserWarning: dropout3d: Received a 2-D input to dropout3d, which is deprecated and will result in an error in a future release. To retain the behavior and silence this warning, please use dropout instead. Note that dropout3d exists to provide channel-wise dropout on inputs with 3 spatial dimensions, a channel dimension, and an optional batch dimension (i.e. 4D or 5D inputs).\n",
      "  warnings.warn(warn_msg)\n",
      "/usr/local/lib/python3.10/dist-packages/torch/nn/functional.py:1375: UserWarning: dropout3d: Received a 2-D input to dropout3d, which is deprecated and will result in an error in a future release. To retain the behavior and silence this warning, please use dropout instead. Note that dropout3d exists to provide channel-wise dropout on inputs with 3 spatial dimensions, a channel dimension, and an optional batch dimension (i.e. 4D or 5D inputs).\n",
      "  warnings.warn(warn_msg)\n"
     ]
    },
    {
     "name": "stdout",
     "output_type": "stream",
     "text": [
      "Epoch 13: loss = 0.1053, accuracy = 0.9909, F1-score = 0.9767\n"
     ]
    },
    {
     "name": "stderr",
     "output_type": "stream",
     "text": [
      "/usr/local/lib/python3.10/dist-packages/torch/nn/functional.py:1375: UserWarning: dropout3d: Received a 2-D input to dropout3d, which is deprecated and will result in an error in a future release. To retain the behavior and silence this warning, please use dropout instead. Note that dropout3d exists to provide channel-wise dropout on inputs with 3 spatial dimensions, a channel dimension, and an optional batch dimension (i.e. 4D or 5D inputs).\n",
      "  warnings.warn(warn_msg)\n",
      "/usr/local/lib/python3.10/dist-packages/torch/nn/functional.py:1375: UserWarning: dropout3d: Received a 2-D input to dropout3d, which is deprecated and will result in an error in a future release. To retain the behavior and silence this warning, please use dropout instead. Note that dropout3d exists to provide channel-wise dropout on inputs with 3 spatial dimensions, a channel dimension, and an optional batch dimension (i.e. 4D or 5D inputs).\n",
      "  warnings.warn(warn_msg)\n",
      "/usr/local/lib/python3.10/dist-packages/torch/nn/functional.py:1375: UserWarning: dropout3d: Received a 2-D input to dropout3d, which is deprecated and will result in an error in a future release. To retain the behavior and silence this warning, please use dropout instead. Note that dropout3d exists to provide channel-wise dropout on inputs with 3 spatial dimensions, a channel dimension, and an optional batch dimension (i.e. 4D or 5D inputs).\n",
      "  warnings.warn(warn_msg)\n",
      "/usr/local/lib/python3.10/dist-packages/torch/nn/functional.py:1375: UserWarning: dropout3d: Received a 2-D input to dropout3d, which is deprecated and will result in an error in a future release. To retain the behavior and silence this warning, please use dropout instead. Note that dropout3d exists to provide channel-wise dropout on inputs with 3 spatial dimensions, a channel dimension, and an optional batch dimension (i.e. 4D or 5D inputs).\n",
      "  warnings.warn(warn_msg)\n",
      "/usr/local/lib/python3.10/dist-packages/torch/nn/functional.py:1375: UserWarning: dropout3d: Received a 2-D input to dropout3d, which is deprecated and will result in an error in a future release. To retain the behavior and silence this warning, please use dropout instead. Note that dropout3d exists to provide channel-wise dropout on inputs with 3 spatial dimensions, a channel dimension, and an optional batch dimension (i.e. 4D or 5D inputs).\n",
      "  warnings.warn(warn_msg)\n",
      "/usr/local/lib/python3.10/dist-packages/torch/nn/functional.py:1375: UserWarning: dropout3d: Received a 2-D input to dropout3d, which is deprecated and will result in an error in a future release. To retain the behavior and silence this warning, please use dropout instead. Note that dropout3d exists to provide channel-wise dropout on inputs with 3 spatial dimensions, a channel dimension, and an optional batch dimension (i.e. 4D or 5D inputs).\n",
      "  warnings.warn(warn_msg)\n",
      "/usr/local/lib/python3.10/dist-packages/torch/nn/functional.py:1375: UserWarning: dropout3d: Received a 2-D input to dropout3d, which is deprecated and will result in an error in a future release. To retain the behavior and silence this warning, please use dropout instead. Note that dropout3d exists to provide channel-wise dropout on inputs with 3 spatial dimensions, a channel dimension, and an optional batch dimension (i.e. 4D or 5D inputs).\n",
      "  warnings.warn(warn_msg)\n",
      "/usr/local/lib/python3.10/dist-packages/torch/nn/functional.py:1375: UserWarning: dropout3d: Received a 2-D input to dropout3d, which is deprecated and will result in an error in a future release. To retain the behavior and silence this warning, please use dropout instead. Note that dropout3d exists to provide channel-wise dropout on inputs with 3 spatial dimensions, a channel dimension, and an optional batch dimension (i.e. 4D or 5D inputs).\n",
      "  warnings.warn(warn_msg)\n",
      "/usr/local/lib/python3.10/dist-packages/torch/nn/functional.py:1375: UserWarning: dropout3d: Received a 2-D input to dropout3d, which is deprecated and will result in an error in a future release. To retain the behavior and silence this warning, please use dropout instead. Note that dropout3d exists to provide channel-wise dropout on inputs with 3 spatial dimensions, a channel dimension, and an optional batch dimension (i.e. 4D or 5D inputs).\n",
      "  warnings.warn(warn_msg)\n",
      "/usr/local/lib/python3.10/dist-packages/torch/nn/functional.py:1375: UserWarning: dropout3d: Received a 2-D input to dropout3d, which is deprecated and will result in an error in a future release. To retain the behavior and silence this warning, please use dropout instead. Note that dropout3d exists to provide channel-wise dropout on inputs with 3 spatial dimensions, a channel dimension, and an optional batch dimension (i.e. 4D or 5D inputs).\n",
      "  warnings.warn(warn_msg)\n",
      "/usr/local/lib/python3.10/dist-packages/torch/nn/functional.py:1375: UserWarning: dropout3d: Received a 2-D input to dropout3d, which is deprecated and will result in an error in a future release. To retain the behavior and silence this warning, please use dropout instead. Note that dropout3d exists to provide channel-wise dropout on inputs with 3 spatial dimensions, a channel dimension, and an optional batch dimension (i.e. 4D or 5D inputs).\n",
      "  warnings.warn(warn_msg)\n"
     ]
    },
    {
     "name": "stdout",
     "output_type": "stream",
     "text": [
      "Epoch 14: loss = 0.0991, accuracy = 0.9909, F1-score = 0.9767\n"
     ]
    },
    {
     "name": "stderr",
     "output_type": "stream",
     "text": [
      "/usr/local/lib/python3.10/dist-packages/torch/nn/functional.py:1375: UserWarning: dropout3d: Received a 2-D input to dropout3d, which is deprecated and will result in an error in a future release. To retain the behavior and silence this warning, please use dropout instead. Note that dropout3d exists to provide channel-wise dropout on inputs with 3 spatial dimensions, a channel dimension, and an optional batch dimension (i.e. 4D or 5D inputs).\n",
      "  warnings.warn(warn_msg)\n",
      "/usr/local/lib/python3.10/dist-packages/torch/nn/functional.py:1375: UserWarning: dropout3d: Received a 2-D input to dropout3d, which is deprecated and will result in an error in a future release. To retain the behavior and silence this warning, please use dropout instead. Note that dropout3d exists to provide channel-wise dropout on inputs with 3 spatial dimensions, a channel dimension, and an optional batch dimension (i.e. 4D or 5D inputs).\n",
      "  warnings.warn(warn_msg)\n",
      "/usr/local/lib/python3.10/dist-packages/torch/nn/functional.py:1375: UserWarning: dropout3d: Received a 2-D input to dropout3d, which is deprecated and will result in an error in a future release. To retain the behavior and silence this warning, please use dropout instead. Note that dropout3d exists to provide channel-wise dropout on inputs with 3 spatial dimensions, a channel dimension, and an optional batch dimension (i.e. 4D or 5D inputs).\n",
      "  warnings.warn(warn_msg)\n",
      "/usr/local/lib/python3.10/dist-packages/torch/nn/functional.py:1375: UserWarning: dropout3d: Received a 2-D input to dropout3d, which is deprecated and will result in an error in a future release. To retain the behavior and silence this warning, please use dropout instead. Note that dropout3d exists to provide channel-wise dropout on inputs with 3 spatial dimensions, a channel dimension, and an optional batch dimension (i.e. 4D or 5D inputs).\n",
      "  warnings.warn(warn_msg)\n",
      "/usr/local/lib/python3.10/dist-packages/torch/nn/functional.py:1375: UserWarning: dropout3d: Received a 2-D input to dropout3d, which is deprecated and will result in an error in a future release. To retain the behavior and silence this warning, please use dropout instead. Note that dropout3d exists to provide channel-wise dropout on inputs with 3 spatial dimensions, a channel dimension, and an optional batch dimension (i.e. 4D or 5D inputs).\n",
      "  warnings.warn(warn_msg)\n",
      "/usr/local/lib/python3.10/dist-packages/torch/nn/functional.py:1375: UserWarning: dropout3d: Received a 2-D input to dropout3d, which is deprecated and will result in an error in a future release. To retain the behavior and silence this warning, please use dropout instead. Note that dropout3d exists to provide channel-wise dropout on inputs with 3 spatial dimensions, a channel dimension, and an optional batch dimension (i.e. 4D or 5D inputs).\n",
      "  warnings.warn(warn_msg)\n",
      "/usr/local/lib/python3.10/dist-packages/torch/nn/functional.py:1375: UserWarning: dropout3d: Received a 2-D input to dropout3d, which is deprecated and will result in an error in a future release. To retain the behavior and silence this warning, please use dropout instead. Note that dropout3d exists to provide channel-wise dropout on inputs with 3 spatial dimensions, a channel dimension, and an optional batch dimension (i.e. 4D or 5D inputs).\n",
      "  warnings.warn(warn_msg)\n"
     ]
    },
    {
     "name": "stdout",
     "output_type": "stream",
     "text": [
      "Epoch 15: loss = 0.0919, accuracy = 0.9955, F1-score = 0.9885\n"
     ]
    },
    {
     "name": "stderr",
     "output_type": "stream",
     "text": [
      "/usr/local/lib/python3.10/dist-packages/torch/nn/functional.py:1375: UserWarning: dropout3d: Received a 2-D input to dropout3d, which is deprecated and will result in an error in a future release. To retain the behavior and silence this warning, please use dropout instead. Note that dropout3d exists to provide channel-wise dropout on inputs with 3 spatial dimensions, a channel dimension, and an optional batch dimension (i.e. 4D or 5D inputs).\n",
      "  warnings.warn(warn_msg)\n",
      "/usr/local/lib/python3.10/dist-packages/torch/nn/functional.py:1375: UserWarning: dropout3d: Received a 2-D input to dropout3d, which is deprecated and will result in an error in a future release. To retain the behavior and silence this warning, please use dropout instead. Note that dropout3d exists to provide channel-wise dropout on inputs with 3 spatial dimensions, a channel dimension, and an optional batch dimension (i.e. 4D or 5D inputs).\n",
      "  warnings.warn(warn_msg)\n",
      "/usr/local/lib/python3.10/dist-packages/torch/nn/functional.py:1375: UserWarning: dropout3d: Received a 2-D input to dropout3d, which is deprecated and will result in an error in a future release. To retain the behavior and silence this warning, please use dropout instead. Note that dropout3d exists to provide channel-wise dropout on inputs with 3 spatial dimensions, a channel dimension, and an optional batch dimension (i.e. 4D or 5D inputs).\n",
      "  warnings.warn(warn_msg)\n",
      "/usr/local/lib/python3.10/dist-packages/torch/nn/functional.py:1375: UserWarning: dropout3d: Received a 2-D input to dropout3d, which is deprecated and will result in an error in a future release. To retain the behavior and silence this warning, please use dropout instead. Note that dropout3d exists to provide channel-wise dropout on inputs with 3 spatial dimensions, a channel dimension, and an optional batch dimension (i.e. 4D or 5D inputs).\n",
      "  warnings.warn(warn_msg)\n",
      "/usr/local/lib/python3.10/dist-packages/torch/nn/functional.py:1375: UserWarning: dropout3d: Received a 2-D input to dropout3d, which is deprecated and will result in an error in a future release. To retain the behavior and silence this warning, please use dropout instead. Note that dropout3d exists to provide channel-wise dropout on inputs with 3 spatial dimensions, a channel dimension, and an optional batch dimension (i.e. 4D or 5D inputs).\n",
      "  warnings.warn(warn_msg)\n"
     ]
    },
    {
     "name": "stdout",
     "output_type": "stream",
     "text": [
      "Epoch 16: loss = 0.0858, accuracy = 0.9955, F1-score = 0.9885\n"
     ]
    },
    {
     "name": "stderr",
     "output_type": "stream",
     "text": [
      "/usr/local/lib/python3.10/dist-packages/torch/nn/functional.py:1375: UserWarning: dropout3d: Received a 2-D input to dropout3d, which is deprecated and will result in an error in a future release. To retain the behavior and silence this warning, please use dropout instead. Note that dropout3d exists to provide channel-wise dropout on inputs with 3 spatial dimensions, a channel dimension, and an optional batch dimension (i.e. 4D or 5D inputs).\n",
      "  warnings.warn(warn_msg)\n",
      "/usr/local/lib/python3.10/dist-packages/torch/nn/functional.py:1375: UserWarning: dropout3d: Received a 2-D input to dropout3d, which is deprecated and will result in an error in a future release. To retain the behavior and silence this warning, please use dropout instead. Note that dropout3d exists to provide channel-wise dropout on inputs with 3 spatial dimensions, a channel dimension, and an optional batch dimension (i.e. 4D or 5D inputs).\n",
      "  warnings.warn(warn_msg)\n",
      "/usr/local/lib/python3.10/dist-packages/torch/nn/functional.py:1375: UserWarning: dropout3d: Received a 2-D input to dropout3d, which is deprecated and will result in an error in a future release. To retain the behavior and silence this warning, please use dropout instead. Note that dropout3d exists to provide channel-wise dropout on inputs with 3 spatial dimensions, a channel dimension, and an optional batch dimension (i.e. 4D or 5D inputs).\n",
      "  warnings.warn(warn_msg)\n",
      "/usr/local/lib/python3.10/dist-packages/torch/nn/functional.py:1375: UserWarning: dropout3d: Received a 2-D input to dropout3d, which is deprecated and will result in an error in a future release. To retain the behavior and silence this warning, please use dropout instead. Note that dropout3d exists to provide channel-wise dropout on inputs with 3 spatial dimensions, a channel dimension, and an optional batch dimension (i.e. 4D or 5D inputs).\n",
      "  warnings.warn(warn_msg)\n",
      "/usr/local/lib/python3.10/dist-packages/torch/nn/functional.py:1375: UserWarning: dropout3d: Received a 2-D input to dropout3d, which is deprecated and will result in an error in a future release. To retain the behavior and silence this warning, please use dropout instead. Note that dropout3d exists to provide channel-wise dropout on inputs with 3 spatial dimensions, a channel dimension, and an optional batch dimension (i.e. 4D or 5D inputs).\n",
      "  warnings.warn(warn_msg)\n",
      "/usr/local/lib/python3.10/dist-packages/torch/nn/functional.py:1375: UserWarning: dropout3d: Received a 2-D input to dropout3d, which is deprecated and will result in an error in a future release. To retain the behavior and silence this warning, please use dropout instead. Note that dropout3d exists to provide channel-wise dropout on inputs with 3 spatial dimensions, a channel dimension, and an optional batch dimension (i.e. 4D or 5D inputs).\n",
      "  warnings.warn(warn_msg)\n",
      "/usr/local/lib/python3.10/dist-packages/torch/nn/functional.py:1375: UserWarning: dropout3d: Received a 2-D input to dropout3d, which is deprecated and will result in an error in a future release. To retain the behavior and silence this warning, please use dropout instead. Note that dropout3d exists to provide channel-wise dropout on inputs with 3 spatial dimensions, a channel dimension, and an optional batch dimension (i.e. 4D or 5D inputs).\n",
      "  warnings.warn(warn_msg)\n"
     ]
    },
    {
     "name": "stdout",
     "output_type": "stream",
     "text": [
      "Epoch 17: loss = 0.0785, accuracy = 0.9955, F1-score = 0.9885\n"
     ]
    },
    {
     "name": "stderr",
     "output_type": "stream",
     "text": [
      "/usr/local/lib/python3.10/dist-packages/torch/nn/functional.py:1375: UserWarning: dropout3d: Received a 2-D input to dropout3d, which is deprecated and will result in an error in a future release. To retain the behavior and silence this warning, please use dropout instead. Note that dropout3d exists to provide channel-wise dropout on inputs with 3 spatial dimensions, a channel dimension, and an optional batch dimension (i.e. 4D or 5D inputs).\n",
      "  warnings.warn(warn_msg)\n",
      "/usr/local/lib/python3.10/dist-packages/torch/nn/functional.py:1375: UserWarning: dropout3d: Received a 2-D input to dropout3d, which is deprecated and will result in an error in a future release. To retain the behavior and silence this warning, please use dropout instead. Note that dropout3d exists to provide channel-wise dropout on inputs with 3 spatial dimensions, a channel dimension, and an optional batch dimension (i.e. 4D or 5D inputs).\n",
      "  warnings.warn(warn_msg)\n",
      "/usr/local/lib/python3.10/dist-packages/torch/nn/functional.py:1375: UserWarning: dropout3d: Received a 2-D input to dropout3d, which is deprecated and will result in an error in a future release. To retain the behavior and silence this warning, please use dropout instead. Note that dropout3d exists to provide channel-wise dropout on inputs with 3 spatial dimensions, a channel dimension, and an optional batch dimension (i.e. 4D or 5D inputs).\n",
      "  warnings.warn(warn_msg)\n",
      "/usr/local/lib/python3.10/dist-packages/torch/nn/functional.py:1375: UserWarning: dropout3d: Received a 2-D input to dropout3d, which is deprecated and will result in an error in a future release. To retain the behavior and silence this warning, please use dropout instead. Note that dropout3d exists to provide channel-wise dropout on inputs with 3 spatial dimensions, a channel dimension, and an optional batch dimension (i.e. 4D or 5D inputs).\n",
      "  warnings.warn(warn_msg)\n",
      "/usr/local/lib/python3.10/dist-packages/torch/nn/functional.py:1375: UserWarning: dropout3d: Received a 2-D input to dropout3d, which is deprecated and will result in an error in a future release. To retain the behavior and silence this warning, please use dropout instead. Note that dropout3d exists to provide channel-wise dropout on inputs with 3 spatial dimensions, a channel dimension, and an optional batch dimension (i.e. 4D or 5D inputs).\n",
      "  warnings.warn(warn_msg)\n",
      "/usr/local/lib/python3.10/dist-packages/torch/nn/functional.py:1375: UserWarning: dropout3d: Received a 2-D input to dropout3d, which is deprecated and will result in an error in a future release. To retain the behavior and silence this warning, please use dropout instead. Note that dropout3d exists to provide channel-wise dropout on inputs with 3 spatial dimensions, a channel dimension, and an optional batch dimension (i.e. 4D or 5D inputs).\n",
      "  warnings.warn(warn_msg)\n",
      "/usr/local/lib/python3.10/dist-packages/torch/nn/functional.py:1375: UserWarning: dropout3d: Received a 2-D input to dropout3d, which is deprecated and will result in an error in a future release. To retain the behavior and silence this warning, please use dropout instead. Note that dropout3d exists to provide channel-wise dropout on inputs with 3 spatial dimensions, a channel dimension, and an optional batch dimension (i.e. 4D or 5D inputs).\n",
      "  warnings.warn(warn_msg)\n"
     ]
    },
    {
     "name": "stdout",
     "output_type": "stream",
     "text": [
      "Epoch 18: loss = 0.0736, accuracy = 0.9955, F1-score = 0.9885\n"
     ]
    },
    {
     "name": "stderr",
     "output_type": "stream",
     "text": [
      "/usr/local/lib/python3.10/dist-packages/torch/nn/functional.py:1375: UserWarning: dropout3d: Received a 2-D input to dropout3d, which is deprecated and will result in an error in a future release. To retain the behavior and silence this warning, please use dropout instead. Note that dropout3d exists to provide channel-wise dropout on inputs with 3 spatial dimensions, a channel dimension, and an optional batch dimension (i.e. 4D or 5D inputs).\n",
      "  warnings.warn(warn_msg)\n",
      "/usr/local/lib/python3.10/dist-packages/torch/nn/functional.py:1375: UserWarning: dropout3d: Received a 2-D input to dropout3d, which is deprecated and will result in an error in a future release. To retain the behavior and silence this warning, please use dropout instead. Note that dropout3d exists to provide channel-wise dropout on inputs with 3 spatial dimensions, a channel dimension, and an optional batch dimension (i.e. 4D or 5D inputs).\n",
      "  warnings.warn(warn_msg)\n",
      "/usr/local/lib/python3.10/dist-packages/torch/nn/functional.py:1375: UserWarning: dropout3d: Received a 2-D input to dropout3d, which is deprecated and will result in an error in a future release. To retain the behavior and silence this warning, please use dropout instead. Note that dropout3d exists to provide channel-wise dropout on inputs with 3 spatial dimensions, a channel dimension, and an optional batch dimension (i.e. 4D or 5D inputs).\n",
      "  warnings.warn(warn_msg)\n",
      "/usr/local/lib/python3.10/dist-packages/torch/nn/functional.py:1375: UserWarning: dropout3d: Received a 2-D input to dropout3d, which is deprecated and will result in an error in a future release. To retain the behavior and silence this warning, please use dropout instead. Note that dropout3d exists to provide channel-wise dropout on inputs with 3 spatial dimensions, a channel dimension, and an optional batch dimension (i.e. 4D or 5D inputs).\n",
      "  warnings.warn(warn_msg)\n",
      "/usr/local/lib/python3.10/dist-packages/torch/nn/functional.py:1375: UserWarning: dropout3d: Received a 2-D input to dropout3d, which is deprecated and will result in an error in a future release. To retain the behavior and silence this warning, please use dropout instead. Note that dropout3d exists to provide channel-wise dropout on inputs with 3 spatial dimensions, a channel dimension, and an optional batch dimension (i.e. 4D or 5D inputs).\n",
      "  warnings.warn(warn_msg)\n",
      "/usr/local/lib/python3.10/dist-packages/torch/nn/functional.py:1375: UserWarning: dropout3d: Received a 2-D input to dropout3d, which is deprecated and will result in an error in a future release. To retain the behavior and silence this warning, please use dropout instead. Note that dropout3d exists to provide channel-wise dropout on inputs with 3 spatial dimensions, a channel dimension, and an optional batch dimension (i.e. 4D or 5D inputs).\n",
      "  warnings.warn(warn_msg)\n",
      "/usr/local/lib/python3.10/dist-packages/torch/nn/functional.py:1375: UserWarning: dropout3d: Received a 2-D input to dropout3d, which is deprecated and will result in an error in a future release. To retain the behavior and silence this warning, please use dropout instead. Note that dropout3d exists to provide channel-wise dropout on inputs with 3 spatial dimensions, a channel dimension, and an optional batch dimension (i.e. 4D or 5D inputs).\n",
      "  warnings.warn(warn_msg)\n"
     ]
    },
    {
     "name": "stdout",
     "output_type": "stream",
     "text": [
      "Epoch 19: loss = 0.0698, accuracy = 0.9955, F1-score = 0.9885\n"
     ]
    },
    {
     "name": "stderr",
     "output_type": "stream",
     "text": [
      "/usr/local/lib/python3.10/dist-packages/torch/nn/functional.py:1375: UserWarning: dropout3d: Received a 2-D input to dropout3d, which is deprecated and will result in an error in a future release. To retain the behavior and silence this warning, please use dropout instead. Note that dropout3d exists to provide channel-wise dropout on inputs with 3 spatial dimensions, a channel dimension, and an optional batch dimension (i.e. 4D or 5D inputs).\n",
      "  warnings.warn(warn_msg)\n",
      "/usr/local/lib/python3.10/dist-packages/torch/nn/functional.py:1375: UserWarning: dropout3d: Received a 2-D input to dropout3d, which is deprecated and will result in an error in a future release. To retain the behavior and silence this warning, please use dropout instead. Note that dropout3d exists to provide channel-wise dropout on inputs with 3 spatial dimensions, a channel dimension, and an optional batch dimension (i.e. 4D or 5D inputs).\n",
      "  warnings.warn(warn_msg)\n",
      "/usr/local/lib/python3.10/dist-packages/torch/nn/functional.py:1375: UserWarning: dropout3d: Received a 2-D input to dropout3d, which is deprecated and will result in an error in a future release. To retain the behavior and silence this warning, please use dropout instead. Note that dropout3d exists to provide channel-wise dropout on inputs with 3 spatial dimensions, a channel dimension, and an optional batch dimension (i.e. 4D or 5D inputs).\n",
      "  warnings.warn(warn_msg)\n",
      "/usr/local/lib/python3.10/dist-packages/torch/nn/functional.py:1375: UserWarning: dropout3d: Received a 2-D input to dropout3d, which is deprecated and will result in an error in a future release. To retain the behavior and silence this warning, please use dropout instead. Note that dropout3d exists to provide channel-wise dropout on inputs with 3 spatial dimensions, a channel dimension, and an optional batch dimension (i.e. 4D or 5D inputs).\n",
      "  warnings.warn(warn_msg)\n",
      "/usr/local/lib/python3.10/dist-packages/torch/nn/functional.py:1375: UserWarning: dropout3d: Received a 2-D input to dropout3d, which is deprecated and will result in an error in a future release. To retain the behavior and silence this warning, please use dropout instead. Note that dropout3d exists to provide channel-wise dropout on inputs with 3 spatial dimensions, a channel dimension, and an optional batch dimension (i.e. 4D or 5D inputs).\n",
      "  warnings.warn(warn_msg)\n",
      "/usr/local/lib/python3.10/dist-packages/torch/nn/functional.py:1375: UserWarning: dropout3d: Received a 2-D input to dropout3d, which is deprecated and will result in an error in a future release. To retain the behavior and silence this warning, please use dropout instead. Note that dropout3d exists to provide channel-wise dropout on inputs with 3 spatial dimensions, a channel dimension, and an optional batch dimension (i.e. 4D or 5D inputs).\n",
      "  warnings.warn(warn_msg)\n",
      "/usr/local/lib/python3.10/dist-packages/torch/nn/functional.py:1375: UserWarning: dropout3d: Received a 2-D input to dropout3d, which is deprecated and will result in an error in a future release. To retain the behavior and silence this warning, please use dropout instead. Note that dropout3d exists to provide channel-wise dropout on inputs with 3 spatial dimensions, a channel dimension, and an optional batch dimension (i.e. 4D or 5D inputs).\n",
      "  warnings.warn(warn_msg)\n"
     ]
    },
    {
     "name": "stdout",
     "output_type": "stream",
     "text": [
      "Epoch 20: loss = 0.0678, accuracy = 1.0000, F1-score = 1.0000\n"
     ]
    },
    {
     "name": "stderr",
     "output_type": "stream",
     "text": [
      "/usr/local/lib/python3.10/dist-packages/torch/nn/functional.py:1375: UserWarning: dropout3d: Received a 2-D input to dropout3d, which is deprecated and will result in an error in a future release. To retain the behavior and silence this warning, please use dropout instead. Note that dropout3d exists to provide channel-wise dropout on inputs with 3 spatial dimensions, a channel dimension, and an optional batch dimension (i.e. 4D or 5D inputs).\n",
      "  warnings.warn(warn_msg)\n",
      "/usr/local/lib/python3.10/dist-packages/torch/nn/functional.py:1375: UserWarning: dropout3d: Received a 2-D input to dropout3d, which is deprecated and will result in an error in a future release. To retain the behavior and silence this warning, please use dropout instead. Note that dropout3d exists to provide channel-wise dropout on inputs with 3 spatial dimensions, a channel dimension, and an optional batch dimension (i.e. 4D or 5D inputs).\n",
      "  warnings.warn(warn_msg)\n",
      "/usr/local/lib/python3.10/dist-packages/torch/nn/functional.py:1375: UserWarning: dropout3d: Received a 2-D input to dropout3d, which is deprecated and will result in an error in a future release. To retain the behavior and silence this warning, please use dropout instead. Note that dropout3d exists to provide channel-wise dropout on inputs with 3 spatial dimensions, a channel dimension, and an optional batch dimension (i.e. 4D or 5D inputs).\n",
      "  warnings.warn(warn_msg)\n",
      "/usr/local/lib/python3.10/dist-packages/torch/nn/functional.py:1375: UserWarning: dropout3d: Received a 2-D input to dropout3d, which is deprecated and will result in an error in a future release. To retain the behavior and silence this warning, please use dropout instead. Note that dropout3d exists to provide channel-wise dropout on inputs with 3 spatial dimensions, a channel dimension, and an optional batch dimension (i.e. 4D or 5D inputs).\n",
      "  warnings.warn(warn_msg)\n",
      "/usr/local/lib/python3.10/dist-packages/torch/nn/functional.py:1375: UserWarning: dropout3d: Received a 2-D input to dropout3d, which is deprecated and will result in an error in a future release. To retain the behavior and silence this warning, please use dropout instead. Note that dropout3d exists to provide channel-wise dropout on inputs with 3 spatial dimensions, a channel dimension, and an optional batch dimension (i.e. 4D or 5D inputs).\n",
      "  warnings.warn(warn_msg)\n",
      "/usr/local/lib/python3.10/dist-packages/torch/nn/functional.py:1375: UserWarning: dropout3d: Received a 2-D input to dropout3d, which is deprecated and will result in an error in a future release. To retain the behavior and silence this warning, please use dropout instead. Note that dropout3d exists to provide channel-wise dropout on inputs with 3 spatial dimensions, a channel dimension, and an optional batch dimension (i.e. 4D or 5D inputs).\n",
      "  warnings.warn(warn_msg)\n",
      "/usr/local/lib/python3.10/dist-packages/torch/nn/functional.py:1375: UserWarning: dropout3d: Received a 2-D input to dropout3d, which is deprecated and will result in an error in a future release. To retain the behavior and silence this warning, please use dropout instead. Note that dropout3d exists to provide channel-wise dropout on inputs with 3 spatial dimensions, a channel dimension, and an optional batch dimension (i.e. 4D or 5D inputs).\n",
      "  warnings.warn(warn_msg)\n"
     ]
    },
    {
     "name": "stdout",
     "output_type": "stream",
     "text": [
      "Epoch 21: loss = 0.0677, accuracy = 1.0000, F1-score = 1.0000\n"
     ]
    },
    {
     "name": "stderr",
     "output_type": "stream",
     "text": [
      "/usr/local/lib/python3.10/dist-packages/torch/nn/functional.py:1375: UserWarning: dropout3d: Received a 2-D input to dropout3d, which is deprecated and will result in an error in a future release. To retain the behavior and silence this warning, please use dropout instead. Note that dropout3d exists to provide channel-wise dropout on inputs with 3 spatial dimensions, a channel dimension, and an optional batch dimension (i.e. 4D or 5D inputs).\n",
      "  warnings.warn(warn_msg)\n",
      "/usr/local/lib/python3.10/dist-packages/torch/nn/functional.py:1375: UserWarning: dropout3d: Received a 2-D input to dropout3d, which is deprecated and will result in an error in a future release. To retain the behavior and silence this warning, please use dropout instead. Note that dropout3d exists to provide channel-wise dropout on inputs with 3 spatial dimensions, a channel dimension, and an optional batch dimension (i.e. 4D or 5D inputs).\n",
      "  warnings.warn(warn_msg)\n",
      "/usr/local/lib/python3.10/dist-packages/torch/nn/functional.py:1375: UserWarning: dropout3d: Received a 2-D input to dropout3d, which is deprecated and will result in an error in a future release. To retain the behavior and silence this warning, please use dropout instead. Note that dropout3d exists to provide channel-wise dropout on inputs with 3 spatial dimensions, a channel dimension, and an optional batch dimension (i.e. 4D or 5D inputs).\n",
      "  warnings.warn(warn_msg)\n",
      "/usr/local/lib/python3.10/dist-packages/torch/nn/functional.py:1375: UserWarning: dropout3d: Received a 2-D input to dropout3d, which is deprecated and will result in an error in a future release. To retain the behavior and silence this warning, please use dropout instead. Note that dropout3d exists to provide channel-wise dropout on inputs with 3 spatial dimensions, a channel dimension, and an optional batch dimension (i.e. 4D or 5D inputs).\n",
      "  warnings.warn(warn_msg)\n",
      "/usr/local/lib/python3.10/dist-packages/torch/nn/functional.py:1375: UserWarning: dropout3d: Received a 2-D input to dropout3d, which is deprecated and will result in an error in a future release. To retain the behavior and silence this warning, please use dropout instead. Note that dropout3d exists to provide channel-wise dropout on inputs with 3 spatial dimensions, a channel dimension, and an optional batch dimension (i.e. 4D or 5D inputs).\n",
      "  warnings.warn(warn_msg)\n",
      "/usr/local/lib/python3.10/dist-packages/torch/nn/functional.py:1375: UserWarning: dropout3d: Received a 2-D input to dropout3d, which is deprecated and will result in an error in a future release. To retain the behavior and silence this warning, please use dropout instead. Note that dropout3d exists to provide channel-wise dropout on inputs with 3 spatial dimensions, a channel dimension, and an optional batch dimension (i.e. 4D or 5D inputs).\n",
      "  warnings.warn(warn_msg)\n",
      "/usr/local/lib/python3.10/dist-packages/torch/nn/functional.py:1375: UserWarning: dropout3d: Received a 2-D input to dropout3d, which is deprecated and will result in an error in a future release. To retain the behavior and silence this warning, please use dropout instead. Note that dropout3d exists to provide channel-wise dropout on inputs with 3 spatial dimensions, a channel dimension, and an optional batch dimension (i.e. 4D or 5D inputs).\n",
      "  warnings.warn(warn_msg)\n"
     ]
    },
    {
     "name": "stdout",
     "output_type": "stream",
     "text": [
      "Epoch 22: loss = 0.0620, accuracy = 1.0000, F1-score = 1.0000\n"
     ]
    },
    {
     "name": "stderr",
     "output_type": "stream",
     "text": [
      "/usr/local/lib/python3.10/dist-packages/torch/nn/functional.py:1375: UserWarning: dropout3d: Received a 2-D input to dropout3d, which is deprecated and will result in an error in a future release. To retain the behavior and silence this warning, please use dropout instead. Note that dropout3d exists to provide channel-wise dropout on inputs with 3 spatial dimensions, a channel dimension, and an optional batch dimension (i.e. 4D or 5D inputs).\n",
      "  warnings.warn(warn_msg)\n",
      "/usr/local/lib/python3.10/dist-packages/torch/nn/functional.py:1375: UserWarning: dropout3d: Received a 2-D input to dropout3d, which is deprecated and will result in an error in a future release. To retain the behavior and silence this warning, please use dropout instead. Note that dropout3d exists to provide channel-wise dropout on inputs with 3 spatial dimensions, a channel dimension, and an optional batch dimension (i.e. 4D or 5D inputs).\n",
      "  warnings.warn(warn_msg)\n",
      "/usr/local/lib/python3.10/dist-packages/torch/nn/functional.py:1375: UserWarning: dropout3d: Received a 2-D input to dropout3d, which is deprecated and will result in an error in a future release. To retain the behavior and silence this warning, please use dropout instead. Note that dropout3d exists to provide channel-wise dropout on inputs with 3 spatial dimensions, a channel dimension, and an optional batch dimension (i.e. 4D or 5D inputs).\n",
      "  warnings.warn(warn_msg)\n",
      "/usr/local/lib/python3.10/dist-packages/torch/nn/functional.py:1375: UserWarning: dropout3d: Received a 2-D input to dropout3d, which is deprecated and will result in an error in a future release. To retain the behavior and silence this warning, please use dropout instead. Note that dropout3d exists to provide channel-wise dropout on inputs with 3 spatial dimensions, a channel dimension, and an optional batch dimension (i.e. 4D or 5D inputs).\n",
      "  warnings.warn(warn_msg)\n",
      "/usr/local/lib/python3.10/dist-packages/torch/nn/functional.py:1375: UserWarning: dropout3d: Received a 2-D input to dropout3d, which is deprecated and will result in an error in a future release. To retain the behavior and silence this warning, please use dropout instead. Note that dropout3d exists to provide channel-wise dropout on inputs with 3 spatial dimensions, a channel dimension, and an optional batch dimension (i.e. 4D or 5D inputs).\n",
      "  warnings.warn(warn_msg)\n",
      "/usr/local/lib/python3.10/dist-packages/torch/nn/functional.py:1375: UserWarning: dropout3d: Received a 2-D input to dropout3d, which is deprecated and will result in an error in a future release. To retain the behavior and silence this warning, please use dropout instead. Note that dropout3d exists to provide channel-wise dropout on inputs with 3 spatial dimensions, a channel dimension, and an optional batch dimension (i.e. 4D or 5D inputs).\n",
      "  warnings.warn(warn_msg)\n",
      "/usr/local/lib/python3.10/dist-packages/torch/nn/functional.py:1375: UserWarning: dropout3d: Received a 2-D input to dropout3d, which is deprecated and will result in an error in a future release. To retain the behavior and silence this warning, please use dropout instead. Note that dropout3d exists to provide channel-wise dropout on inputs with 3 spatial dimensions, a channel dimension, and an optional batch dimension (i.e. 4D or 5D inputs).\n",
      "  warnings.warn(warn_msg)\n"
     ]
    },
    {
     "name": "stdout",
     "output_type": "stream",
     "text": [
      "Epoch 23: loss = 0.0600, accuracy = 1.0000, F1-score = 1.0000\n"
     ]
    },
    {
     "name": "stderr",
     "output_type": "stream",
     "text": [
      "/usr/local/lib/python3.10/dist-packages/torch/nn/functional.py:1375: UserWarning: dropout3d: Received a 2-D input to dropout3d, which is deprecated and will result in an error in a future release. To retain the behavior and silence this warning, please use dropout instead. Note that dropout3d exists to provide channel-wise dropout on inputs with 3 spatial dimensions, a channel dimension, and an optional batch dimension (i.e. 4D or 5D inputs).\n",
      "  warnings.warn(warn_msg)\n",
      "/usr/local/lib/python3.10/dist-packages/torch/nn/functional.py:1375: UserWarning: dropout3d: Received a 2-D input to dropout3d, which is deprecated and will result in an error in a future release. To retain the behavior and silence this warning, please use dropout instead. Note that dropout3d exists to provide channel-wise dropout on inputs with 3 spatial dimensions, a channel dimension, and an optional batch dimension (i.e. 4D or 5D inputs).\n",
      "  warnings.warn(warn_msg)\n",
      "/usr/local/lib/python3.10/dist-packages/torch/nn/functional.py:1375: UserWarning: dropout3d: Received a 2-D input to dropout3d, which is deprecated and will result in an error in a future release. To retain the behavior and silence this warning, please use dropout instead. Note that dropout3d exists to provide channel-wise dropout on inputs with 3 spatial dimensions, a channel dimension, and an optional batch dimension (i.e. 4D or 5D inputs).\n",
      "  warnings.warn(warn_msg)\n",
      "/usr/local/lib/python3.10/dist-packages/torch/nn/functional.py:1375: UserWarning: dropout3d: Received a 2-D input to dropout3d, which is deprecated and will result in an error in a future release. To retain the behavior and silence this warning, please use dropout instead. Note that dropout3d exists to provide channel-wise dropout on inputs with 3 spatial dimensions, a channel dimension, and an optional batch dimension (i.e. 4D or 5D inputs).\n",
      "  warnings.warn(warn_msg)\n",
      "/usr/local/lib/python3.10/dist-packages/torch/nn/functional.py:1375: UserWarning: dropout3d: Received a 2-D input to dropout3d, which is deprecated and will result in an error in a future release. To retain the behavior and silence this warning, please use dropout instead. Note that dropout3d exists to provide channel-wise dropout on inputs with 3 spatial dimensions, a channel dimension, and an optional batch dimension (i.e. 4D or 5D inputs).\n",
      "  warnings.warn(warn_msg)\n",
      "/usr/local/lib/python3.10/dist-packages/torch/nn/functional.py:1375: UserWarning: dropout3d: Received a 2-D input to dropout3d, which is deprecated and will result in an error in a future release. To retain the behavior and silence this warning, please use dropout instead. Note that dropout3d exists to provide channel-wise dropout on inputs with 3 spatial dimensions, a channel dimension, and an optional batch dimension (i.e. 4D or 5D inputs).\n",
      "  warnings.warn(warn_msg)\n",
      "/usr/local/lib/python3.10/dist-packages/torch/nn/functional.py:1375: UserWarning: dropout3d: Received a 2-D input to dropout3d, which is deprecated and will result in an error in a future release. To retain the behavior and silence this warning, please use dropout instead. Note that dropout3d exists to provide channel-wise dropout on inputs with 3 spatial dimensions, a channel dimension, and an optional batch dimension (i.e. 4D or 5D inputs).\n",
      "  warnings.warn(warn_msg)\n"
     ]
    },
    {
     "name": "stdout",
     "output_type": "stream",
     "text": [
      "Epoch 24: loss = 0.0615, accuracy = 1.0000, F1-score = 1.0000\n"
     ]
    },
    {
     "name": "stderr",
     "output_type": "stream",
     "text": [
      "/usr/local/lib/python3.10/dist-packages/torch/nn/functional.py:1375: UserWarning: dropout3d: Received a 2-D input to dropout3d, which is deprecated and will result in an error in a future release. To retain the behavior and silence this warning, please use dropout instead. Note that dropout3d exists to provide channel-wise dropout on inputs with 3 spatial dimensions, a channel dimension, and an optional batch dimension (i.e. 4D or 5D inputs).\n",
      "  warnings.warn(warn_msg)\n",
      "/usr/local/lib/python3.10/dist-packages/torch/nn/functional.py:1375: UserWarning: dropout3d: Received a 2-D input to dropout3d, which is deprecated and will result in an error in a future release. To retain the behavior and silence this warning, please use dropout instead. Note that dropout3d exists to provide channel-wise dropout on inputs with 3 spatial dimensions, a channel dimension, and an optional batch dimension (i.e. 4D or 5D inputs).\n",
      "  warnings.warn(warn_msg)\n",
      "/usr/local/lib/python3.10/dist-packages/torch/nn/functional.py:1375: UserWarning: dropout3d: Received a 2-D input to dropout3d, which is deprecated and will result in an error in a future release. To retain the behavior and silence this warning, please use dropout instead. Note that dropout3d exists to provide channel-wise dropout on inputs with 3 spatial dimensions, a channel dimension, and an optional batch dimension (i.e. 4D or 5D inputs).\n",
      "  warnings.warn(warn_msg)\n",
      "/usr/local/lib/python3.10/dist-packages/torch/nn/functional.py:1375: UserWarning: dropout3d: Received a 2-D input to dropout3d, which is deprecated and will result in an error in a future release. To retain the behavior and silence this warning, please use dropout instead. Note that dropout3d exists to provide channel-wise dropout on inputs with 3 spatial dimensions, a channel dimension, and an optional batch dimension (i.e. 4D or 5D inputs).\n",
      "  warnings.warn(warn_msg)\n",
      "/usr/local/lib/python3.10/dist-packages/torch/nn/functional.py:1375: UserWarning: dropout3d: Received a 2-D input to dropout3d, which is deprecated and will result in an error in a future release. To retain the behavior and silence this warning, please use dropout instead. Note that dropout3d exists to provide channel-wise dropout on inputs with 3 spatial dimensions, a channel dimension, and an optional batch dimension (i.e. 4D or 5D inputs).\n",
      "  warnings.warn(warn_msg)\n",
      "/usr/local/lib/python3.10/dist-packages/torch/nn/functional.py:1375: UserWarning: dropout3d: Received a 2-D input to dropout3d, which is deprecated and will result in an error in a future release. To retain the behavior and silence this warning, please use dropout instead. Note that dropout3d exists to provide channel-wise dropout on inputs with 3 spatial dimensions, a channel dimension, and an optional batch dimension (i.e. 4D or 5D inputs).\n",
      "  warnings.warn(warn_msg)\n",
      "/usr/local/lib/python3.10/dist-packages/torch/nn/functional.py:1375: UserWarning: dropout3d: Received a 2-D input to dropout3d, which is deprecated and will result in an error in a future release. To retain the behavior and silence this warning, please use dropout instead. Note that dropout3d exists to provide channel-wise dropout on inputs with 3 spatial dimensions, a channel dimension, and an optional batch dimension (i.e. 4D or 5D inputs).\n",
      "  warnings.warn(warn_msg)\n"
     ]
    },
    {
     "name": "stdout",
     "output_type": "stream",
     "text": [
      "Epoch 25: loss = 0.0563, accuracy = 1.0000, F1-score = 1.0000\n"
     ]
    },
    {
     "name": "stderr",
     "output_type": "stream",
     "text": [
      "/usr/local/lib/python3.10/dist-packages/torch/nn/functional.py:1375: UserWarning: dropout3d: Received a 2-D input to dropout3d, which is deprecated and will result in an error in a future release. To retain the behavior and silence this warning, please use dropout instead. Note that dropout3d exists to provide channel-wise dropout on inputs with 3 spatial dimensions, a channel dimension, and an optional batch dimension (i.e. 4D or 5D inputs).\n",
      "  warnings.warn(warn_msg)\n",
      "/usr/local/lib/python3.10/dist-packages/torch/nn/functional.py:1375: UserWarning: dropout3d: Received a 2-D input to dropout3d, which is deprecated and will result in an error in a future release. To retain the behavior and silence this warning, please use dropout instead. Note that dropout3d exists to provide channel-wise dropout on inputs with 3 spatial dimensions, a channel dimension, and an optional batch dimension (i.e. 4D or 5D inputs).\n",
      "  warnings.warn(warn_msg)\n",
      "/usr/local/lib/python3.10/dist-packages/torch/nn/functional.py:1375: UserWarning: dropout3d: Received a 2-D input to dropout3d, which is deprecated and will result in an error in a future release. To retain the behavior and silence this warning, please use dropout instead. Note that dropout3d exists to provide channel-wise dropout on inputs with 3 spatial dimensions, a channel dimension, and an optional batch dimension (i.e. 4D or 5D inputs).\n",
      "  warnings.warn(warn_msg)\n",
      "/usr/local/lib/python3.10/dist-packages/torch/nn/functional.py:1375: UserWarning: dropout3d: Received a 2-D input to dropout3d, which is deprecated and will result in an error in a future release. To retain the behavior and silence this warning, please use dropout instead. Note that dropout3d exists to provide channel-wise dropout on inputs with 3 spatial dimensions, a channel dimension, and an optional batch dimension (i.e. 4D or 5D inputs).\n",
      "  warnings.warn(warn_msg)\n",
      "/usr/local/lib/python3.10/dist-packages/torch/nn/functional.py:1375: UserWarning: dropout3d: Received a 2-D input to dropout3d, which is deprecated and will result in an error in a future release. To retain the behavior and silence this warning, please use dropout instead. Note that dropout3d exists to provide channel-wise dropout on inputs with 3 spatial dimensions, a channel dimension, and an optional batch dimension (i.e. 4D or 5D inputs).\n",
      "  warnings.warn(warn_msg)\n",
      "/usr/local/lib/python3.10/dist-packages/torch/nn/functional.py:1375: UserWarning: dropout3d: Received a 2-D input to dropout3d, which is deprecated and will result in an error in a future release. To retain the behavior and silence this warning, please use dropout instead. Note that dropout3d exists to provide channel-wise dropout on inputs with 3 spatial dimensions, a channel dimension, and an optional batch dimension (i.e. 4D or 5D inputs).\n",
      "  warnings.warn(warn_msg)\n",
      "/usr/local/lib/python3.10/dist-packages/torch/nn/functional.py:1375: UserWarning: dropout3d: Received a 2-D input to dropout3d, which is deprecated and will result in an error in a future release. To retain the behavior and silence this warning, please use dropout instead. Note that dropout3d exists to provide channel-wise dropout on inputs with 3 spatial dimensions, a channel dimension, and an optional batch dimension (i.e. 4D or 5D inputs).\n",
      "  warnings.warn(warn_msg)\n"
     ]
    },
    {
     "name": "stdout",
     "output_type": "stream",
     "text": [
      "Epoch 26: loss = 0.0536, accuracy = 1.0000, F1-score = 1.0000\n"
     ]
    },
    {
     "name": "stderr",
     "output_type": "stream",
     "text": [
      "/usr/local/lib/python3.10/dist-packages/torch/nn/functional.py:1375: UserWarning: dropout3d: Received a 2-D input to dropout3d, which is deprecated and will result in an error in a future release. To retain the behavior and silence this warning, please use dropout instead. Note that dropout3d exists to provide channel-wise dropout on inputs with 3 spatial dimensions, a channel dimension, and an optional batch dimension (i.e. 4D or 5D inputs).\n",
      "  warnings.warn(warn_msg)\n",
      "/usr/local/lib/python3.10/dist-packages/torch/nn/functional.py:1375: UserWarning: dropout3d: Received a 2-D input to dropout3d, which is deprecated and will result in an error in a future release. To retain the behavior and silence this warning, please use dropout instead. Note that dropout3d exists to provide channel-wise dropout on inputs with 3 spatial dimensions, a channel dimension, and an optional batch dimension (i.e. 4D or 5D inputs).\n",
      "  warnings.warn(warn_msg)\n",
      "/usr/local/lib/python3.10/dist-packages/torch/nn/functional.py:1375: UserWarning: dropout3d: Received a 2-D input to dropout3d, which is deprecated and will result in an error in a future release. To retain the behavior and silence this warning, please use dropout instead. Note that dropout3d exists to provide channel-wise dropout on inputs with 3 spatial dimensions, a channel dimension, and an optional batch dimension (i.e. 4D or 5D inputs).\n",
      "  warnings.warn(warn_msg)\n",
      "/usr/local/lib/python3.10/dist-packages/torch/nn/functional.py:1375: UserWarning: dropout3d: Received a 2-D input to dropout3d, which is deprecated and will result in an error in a future release. To retain the behavior and silence this warning, please use dropout instead. Note that dropout3d exists to provide channel-wise dropout on inputs with 3 spatial dimensions, a channel dimension, and an optional batch dimension (i.e. 4D or 5D inputs).\n",
      "  warnings.warn(warn_msg)\n",
      "/usr/local/lib/python3.10/dist-packages/torch/nn/functional.py:1375: UserWarning: dropout3d: Received a 2-D input to dropout3d, which is deprecated and will result in an error in a future release. To retain the behavior and silence this warning, please use dropout instead. Note that dropout3d exists to provide channel-wise dropout on inputs with 3 spatial dimensions, a channel dimension, and an optional batch dimension (i.e. 4D or 5D inputs).\n",
      "  warnings.warn(warn_msg)\n",
      "/usr/local/lib/python3.10/dist-packages/torch/nn/functional.py:1375: UserWarning: dropout3d: Received a 2-D input to dropout3d, which is deprecated and will result in an error in a future release. To retain the behavior and silence this warning, please use dropout instead. Note that dropout3d exists to provide channel-wise dropout on inputs with 3 spatial dimensions, a channel dimension, and an optional batch dimension (i.e. 4D or 5D inputs).\n",
      "  warnings.warn(warn_msg)\n",
      "/usr/local/lib/python3.10/dist-packages/torch/nn/functional.py:1375: UserWarning: dropout3d: Received a 2-D input to dropout3d, which is deprecated and will result in an error in a future release. To retain the behavior and silence this warning, please use dropout instead. Note that dropout3d exists to provide channel-wise dropout on inputs with 3 spatial dimensions, a channel dimension, and an optional batch dimension (i.e. 4D or 5D inputs).\n",
      "  warnings.warn(warn_msg)\n"
     ]
    },
    {
     "name": "stdout",
     "output_type": "stream",
     "text": [
      "Epoch 27: loss = 0.0509, accuracy = 1.0000, F1-score = 1.0000\n"
     ]
    },
    {
     "name": "stderr",
     "output_type": "stream",
     "text": [
      "/usr/local/lib/python3.10/dist-packages/torch/nn/functional.py:1375: UserWarning: dropout3d: Received a 2-D input to dropout3d, which is deprecated and will result in an error in a future release. To retain the behavior and silence this warning, please use dropout instead. Note that dropout3d exists to provide channel-wise dropout on inputs with 3 spatial dimensions, a channel dimension, and an optional batch dimension (i.e. 4D or 5D inputs).\n",
      "  warnings.warn(warn_msg)\n",
      "/usr/local/lib/python3.10/dist-packages/torch/nn/functional.py:1375: UserWarning: dropout3d: Received a 2-D input to dropout3d, which is deprecated and will result in an error in a future release. To retain the behavior and silence this warning, please use dropout instead. Note that dropout3d exists to provide channel-wise dropout on inputs with 3 spatial dimensions, a channel dimension, and an optional batch dimension (i.e. 4D or 5D inputs).\n",
      "  warnings.warn(warn_msg)\n",
      "/usr/local/lib/python3.10/dist-packages/torch/nn/functional.py:1375: UserWarning: dropout3d: Received a 2-D input to dropout3d, which is deprecated and will result in an error in a future release. To retain the behavior and silence this warning, please use dropout instead. Note that dropout3d exists to provide channel-wise dropout on inputs with 3 spatial dimensions, a channel dimension, and an optional batch dimension (i.e. 4D or 5D inputs).\n",
      "  warnings.warn(warn_msg)\n",
      "/usr/local/lib/python3.10/dist-packages/torch/nn/functional.py:1375: UserWarning: dropout3d: Received a 2-D input to dropout3d, which is deprecated and will result in an error in a future release. To retain the behavior and silence this warning, please use dropout instead. Note that dropout3d exists to provide channel-wise dropout on inputs with 3 spatial dimensions, a channel dimension, and an optional batch dimension (i.e. 4D or 5D inputs).\n",
      "  warnings.warn(warn_msg)\n",
      "/usr/local/lib/python3.10/dist-packages/torch/nn/functional.py:1375: UserWarning: dropout3d: Received a 2-D input to dropout3d, which is deprecated and will result in an error in a future release. To retain the behavior and silence this warning, please use dropout instead. Note that dropout3d exists to provide channel-wise dropout on inputs with 3 spatial dimensions, a channel dimension, and an optional batch dimension (i.e. 4D or 5D inputs).\n",
      "  warnings.warn(warn_msg)\n",
      "/usr/local/lib/python3.10/dist-packages/torch/nn/functional.py:1375: UserWarning: dropout3d: Received a 2-D input to dropout3d, which is deprecated and will result in an error in a future release. To retain the behavior and silence this warning, please use dropout instead. Note that dropout3d exists to provide channel-wise dropout on inputs with 3 spatial dimensions, a channel dimension, and an optional batch dimension (i.e. 4D or 5D inputs).\n",
      "  warnings.warn(warn_msg)\n",
      "/usr/local/lib/python3.10/dist-packages/torch/nn/functional.py:1375: UserWarning: dropout3d: Received a 2-D input to dropout3d, which is deprecated and will result in an error in a future release. To retain the behavior and silence this warning, please use dropout instead. Note that dropout3d exists to provide channel-wise dropout on inputs with 3 spatial dimensions, a channel dimension, and an optional batch dimension (i.e. 4D or 5D inputs).\n",
      "  warnings.warn(warn_msg)\n"
     ]
    },
    {
     "name": "stdout",
     "output_type": "stream",
     "text": [
      "Epoch 28: loss = 0.0491, accuracy = 1.0000, F1-score = 1.0000\n"
     ]
    },
    {
     "name": "stderr",
     "output_type": "stream",
     "text": [
      "/usr/local/lib/python3.10/dist-packages/torch/nn/functional.py:1375: UserWarning: dropout3d: Received a 2-D input to dropout3d, which is deprecated and will result in an error in a future release. To retain the behavior and silence this warning, please use dropout instead. Note that dropout3d exists to provide channel-wise dropout on inputs with 3 spatial dimensions, a channel dimension, and an optional batch dimension (i.e. 4D or 5D inputs).\n",
      "  warnings.warn(warn_msg)\n",
      "/usr/local/lib/python3.10/dist-packages/torch/nn/functional.py:1375: UserWarning: dropout3d: Received a 2-D input to dropout3d, which is deprecated and will result in an error in a future release. To retain the behavior and silence this warning, please use dropout instead. Note that dropout3d exists to provide channel-wise dropout on inputs with 3 spatial dimensions, a channel dimension, and an optional batch dimension (i.e. 4D or 5D inputs).\n",
      "  warnings.warn(warn_msg)\n",
      "/usr/local/lib/python3.10/dist-packages/torch/nn/functional.py:1375: UserWarning: dropout3d: Received a 2-D input to dropout3d, which is deprecated and will result in an error in a future release. To retain the behavior and silence this warning, please use dropout instead. Note that dropout3d exists to provide channel-wise dropout on inputs with 3 spatial dimensions, a channel dimension, and an optional batch dimension (i.e. 4D or 5D inputs).\n",
      "  warnings.warn(warn_msg)\n",
      "/usr/local/lib/python3.10/dist-packages/torch/nn/functional.py:1375: UserWarning: dropout3d: Received a 2-D input to dropout3d, which is deprecated and will result in an error in a future release. To retain the behavior and silence this warning, please use dropout instead. Note that dropout3d exists to provide channel-wise dropout on inputs with 3 spatial dimensions, a channel dimension, and an optional batch dimension (i.e. 4D or 5D inputs).\n",
      "  warnings.warn(warn_msg)\n",
      "/usr/local/lib/python3.10/dist-packages/torch/nn/functional.py:1375: UserWarning: dropout3d: Received a 2-D input to dropout3d, which is deprecated and will result in an error in a future release. To retain the behavior and silence this warning, please use dropout instead. Note that dropout3d exists to provide channel-wise dropout on inputs with 3 spatial dimensions, a channel dimension, and an optional batch dimension (i.e. 4D or 5D inputs).\n",
      "  warnings.warn(warn_msg)\n",
      "/usr/local/lib/python3.10/dist-packages/torch/nn/functional.py:1375: UserWarning: dropout3d: Received a 2-D input to dropout3d, which is deprecated and will result in an error in a future release. To retain the behavior and silence this warning, please use dropout instead. Note that dropout3d exists to provide channel-wise dropout on inputs with 3 spatial dimensions, a channel dimension, and an optional batch dimension (i.e. 4D or 5D inputs).\n",
      "  warnings.warn(warn_msg)\n",
      "/usr/local/lib/python3.10/dist-packages/torch/nn/functional.py:1375: UserWarning: dropout3d: Received a 2-D input to dropout3d, which is deprecated and will result in an error in a future release. To retain the behavior and silence this warning, please use dropout instead. Note that dropout3d exists to provide channel-wise dropout on inputs with 3 spatial dimensions, a channel dimension, and an optional batch dimension (i.e. 4D or 5D inputs).\n",
      "  warnings.warn(warn_msg)\n"
     ]
    },
    {
     "name": "stdout",
     "output_type": "stream",
     "text": [
      "Epoch 29: loss = 0.0474, accuracy = 1.0000, F1-score = 1.0000\n"
     ]
    },
    {
     "name": "stderr",
     "output_type": "stream",
     "text": [
      "/usr/local/lib/python3.10/dist-packages/torch/nn/functional.py:1375: UserWarning: dropout3d: Received a 2-D input to dropout3d, which is deprecated and will result in an error in a future release. To retain the behavior and silence this warning, please use dropout instead. Note that dropout3d exists to provide channel-wise dropout on inputs with 3 spatial dimensions, a channel dimension, and an optional batch dimension (i.e. 4D or 5D inputs).\n",
      "  warnings.warn(warn_msg)\n",
      "/usr/local/lib/python3.10/dist-packages/torch/nn/functional.py:1375: UserWarning: dropout3d: Received a 2-D input to dropout3d, which is deprecated and will result in an error in a future release. To retain the behavior and silence this warning, please use dropout instead. Note that dropout3d exists to provide channel-wise dropout on inputs with 3 spatial dimensions, a channel dimension, and an optional batch dimension (i.e. 4D or 5D inputs).\n",
      "  warnings.warn(warn_msg)\n",
      "/usr/local/lib/python3.10/dist-packages/torch/nn/functional.py:1375: UserWarning: dropout3d: Received a 2-D input to dropout3d, which is deprecated and will result in an error in a future release. To retain the behavior and silence this warning, please use dropout instead. Note that dropout3d exists to provide channel-wise dropout on inputs with 3 spatial dimensions, a channel dimension, and an optional batch dimension (i.e. 4D or 5D inputs).\n",
      "  warnings.warn(warn_msg)\n",
      "/usr/local/lib/python3.10/dist-packages/torch/nn/functional.py:1375: UserWarning: dropout3d: Received a 2-D input to dropout3d, which is deprecated and will result in an error in a future release. To retain the behavior and silence this warning, please use dropout instead. Note that dropout3d exists to provide channel-wise dropout on inputs with 3 spatial dimensions, a channel dimension, and an optional batch dimension (i.e. 4D or 5D inputs).\n",
      "  warnings.warn(warn_msg)\n",
      "/usr/local/lib/python3.10/dist-packages/torch/nn/functional.py:1375: UserWarning: dropout3d: Received a 2-D input to dropout3d, which is deprecated and will result in an error in a future release. To retain the behavior and silence this warning, please use dropout instead. Note that dropout3d exists to provide channel-wise dropout on inputs with 3 spatial dimensions, a channel dimension, and an optional batch dimension (i.e. 4D or 5D inputs).\n",
      "  warnings.warn(warn_msg)\n",
      "/usr/local/lib/python3.10/dist-packages/torch/nn/functional.py:1375: UserWarning: dropout3d: Received a 2-D input to dropout3d, which is deprecated and will result in an error in a future release. To retain the behavior and silence this warning, please use dropout instead. Note that dropout3d exists to provide channel-wise dropout on inputs with 3 spatial dimensions, a channel dimension, and an optional batch dimension (i.e. 4D or 5D inputs).\n",
      "  warnings.warn(warn_msg)\n",
      "/usr/local/lib/python3.10/dist-packages/torch/nn/functional.py:1375: UserWarning: dropout3d: Received a 2-D input to dropout3d, which is deprecated and will result in an error in a future release. To retain the behavior and silence this warning, please use dropout instead. Note that dropout3d exists to provide channel-wise dropout on inputs with 3 spatial dimensions, a channel dimension, and an optional batch dimension (i.e. 4D or 5D inputs).\n",
      "  warnings.warn(warn_msg)\n"
     ]
    },
    {
     "name": "stdout",
     "output_type": "stream",
     "text": [
      "Epoch 30: loss = 0.0453, accuracy = 1.0000, F1-score = 1.0000\n"
     ]
    },
    {
     "name": "stderr",
     "output_type": "stream",
     "text": [
      "/usr/local/lib/python3.10/dist-packages/torch/nn/functional.py:1375: UserWarning: dropout3d: Received a 2-D input to dropout3d, which is deprecated and will result in an error in a future release. To retain the behavior and silence this warning, please use dropout instead. Note that dropout3d exists to provide channel-wise dropout on inputs with 3 spatial dimensions, a channel dimension, and an optional batch dimension (i.e. 4D or 5D inputs).\n",
      "  warnings.warn(warn_msg)\n",
      "/usr/local/lib/python3.10/dist-packages/torch/nn/functional.py:1375: UserWarning: dropout3d: Received a 2-D input to dropout3d, which is deprecated and will result in an error in a future release. To retain the behavior and silence this warning, please use dropout instead. Note that dropout3d exists to provide channel-wise dropout on inputs with 3 spatial dimensions, a channel dimension, and an optional batch dimension (i.e. 4D or 5D inputs).\n",
      "  warnings.warn(warn_msg)\n",
      "/usr/local/lib/python3.10/dist-packages/torch/nn/functional.py:1375: UserWarning: dropout3d: Received a 2-D input to dropout3d, which is deprecated and will result in an error in a future release. To retain the behavior and silence this warning, please use dropout instead. Note that dropout3d exists to provide channel-wise dropout on inputs with 3 spatial dimensions, a channel dimension, and an optional batch dimension (i.e. 4D or 5D inputs).\n",
      "  warnings.warn(warn_msg)\n",
      "/usr/local/lib/python3.10/dist-packages/torch/nn/functional.py:1375: UserWarning: dropout3d: Received a 2-D input to dropout3d, which is deprecated and will result in an error in a future release. To retain the behavior and silence this warning, please use dropout instead. Note that dropout3d exists to provide channel-wise dropout on inputs with 3 spatial dimensions, a channel dimension, and an optional batch dimension (i.e. 4D or 5D inputs).\n",
      "  warnings.warn(warn_msg)\n",
      "/usr/local/lib/python3.10/dist-packages/torch/nn/functional.py:1375: UserWarning: dropout3d: Received a 2-D input to dropout3d, which is deprecated and will result in an error in a future release. To retain the behavior and silence this warning, please use dropout instead. Note that dropout3d exists to provide channel-wise dropout on inputs with 3 spatial dimensions, a channel dimension, and an optional batch dimension (i.e. 4D or 5D inputs).\n",
      "  warnings.warn(warn_msg)\n",
      "/usr/local/lib/python3.10/dist-packages/torch/nn/functional.py:1375: UserWarning: dropout3d: Received a 2-D input to dropout3d, which is deprecated and will result in an error in a future release. To retain the behavior and silence this warning, please use dropout instead. Note that dropout3d exists to provide channel-wise dropout on inputs with 3 spatial dimensions, a channel dimension, and an optional batch dimension (i.e. 4D or 5D inputs).\n",
      "  warnings.warn(warn_msg)\n",
      "/usr/local/lib/python3.10/dist-packages/torch/nn/functional.py:1375: UserWarning: dropout3d: Received a 2-D input to dropout3d, which is deprecated and will result in an error in a future release. To retain the behavior and silence this warning, please use dropout instead. Note that dropout3d exists to provide channel-wise dropout on inputs with 3 spatial dimensions, a channel dimension, and an optional batch dimension (i.e. 4D or 5D inputs).\n",
      "  warnings.warn(warn_msg)\n",
      "/usr/local/lib/python3.10/dist-packages/torch/nn/functional.py:1375: UserWarning: dropout3d: Received a 2-D input to dropout3d, which is deprecated and will result in an error in a future release. To retain the behavior and silence this warning, please use dropout instead. Note that dropout3d exists to provide channel-wise dropout on inputs with 3 spatial dimensions, a channel dimension, and an optional batch dimension (i.e. 4D or 5D inputs).\n",
      "  warnings.warn(warn_msg)\n",
      "/usr/local/lib/python3.10/dist-packages/torch/nn/functional.py:1375: UserWarning: dropout3d: Received a 2-D input to dropout3d, which is deprecated and will result in an error in a future release. To retain the behavior and silence this warning, please use dropout instead. Note that dropout3d exists to provide channel-wise dropout on inputs with 3 spatial dimensions, a channel dimension, and an optional batch dimension (i.e. 4D or 5D inputs).\n",
      "  warnings.warn(warn_msg)\n"
     ]
    },
    {
     "name": "stdout",
     "output_type": "stream",
     "text": [
      "Epoch 31: loss = 0.0437, accuracy = 1.0000, F1-score = 1.0000\n"
     ]
    },
    {
     "name": "stderr",
     "output_type": "stream",
     "text": [
      "/usr/local/lib/python3.10/dist-packages/torch/nn/functional.py:1375: UserWarning: dropout3d: Received a 2-D input to dropout3d, which is deprecated and will result in an error in a future release. To retain the behavior and silence this warning, please use dropout instead. Note that dropout3d exists to provide channel-wise dropout on inputs with 3 spatial dimensions, a channel dimension, and an optional batch dimension (i.e. 4D or 5D inputs).\n",
      "  warnings.warn(warn_msg)\n",
      "/usr/local/lib/python3.10/dist-packages/torch/nn/functional.py:1375: UserWarning: dropout3d: Received a 2-D input to dropout3d, which is deprecated and will result in an error in a future release. To retain the behavior and silence this warning, please use dropout instead. Note that dropout3d exists to provide channel-wise dropout on inputs with 3 spatial dimensions, a channel dimension, and an optional batch dimension (i.e. 4D or 5D inputs).\n",
      "  warnings.warn(warn_msg)\n",
      "/usr/local/lib/python3.10/dist-packages/torch/nn/functional.py:1375: UserWarning: dropout3d: Received a 2-D input to dropout3d, which is deprecated and will result in an error in a future release. To retain the behavior and silence this warning, please use dropout instead. Note that dropout3d exists to provide channel-wise dropout on inputs with 3 spatial dimensions, a channel dimension, and an optional batch dimension (i.e. 4D or 5D inputs).\n",
      "  warnings.warn(warn_msg)\n",
      "/usr/local/lib/python3.10/dist-packages/torch/nn/functional.py:1375: UserWarning: dropout3d: Received a 2-D input to dropout3d, which is deprecated and will result in an error in a future release. To retain the behavior and silence this warning, please use dropout instead. Note that dropout3d exists to provide channel-wise dropout on inputs with 3 spatial dimensions, a channel dimension, and an optional batch dimension (i.e. 4D or 5D inputs).\n",
      "  warnings.warn(warn_msg)\n"
     ]
    },
    {
     "name": "stdout",
     "output_type": "stream",
     "text": [
      "Epoch 32: loss = 0.0425, accuracy = 1.0000, F1-score = 1.0000\n"
     ]
    },
    {
     "name": "stderr",
     "output_type": "stream",
     "text": [
      "/usr/local/lib/python3.10/dist-packages/torch/nn/functional.py:1375: UserWarning: dropout3d: Received a 2-D input to dropout3d, which is deprecated and will result in an error in a future release. To retain the behavior and silence this warning, please use dropout instead. Note that dropout3d exists to provide channel-wise dropout on inputs with 3 spatial dimensions, a channel dimension, and an optional batch dimension (i.e. 4D or 5D inputs).\n",
      "  warnings.warn(warn_msg)\n",
      "/usr/local/lib/python3.10/dist-packages/torch/nn/functional.py:1375: UserWarning: dropout3d: Received a 2-D input to dropout3d, which is deprecated and will result in an error in a future release. To retain the behavior and silence this warning, please use dropout instead. Note that dropout3d exists to provide channel-wise dropout on inputs with 3 spatial dimensions, a channel dimension, and an optional batch dimension (i.e. 4D or 5D inputs).\n",
      "  warnings.warn(warn_msg)\n",
      "/usr/local/lib/python3.10/dist-packages/torch/nn/functional.py:1375: UserWarning: dropout3d: Received a 2-D input to dropout3d, which is deprecated and will result in an error in a future release. To retain the behavior and silence this warning, please use dropout instead. Note that dropout3d exists to provide channel-wise dropout on inputs with 3 spatial dimensions, a channel dimension, and an optional batch dimension (i.e. 4D or 5D inputs).\n",
      "  warnings.warn(warn_msg)\n",
      "/usr/local/lib/python3.10/dist-packages/torch/nn/functional.py:1375: UserWarning: dropout3d: Received a 2-D input to dropout3d, which is deprecated and will result in an error in a future release. To retain the behavior and silence this warning, please use dropout instead. Note that dropout3d exists to provide channel-wise dropout on inputs with 3 spatial dimensions, a channel dimension, and an optional batch dimension (i.e. 4D or 5D inputs).\n",
      "  warnings.warn(warn_msg)\n",
      "/usr/local/lib/python3.10/dist-packages/torch/nn/functional.py:1375: UserWarning: dropout3d: Received a 2-D input to dropout3d, which is deprecated and will result in an error in a future release. To retain the behavior and silence this warning, please use dropout instead. Note that dropout3d exists to provide channel-wise dropout on inputs with 3 spatial dimensions, a channel dimension, and an optional batch dimension (i.e. 4D or 5D inputs).\n",
      "  warnings.warn(warn_msg)\n",
      "/usr/local/lib/python3.10/dist-packages/torch/nn/functional.py:1375: UserWarning: dropout3d: Received a 2-D input to dropout3d, which is deprecated and will result in an error in a future release. To retain the behavior and silence this warning, please use dropout instead. Note that dropout3d exists to provide channel-wise dropout on inputs with 3 spatial dimensions, a channel dimension, and an optional batch dimension (i.e. 4D or 5D inputs).\n",
      "  warnings.warn(warn_msg)\n",
      "/usr/local/lib/python3.10/dist-packages/torch/nn/functional.py:1375: UserWarning: dropout3d: Received a 2-D input to dropout3d, which is deprecated and will result in an error in a future release. To retain the behavior and silence this warning, please use dropout instead. Note that dropout3d exists to provide channel-wise dropout on inputs with 3 spatial dimensions, a channel dimension, and an optional batch dimension (i.e. 4D or 5D inputs).\n",
      "  warnings.warn(warn_msg)\n"
     ]
    },
    {
     "name": "stdout",
     "output_type": "stream",
     "text": [
      "Epoch 33: loss = 0.0425, accuracy = 1.0000, F1-score = 1.0000\n"
     ]
    },
    {
     "name": "stderr",
     "output_type": "stream",
     "text": [
      "/usr/local/lib/python3.10/dist-packages/torch/nn/functional.py:1375: UserWarning: dropout3d: Received a 2-D input to dropout3d, which is deprecated and will result in an error in a future release. To retain the behavior and silence this warning, please use dropout instead. Note that dropout3d exists to provide channel-wise dropout on inputs with 3 spatial dimensions, a channel dimension, and an optional batch dimension (i.e. 4D or 5D inputs).\n",
      "  warnings.warn(warn_msg)\n",
      "/usr/local/lib/python3.10/dist-packages/torch/nn/functional.py:1375: UserWarning: dropout3d: Received a 2-D input to dropout3d, which is deprecated and will result in an error in a future release. To retain the behavior and silence this warning, please use dropout instead. Note that dropout3d exists to provide channel-wise dropout on inputs with 3 spatial dimensions, a channel dimension, and an optional batch dimension (i.e. 4D or 5D inputs).\n",
      "  warnings.warn(warn_msg)\n",
      "/usr/local/lib/python3.10/dist-packages/torch/nn/functional.py:1375: UserWarning: dropout3d: Received a 2-D input to dropout3d, which is deprecated and will result in an error in a future release. To retain the behavior and silence this warning, please use dropout instead. Note that dropout3d exists to provide channel-wise dropout on inputs with 3 spatial dimensions, a channel dimension, and an optional batch dimension (i.e. 4D or 5D inputs).\n",
      "  warnings.warn(warn_msg)\n",
      "/usr/local/lib/python3.10/dist-packages/torch/nn/functional.py:1375: UserWarning: dropout3d: Received a 2-D input to dropout3d, which is deprecated and will result in an error in a future release. To retain the behavior and silence this warning, please use dropout instead. Note that dropout3d exists to provide channel-wise dropout on inputs with 3 spatial dimensions, a channel dimension, and an optional batch dimension (i.e. 4D or 5D inputs).\n",
      "  warnings.warn(warn_msg)\n",
      "/usr/local/lib/python3.10/dist-packages/torch/nn/functional.py:1375: UserWarning: dropout3d: Received a 2-D input to dropout3d, which is deprecated and will result in an error in a future release. To retain the behavior and silence this warning, please use dropout instead. Note that dropout3d exists to provide channel-wise dropout on inputs with 3 spatial dimensions, a channel dimension, and an optional batch dimension (i.e. 4D or 5D inputs).\n",
      "  warnings.warn(warn_msg)\n",
      "/usr/local/lib/python3.10/dist-packages/torch/nn/functional.py:1375: UserWarning: dropout3d: Received a 2-D input to dropout3d, which is deprecated and will result in an error in a future release. To retain the behavior and silence this warning, please use dropout instead. Note that dropout3d exists to provide channel-wise dropout on inputs with 3 spatial dimensions, a channel dimension, and an optional batch dimension (i.e. 4D or 5D inputs).\n",
      "  warnings.warn(warn_msg)\n"
     ]
    },
    {
     "name": "stdout",
     "output_type": "stream",
     "text": [
      "Epoch 34: loss = 0.0430, accuracy = 1.0000, F1-score = 1.0000\n"
     ]
    },
    {
     "name": "stderr",
     "output_type": "stream",
     "text": [
      "/usr/local/lib/python3.10/dist-packages/torch/nn/functional.py:1375: UserWarning: dropout3d: Received a 2-D input to dropout3d, which is deprecated and will result in an error in a future release. To retain the behavior and silence this warning, please use dropout instead. Note that dropout3d exists to provide channel-wise dropout on inputs with 3 spatial dimensions, a channel dimension, and an optional batch dimension (i.e. 4D or 5D inputs).\n",
      "  warnings.warn(warn_msg)\n",
      "/usr/local/lib/python3.10/dist-packages/torch/nn/functional.py:1375: UserWarning: dropout3d: Received a 2-D input to dropout3d, which is deprecated and will result in an error in a future release. To retain the behavior and silence this warning, please use dropout instead. Note that dropout3d exists to provide channel-wise dropout on inputs with 3 spatial dimensions, a channel dimension, and an optional batch dimension (i.e. 4D or 5D inputs).\n",
      "  warnings.warn(warn_msg)\n",
      "/usr/local/lib/python3.10/dist-packages/torch/nn/functional.py:1375: UserWarning: dropout3d: Received a 2-D input to dropout3d, which is deprecated and will result in an error in a future release. To retain the behavior and silence this warning, please use dropout instead. Note that dropout3d exists to provide channel-wise dropout on inputs with 3 spatial dimensions, a channel dimension, and an optional batch dimension (i.e. 4D or 5D inputs).\n",
      "  warnings.warn(warn_msg)\n",
      "/usr/local/lib/python3.10/dist-packages/torch/nn/functional.py:1375: UserWarning: dropout3d: Received a 2-D input to dropout3d, which is deprecated and will result in an error in a future release. To retain the behavior and silence this warning, please use dropout instead. Note that dropout3d exists to provide channel-wise dropout on inputs with 3 spatial dimensions, a channel dimension, and an optional batch dimension (i.e. 4D or 5D inputs).\n",
      "  warnings.warn(warn_msg)\n",
      "/usr/local/lib/python3.10/dist-packages/torch/nn/functional.py:1375: UserWarning: dropout3d: Received a 2-D input to dropout3d, which is deprecated and will result in an error in a future release. To retain the behavior and silence this warning, please use dropout instead. Note that dropout3d exists to provide channel-wise dropout on inputs with 3 spatial dimensions, a channel dimension, and an optional batch dimension (i.e. 4D or 5D inputs).\n",
      "  warnings.warn(warn_msg)\n",
      "/usr/local/lib/python3.10/dist-packages/torch/nn/functional.py:1375: UserWarning: dropout3d: Received a 2-D input to dropout3d, which is deprecated and will result in an error in a future release. To retain the behavior and silence this warning, please use dropout instead. Note that dropout3d exists to provide channel-wise dropout on inputs with 3 spatial dimensions, a channel dimension, and an optional batch dimension (i.e. 4D or 5D inputs).\n",
      "  warnings.warn(warn_msg)\n",
      "/usr/local/lib/python3.10/dist-packages/torch/nn/functional.py:1375: UserWarning: dropout3d: Received a 2-D input to dropout3d, which is deprecated and will result in an error in a future release. To retain the behavior and silence this warning, please use dropout instead. Note that dropout3d exists to provide channel-wise dropout on inputs with 3 spatial dimensions, a channel dimension, and an optional batch dimension (i.e. 4D or 5D inputs).\n",
      "  warnings.warn(warn_msg)\n",
      "/usr/local/lib/python3.10/dist-packages/torch/nn/functional.py:1375: UserWarning: dropout3d: Received a 2-D input to dropout3d, which is deprecated and will result in an error in a future release. To retain the behavior and silence this warning, please use dropout instead. Note that dropout3d exists to provide channel-wise dropout on inputs with 3 spatial dimensions, a channel dimension, and an optional batch dimension (i.e. 4D or 5D inputs).\n",
      "  warnings.warn(warn_msg)\n",
      "/usr/local/lib/python3.10/dist-packages/torch/nn/functional.py:1375: UserWarning: dropout3d: Received a 2-D input to dropout3d, which is deprecated and will result in an error in a future release. To retain the behavior and silence this warning, please use dropout instead. Note that dropout3d exists to provide channel-wise dropout on inputs with 3 spatial dimensions, a channel dimension, and an optional batch dimension (i.e. 4D or 5D inputs).\n",
      "  warnings.warn(warn_msg)\n"
     ]
    },
    {
     "name": "stdout",
     "output_type": "stream",
     "text": [
      "Epoch 35: loss = 0.0394, accuracy = 1.0000, F1-score = 1.0000\n"
     ]
    },
    {
     "name": "stderr",
     "output_type": "stream",
     "text": [
      "/usr/local/lib/python3.10/dist-packages/torch/nn/functional.py:1375: UserWarning: dropout3d: Received a 2-D input to dropout3d, which is deprecated and will result in an error in a future release. To retain the behavior and silence this warning, please use dropout instead. Note that dropout3d exists to provide channel-wise dropout on inputs with 3 spatial dimensions, a channel dimension, and an optional batch dimension (i.e. 4D or 5D inputs).\n",
      "  warnings.warn(warn_msg)\n",
      "/usr/local/lib/python3.10/dist-packages/torch/nn/functional.py:1375: UserWarning: dropout3d: Received a 2-D input to dropout3d, which is deprecated and will result in an error in a future release. To retain the behavior and silence this warning, please use dropout instead. Note that dropout3d exists to provide channel-wise dropout on inputs with 3 spatial dimensions, a channel dimension, and an optional batch dimension (i.e. 4D or 5D inputs).\n",
      "  warnings.warn(warn_msg)\n",
      "/usr/local/lib/python3.10/dist-packages/torch/nn/functional.py:1375: UserWarning: dropout3d: Received a 2-D input to dropout3d, which is deprecated and will result in an error in a future release. To retain the behavior and silence this warning, please use dropout instead. Note that dropout3d exists to provide channel-wise dropout on inputs with 3 spatial dimensions, a channel dimension, and an optional batch dimension (i.e. 4D or 5D inputs).\n",
      "  warnings.warn(warn_msg)\n",
      "/usr/local/lib/python3.10/dist-packages/torch/nn/functional.py:1375: UserWarning: dropout3d: Received a 2-D input to dropout3d, which is deprecated and will result in an error in a future release. To retain the behavior and silence this warning, please use dropout instead. Note that dropout3d exists to provide channel-wise dropout on inputs with 3 spatial dimensions, a channel dimension, and an optional batch dimension (i.e. 4D or 5D inputs).\n",
      "  warnings.warn(warn_msg)\n",
      "/usr/local/lib/python3.10/dist-packages/torch/nn/functional.py:1375: UserWarning: dropout3d: Received a 2-D input to dropout3d, which is deprecated and will result in an error in a future release. To retain the behavior and silence this warning, please use dropout instead. Note that dropout3d exists to provide channel-wise dropout on inputs with 3 spatial dimensions, a channel dimension, and an optional batch dimension (i.e. 4D or 5D inputs).\n",
      "  warnings.warn(warn_msg)\n",
      "/usr/local/lib/python3.10/dist-packages/torch/nn/functional.py:1375: UserWarning: dropout3d: Received a 2-D input to dropout3d, which is deprecated and will result in an error in a future release. To retain the behavior and silence this warning, please use dropout instead. Note that dropout3d exists to provide channel-wise dropout on inputs with 3 spatial dimensions, a channel dimension, and an optional batch dimension (i.e. 4D or 5D inputs).\n",
      "  warnings.warn(warn_msg)\n",
      "/usr/local/lib/python3.10/dist-packages/torch/nn/functional.py:1375: UserWarning: dropout3d: Received a 2-D input to dropout3d, which is deprecated and will result in an error in a future release. To retain the behavior and silence this warning, please use dropout instead. Note that dropout3d exists to provide channel-wise dropout on inputs with 3 spatial dimensions, a channel dimension, and an optional batch dimension (i.e. 4D or 5D inputs).\n",
      "  warnings.warn(warn_msg)\n"
     ]
    },
    {
     "name": "stdout",
     "output_type": "stream",
     "text": [
      "Epoch 36: loss = 0.0384, accuracy = 1.0000, F1-score = 1.0000\n"
     ]
    },
    {
     "name": "stderr",
     "output_type": "stream",
     "text": [
      "/usr/local/lib/python3.10/dist-packages/torch/nn/functional.py:1375: UserWarning: dropout3d: Received a 2-D input to dropout3d, which is deprecated and will result in an error in a future release. To retain the behavior and silence this warning, please use dropout instead. Note that dropout3d exists to provide channel-wise dropout on inputs with 3 spatial dimensions, a channel dimension, and an optional batch dimension (i.e. 4D or 5D inputs).\n",
      "  warnings.warn(warn_msg)\n",
      "/usr/local/lib/python3.10/dist-packages/torch/nn/functional.py:1375: UserWarning: dropout3d: Received a 2-D input to dropout3d, which is deprecated and will result in an error in a future release. To retain the behavior and silence this warning, please use dropout instead. Note that dropout3d exists to provide channel-wise dropout on inputs with 3 spatial dimensions, a channel dimension, and an optional batch dimension (i.e. 4D or 5D inputs).\n",
      "  warnings.warn(warn_msg)\n",
      "/usr/local/lib/python3.10/dist-packages/torch/nn/functional.py:1375: UserWarning: dropout3d: Received a 2-D input to dropout3d, which is deprecated and will result in an error in a future release. To retain the behavior and silence this warning, please use dropout instead. Note that dropout3d exists to provide channel-wise dropout on inputs with 3 spatial dimensions, a channel dimension, and an optional batch dimension (i.e. 4D or 5D inputs).\n",
      "  warnings.warn(warn_msg)\n",
      "/usr/local/lib/python3.10/dist-packages/torch/nn/functional.py:1375: UserWarning: dropout3d: Received a 2-D input to dropout3d, which is deprecated and will result in an error in a future release. To retain the behavior and silence this warning, please use dropout instead. Note that dropout3d exists to provide channel-wise dropout on inputs with 3 spatial dimensions, a channel dimension, and an optional batch dimension (i.e. 4D or 5D inputs).\n",
      "  warnings.warn(warn_msg)\n",
      "/usr/local/lib/python3.10/dist-packages/torch/nn/functional.py:1375: UserWarning: dropout3d: Received a 2-D input to dropout3d, which is deprecated and will result in an error in a future release. To retain the behavior and silence this warning, please use dropout instead. Note that dropout3d exists to provide channel-wise dropout on inputs with 3 spatial dimensions, a channel dimension, and an optional batch dimension (i.e. 4D or 5D inputs).\n",
      "  warnings.warn(warn_msg)\n",
      "/usr/local/lib/python3.10/dist-packages/torch/nn/functional.py:1375: UserWarning: dropout3d: Received a 2-D input to dropout3d, which is deprecated and will result in an error in a future release. To retain the behavior and silence this warning, please use dropout instead. Note that dropout3d exists to provide channel-wise dropout on inputs with 3 spatial dimensions, a channel dimension, and an optional batch dimension (i.e. 4D or 5D inputs).\n",
      "  warnings.warn(warn_msg)\n",
      "/usr/local/lib/python3.10/dist-packages/torch/nn/functional.py:1375: UserWarning: dropout3d: Received a 2-D input to dropout3d, which is deprecated and will result in an error in a future release. To retain the behavior and silence this warning, please use dropout instead. Note that dropout3d exists to provide channel-wise dropout on inputs with 3 spatial dimensions, a channel dimension, and an optional batch dimension (i.e. 4D or 5D inputs).\n",
      "  warnings.warn(warn_msg)\n"
     ]
    },
    {
     "name": "stdout",
     "output_type": "stream",
     "text": [
      "Epoch 37: loss = 0.0370, accuracy = 1.0000, F1-score = 1.0000\n"
     ]
    },
    {
     "name": "stderr",
     "output_type": "stream",
     "text": [
      "/usr/local/lib/python3.10/dist-packages/torch/nn/functional.py:1375: UserWarning: dropout3d: Received a 2-D input to dropout3d, which is deprecated and will result in an error in a future release. To retain the behavior and silence this warning, please use dropout instead. Note that dropout3d exists to provide channel-wise dropout on inputs with 3 spatial dimensions, a channel dimension, and an optional batch dimension (i.e. 4D or 5D inputs).\n",
      "  warnings.warn(warn_msg)\n",
      "/usr/local/lib/python3.10/dist-packages/torch/nn/functional.py:1375: UserWarning: dropout3d: Received a 2-D input to dropout3d, which is deprecated and will result in an error in a future release. To retain the behavior and silence this warning, please use dropout instead. Note that dropout3d exists to provide channel-wise dropout on inputs with 3 spatial dimensions, a channel dimension, and an optional batch dimension (i.e. 4D or 5D inputs).\n",
      "  warnings.warn(warn_msg)\n",
      "/usr/local/lib/python3.10/dist-packages/torch/nn/functional.py:1375: UserWarning: dropout3d: Received a 2-D input to dropout3d, which is deprecated and will result in an error in a future release. To retain the behavior and silence this warning, please use dropout instead. Note that dropout3d exists to provide channel-wise dropout on inputs with 3 spatial dimensions, a channel dimension, and an optional batch dimension (i.e. 4D or 5D inputs).\n",
      "  warnings.warn(warn_msg)\n",
      "/usr/local/lib/python3.10/dist-packages/torch/nn/functional.py:1375: UserWarning: dropout3d: Received a 2-D input to dropout3d, which is deprecated and will result in an error in a future release. To retain the behavior and silence this warning, please use dropout instead. Note that dropout3d exists to provide channel-wise dropout on inputs with 3 spatial dimensions, a channel dimension, and an optional batch dimension (i.e. 4D or 5D inputs).\n",
      "  warnings.warn(warn_msg)\n",
      "/usr/local/lib/python3.10/dist-packages/torch/nn/functional.py:1375: UserWarning: dropout3d: Received a 2-D input to dropout3d, which is deprecated and will result in an error in a future release. To retain the behavior and silence this warning, please use dropout instead. Note that dropout3d exists to provide channel-wise dropout on inputs with 3 spatial dimensions, a channel dimension, and an optional batch dimension (i.e. 4D or 5D inputs).\n",
      "  warnings.warn(warn_msg)\n",
      "/usr/local/lib/python3.10/dist-packages/torch/nn/functional.py:1375: UserWarning: dropout3d: Received a 2-D input to dropout3d, which is deprecated and will result in an error in a future release. To retain the behavior and silence this warning, please use dropout instead. Note that dropout3d exists to provide channel-wise dropout on inputs with 3 spatial dimensions, a channel dimension, and an optional batch dimension (i.e. 4D or 5D inputs).\n",
      "  warnings.warn(warn_msg)\n",
      "/usr/local/lib/python3.10/dist-packages/torch/nn/functional.py:1375: UserWarning: dropout3d: Received a 2-D input to dropout3d, which is deprecated and will result in an error in a future release. To retain the behavior and silence this warning, please use dropout instead. Note that dropout3d exists to provide channel-wise dropout on inputs with 3 spatial dimensions, a channel dimension, and an optional batch dimension (i.e. 4D or 5D inputs).\n",
      "  warnings.warn(warn_msg)\n"
     ]
    },
    {
     "name": "stdout",
     "output_type": "stream",
     "text": [
      "Epoch 38: loss = 0.0359, accuracy = 1.0000, F1-score = 1.0000\n"
     ]
    },
    {
     "name": "stderr",
     "output_type": "stream",
     "text": [
      "/usr/local/lib/python3.10/dist-packages/torch/nn/functional.py:1375: UserWarning: dropout3d: Received a 2-D input to dropout3d, which is deprecated and will result in an error in a future release. To retain the behavior and silence this warning, please use dropout instead. Note that dropout3d exists to provide channel-wise dropout on inputs with 3 spatial dimensions, a channel dimension, and an optional batch dimension (i.e. 4D or 5D inputs).\n",
      "  warnings.warn(warn_msg)\n",
      "/usr/local/lib/python3.10/dist-packages/torch/nn/functional.py:1375: UserWarning: dropout3d: Received a 2-D input to dropout3d, which is deprecated and will result in an error in a future release. To retain the behavior and silence this warning, please use dropout instead. Note that dropout3d exists to provide channel-wise dropout on inputs with 3 spatial dimensions, a channel dimension, and an optional batch dimension (i.e. 4D or 5D inputs).\n",
      "  warnings.warn(warn_msg)\n",
      "/usr/local/lib/python3.10/dist-packages/torch/nn/functional.py:1375: UserWarning: dropout3d: Received a 2-D input to dropout3d, which is deprecated and will result in an error in a future release. To retain the behavior and silence this warning, please use dropout instead. Note that dropout3d exists to provide channel-wise dropout on inputs with 3 spatial dimensions, a channel dimension, and an optional batch dimension (i.e. 4D or 5D inputs).\n",
      "  warnings.warn(warn_msg)\n",
      "/usr/local/lib/python3.10/dist-packages/torch/nn/functional.py:1375: UserWarning: dropout3d: Received a 2-D input to dropout3d, which is deprecated and will result in an error in a future release. To retain the behavior and silence this warning, please use dropout instead. Note that dropout3d exists to provide channel-wise dropout on inputs with 3 spatial dimensions, a channel dimension, and an optional batch dimension (i.e. 4D or 5D inputs).\n",
      "  warnings.warn(warn_msg)\n",
      "/usr/local/lib/python3.10/dist-packages/torch/nn/functional.py:1375: UserWarning: dropout3d: Received a 2-D input to dropout3d, which is deprecated and will result in an error in a future release. To retain the behavior and silence this warning, please use dropout instead. Note that dropout3d exists to provide channel-wise dropout on inputs with 3 spatial dimensions, a channel dimension, and an optional batch dimension (i.e. 4D or 5D inputs).\n",
      "  warnings.warn(warn_msg)\n",
      "/usr/local/lib/python3.10/dist-packages/torch/nn/functional.py:1375: UserWarning: dropout3d: Received a 2-D input to dropout3d, which is deprecated and will result in an error in a future release. To retain the behavior and silence this warning, please use dropout instead. Note that dropout3d exists to provide channel-wise dropout on inputs with 3 spatial dimensions, a channel dimension, and an optional batch dimension (i.e. 4D or 5D inputs).\n",
      "  warnings.warn(warn_msg)\n",
      "/usr/local/lib/python3.10/dist-packages/torch/nn/functional.py:1375: UserWarning: dropout3d: Received a 2-D input to dropout3d, which is deprecated and will result in an error in a future release. To retain the behavior and silence this warning, please use dropout instead. Note that dropout3d exists to provide channel-wise dropout on inputs with 3 spatial dimensions, a channel dimension, and an optional batch dimension (i.e. 4D or 5D inputs).\n",
      "  warnings.warn(warn_msg)\n"
     ]
    },
    {
     "name": "stdout",
     "output_type": "stream",
     "text": [
      "Epoch 39: loss = 0.0370, accuracy = 1.0000, F1-score = 1.0000\n"
     ]
    },
    {
     "name": "stderr",
     "output_type": "stream",
     "text": [
      "/usr/local/lib/python3.10/dist-packages/torch/nn/functional.py:1375: UserWarning: dropout3d: Received a 2-D input to dropout3d, which is deprecated and will result in an error in a future release. To retain the behavior and silence this warning, please use dropout instead. Note that dropout3d exists to provide channel-wise dropout on inputs with 3 spatial dimensions, a channel dimension, and an optional batch dimension (i.e. 4D or 5D inputs).\n",
      "  warnings.warn(warn_msg)\n",
      "/usr/local/lib/python3.10/dist-packages/torch/nn/functional.py:1375: UserWarning: dropout3d: Received a 2-D input to dropout3d, which is deprecated and will result in an error in a future release. To retain the behavior and silence this warning, please use dropout instead. Note that dropout3d exists to provide channel-wise dropout on inputs with 3 spatial dimensions, a channel dimension, and an optional batch dimension (i.e. 4D or 5D inputs).\n",
      "  warnings.warn(warn_msg)\n",
      "/usr/local/lib/python3.10/dist-packages/torch/nn/functional.py:1375: UserWarning: dropout3d: Received a 2-D input to dropout3d, which is deprecated and will result in an error in a future release. To retain the behavior and silence this warning, please use dropout instead. Note that dropout3d exists to provide channel-wise dropout on inputs with 3 spatial dimensions, a channel dimension, and an optional batch dimension (i.e. 4D or 5D inputs).\n",
      "  warnings.warn(warn_msg)\n",
      "/usr/local/lib/python3.10/dist-packages/torch/nn/functional.py:1375: UserWarning: dropout3d: Received a 2-D input to dropout3d, which is deprecated and will result in an error in a future release. To retain the behavior and silence this warning, please use dropout instead. Note that dropout3d exists to provide channel-wise dropout on inputs with 3 spatial dimensions, a channel dimension, and an optional batch dimension (i.e. 4D or 5D inputs).\n",
      "  warnings.warn(warn_msg)\n",
      "/usr/local/lib/python3.10/dist-packages/torch/nn/functional.py:1375: UserWarning: dropout3d: Received a 2-D input to dropout3d, which is deprecated and will result in an error in a future release. To retain the behavior and silence this warning, please use dropout instead. Note that dropout3d exists to provide channel-wise dropout on inputs with 3 spatial dimensions, a channel dimension, and an optional batch dimension (i.e. 4D or 5D inputs).\n",
      "  warnings.warn(warn_msg)\n",
      "/usr/local/lib/python3.10/dist-packages/torch/nn/functional.py:1375: UserWarning: dropout3d: Received a 2-D input to dropout3d, which is deprecated and will result in an error in a future release. To retain the behavior and silence this warning, please use dropout instead. Note that dropout3d exists to provide channel-wise dropout on inputs with 3 spatial dimensions, a channel dimension, and an optional batch dimension (i.e. 4D or 5D inputs).\n",
      "  warnings.warn(warn_msg)\n",
      "/usr/local/lib/python3.10/dist-packages/torch/nn/functional.py:1375: UserWarning: dropout3d: Received a 2-D input to dropout3d, which is deprecated and will result in an error in a future release. To retain the behavior and silence this warning, please use dropout instead. Note that dropout3d exists to provide channel-wise dropout on inputs with 3 spatial dimensions, a channel dimension, and an optional batch dimension (i.e. 4D or 5D inputs).\n",
      "  warnings.warn(warn_msg)\n"
     ]
    },
    {
     "name": "stdout",
     "output_type": "stream",
     "text": [
      "Epoch 40: loss = 0.0348, accuracy = 1.0000, F1-score = 1.0000\n"
     ]
    },
    {
     "name": "stderr",
     "output_type": "stream",
     "text": [
      "/usr/local/lib/python3.10/dist-packages/torch/nn/functional.py:1375: UserWarning: dropout3d: Received a 2-D input to dropout3d, which is deprecated and will result in an error in a future release. To retain the behavior and silence this warning, please use dropout instead. Note that dropout3d exists to provide channel-wise dropout on inputs with 3 spatial dimensions, a channel dimension, and an optional batch dimension (i.e. 4D or 5D inputs).\n",
      "  warnings.warn(warn_msg)\n",
      "/usr/local/lib/python3.10/dist-packages/torch/nn/functional.py:1375: UserWarning: dropout3d: Received a 2-D input to dropout3d, which is deprecated and will result in an error in a future release. To retain the behavior and silence this warning, please use dropout instead. Note that dropout3d exists to provide channel-wise dropout on inputs with 3 spatial dimensions, a channel dimension, and an optional batch dimension (i.e. 4D or 5D inputs).\n",
      "  warnings.warn(warn_msg)\n",
      "/usr/local/lib/python3.10/dist-packages/torch/nn/functional.py:1375: UserWarning: dropout3d: Received a 2-D input to dropout3d, which is deprecated and will result in an error in a future release. To retain the behavior and silence this warning, please use dropout instead. Note that dropout3d exists to provide channel-wise dropout on inputs with 3 spatial dimensions, a channel dimension, and an optional batch dimension (i.e. 4D or 5D inputs).\n",
      "  warnings.warn(warn_msg)\n",
      "/usr/local/lib/python3.10/dist-packages/torch/nn/functional.py:1375: UserWarning: dropout3d: Received a 2-D input to dropout3d, which is deprecated and will result in an error in a future release. To retain the behavior and silence this warning, please use dropout instead. Note that dropout3d exists to provide channel-wise dropout on inputs with 3 spatial dimensions, a channel dimension, and an optional batch dimension (i.e. 4D or 5D inputs).\n",
      "  warnings.warn(warn_msg)\n",
      "/usr/local/lib/python3.10/dist-packages/torch/nn/functional.py:1375: UserWarning: dropout3d: Received a 2-D input to dropout3d, which is deprecated and will result in an error in a future release. To retain the behavior and silence this warning, please use dropout instead. Note that dropout3d exists to provide channel-wise dropout on inputs with 3 spatial dimensions, a channel dimension, and an optional batch dimension (i.e. 4D or 5D inputs).\n",
      "  warnings.warn(warn_msg)\n",
      "/usr/local/lib/python3.10/dist-packages/torch/nn/functional.py:1375: UserWarning: dropout3d: Received a 2-D input to dropout3d, which is deprecated and will result in an error in a future release. To retain the behavior and silence this warning, please use dropout instead. Note that dropout3d exists to provide channel-wise dropout on inputs with 3 spatial dimensions, a channel dimension, and an optional batch dimension (i.e. 4D or 5D inputs).\n",
      "  warnings.warn(warn_msg)\n",
      "/usr/local/lib/python3.10/dist-packages/torch/nn/functional.py:1375: UserWarning: dropout3d: Received a 2-D input to dropout3d, which is deprecated and will result in an error in a future release. To retain the behavior and silence this warning, please use dropout instead. Note that dropout3d exists to provide channel-wise dropout on inputs with 3 spatial dimensions, a channel dimension, and an optional batch dimension (i.e. 4D or 5D inputs).\n",
      "  warnings.warn(warn_msg)\n"
     ]
    },
    {
     "name": "stdout",
     "output_type": "stream",
     "text": [
      "Epoch 41: loss = 0.0360, accuracy = 1.0000, F1-score = 1.0000\n"
     ]
    },
    {
     "name": "stderr",
     "output_type": "stream",
     "text": [
      "/usr/local/lib/python3.10/dist-packages/torch/nn/functional.py:1375: UserWarning: dropout3d: Received a 2-D input to dropout3d, which is deprecated and will result in an error in a future release. To retain the behavior and silence this warning, please use dropout instead. Note that dropout3d exists to provide channel-wise dropout on inputs with 3 spatial dimensions, a channel dimension, and an optional batch dimension (i.e. 4D or 5D inputs).\n",
      "  warnings.warn(warn_msg)\n",
      "/usr/local/lib/python3.10/dist-packages/torch/nn/functional.py:1375: UserWarning: dropout3d: Received a 2-D input to dropout3d, which is deprecated and will result in an error in a future release. To retain the behavior and silence this warning, please use dropout instead. Note that dropout3d exists to provide channel-wise dropout on inputs with 3 spatial dimensions, a channel dimension, and an optional batch dimension (i.e. 4D or 5D inputs).\n",
      "  warnings.warn(warn_msg)\n",
      "/usr/local/lib/python3.10/dist-packages/torch/nn/functional.py:1375: UserWarning: dropout3d: Received a 2-D input to dropout3d, which is deprecated and will result in an error in a future release. To retain the behavior and silence this warning, please use dropout instead. Note that dropout3d exists to provide channel-wise dropout on inputs with 3 spatial dimensions, a channel dimension, and an optional batch dimension (i.e. 4D or 5D inputs).\n",
      "  warnings.warn(warn_msg)\n",
      "/usr/local/lib/python3.10/dist-packages/torch/nn/functional.py:1375: UserWarning: dropout3d: Received a 2-D input to dropout3d, which is deprecated and will result in an error in a future release. To retain the behavior and silence this warning, please use dropout instead. Note that dropout3d exists to provide channel-wise dropout on inputs with 3 spatial dimensions, a channel dimension, and an optional batch dimension (i.e. 4D or 5D inputs).\n",
      "  warnings.warn(warn_msg)\n",
      "/usr/local/lib/python3.10/dist-packages/torch/nn/functional.py:1375: UserWarning: dropout3d: Received a 2-D input to dropout3d, which is deprecated and will result in an error in a future release. To retain the behavior and silence this warning, please use dropout instead. Note that dropout3d exists to provide channel-wise dropout on inputs with 3 spatial dimensions, a channel dimension, and an optional batch dimension (i.e. 4D or 5D inputs).\n",
      "  warnings.warn(warn_msg)\n",
      "/usr/local/lib/python3.10/dist-packages/torch/nn/functional.py:1375: UserWarning: dropout3d: Received a 2-D input to dropout3d, which is deprecated and will result in an error in a future release. To retain the behavior and silence this warning, please use dropout instead. Note that dropout3d exists to provide channel-wise dropout on inputs with 3 spatial dimensions, a channel dimension, and an optional batch dimension (i.e. 4D or 5D inputs).\n",
      "  warnings.warn(warn_msg)\n",
      "/usr/local/lib/python3.10/dist-packages/torch/nn/functional.py:1375: UserWarning: dropout3d: Received a 2-D input to dropout3d, which is deprecated and will result in an error in a future release. To retain the behavior and silence this warning, please use dropout instead. Note that dropout3d exists to provide channel-wise dropout on inputs with 3 spatial dimensions, a channel dimension, and an optional batch dimension (i.e. 4D or 5D inputs).\n",
      "  warnings.warn(warn_msg)\n"
     ]
    },
    {
     "name": "stdout",
     "output_type": "stream",
     "text": [
      "Epoch 42: loss = 0.0331, accuracy = 1.0000, F1-score = 1.0000\n"
     ]
    },
    {
     "name": "stderr",
     "output_type": "stream",
     "text": [
      "/usr/local/lib/python3.10/dist-packages/torch/nn/functional.py:1375: UserWarning: dropout3d: Received a 2-D input to dropout3d, which is deprecated and will result in an error in a future release. To retain the behavior and silence this warning, please use dropout instead. Note that dropout3d exists to provide channel-wise dropout on inputs with 3 spatial dimensions, a channel dimension, and an optional batch dimension (i.e. 4D or 5D inputs).\n",
      "  warnings.warn(warn_msg)\n",
      "/usr/local/lib/python3.10/dist-packages/torch/nn/functional.py:1375: UserWarning: dropout3d: Received a 2-D input to dropout3d, which is deprecated and will result in an error in a future release. To retain the behavior and silence this warning, please use dropout instead. Note that dropout3d exists to provide channel-wise dropout on inputs with 3 spatial dimensions, a channel dimension, and an optional batch dimension (i.e. 4D or 5D inputs).\n",
      "  warnings.warn(warn_msg)\n",
      "/usr/local/lib/python3.10/dist-packages/torch/nn/functional.py:1375: UserWarning: dropout3d: Received a 2-D input to dropout3d, which is deprecated and will result in an error in a future release. To retain the behavior and silence this warning, please use dropout instead. Note that dropout3d exists to provide channel-wise dropout on inputs with 3 spatial dimensions, a channel dimension, and an optional batch dimension (i.e. 4D or 5D inputs).\n",
      "  warnings.warn(warn_msg)\n",
      "/usr/local/lib/python3.10/dist-packages/torch/nn/functional.py:1375: UserWarning: dropout3d: Received a 2-D input to dropout3d, which is deprecated and will result in an error in a future release. To retain the behavior and silence this warning, please use dropout instead. Note that dropout3d exists to provide channel-wise dropout on inputs with 3 spatial dimensions, a channel dimension, and an optional batch dimension (i.e. 4D or 5D inputs).\n",
      "  warnings.warn(warn_msg)\n",
      "/usr/local/lib/python3.10/dist-packages/torch/nn/functional.py:1375: UserWarning: dropout3d: Received a 2-D input to dropout3d, which is deprecated and will result in an error in a future release. To retain the behavior and silence this warning, please use dropout instead. Note that dropout3d exists to provide channel-wise dropout on inputs with 3 spatial dimensions, a channel dimension, and an optional batch dimension (i.e. 4D or 5D inputs).\n",
      "  warnings.warn(warn_msg)\n",
      "/usr/local/lib/python3.10/dist-packages/torch/nn/functional.py:1375: UserWarning: dropout3d: Received a 2-D input to dropout3d, which is deprecated and will result in an error in a future release. To retain the behavior and silence this warning, please use dropout instead. Note that dropout3d exists to provide channel-wise dropout on inputs with 3 spatial dimensions, a channel dimension, and an optional batch dimension (i.e. 4D or 5D inputs).\n",
      "  warnings.warn(warn_msg)\n",
      "/usr/local/lib/python3.10/dist-packages/torch/nn/functional.py:1375: UserWarning: dropout3d: Received a 2-D input to dropout3d, which is deprecated and will result in an error in a future release. To retain the behavior and silence this warning, please use dropout instead. Note that dropout3d exists to provide channel-wise dropout on inputs with 3 spatial dimensions, a channel dimension, and an optional batch dimension (i.e. 4D or 5D inputs).\n",
      "  warnings.warn(warn_msg)\n"
     ]
    },
    {
     "name": "stdout",
     "output_type": "stream",
     "text": [
      "Epoch 43: loss = 0.0340, accuracy = 1.0000, F1-score = 1.0000\n"
     ]
    },
    {
     "name": "stderr",
     "output_type": "stream",
     "text": [
      "/usr/local/lib/python3.10/dist-packages/torch/nn/functional.py:1375: UserWarning: dropout3d: Received a 2-D input to dropout3d, which is deprecated and will result in an error in a future release. To retain the behavior and silence this warning, please use dropout instead. Note that dropout3d exists to provide channel-wise dropout on inputs with 3 spatial dimensions, a channel dimension, and an optional batch dimension (i.e. 4D or 5D inputs).\n",
      "  warnings.warn(warn_msg)\n",
      "/usr/local/lib/python3.10/dist-packages/torch/nn/functional.py:1375: UserWarning: dropout3d: Received a 2-D input to dropout3d, which is deprecated and will result in an error in a future release. To retain the behavior and silence this warning, please use dropout instead. Note that dropout3d exists to provide channel-wise dropout on inputs with 3 spatial dimensions, a channel dimension, and an optional batch dimension (i.e. 4D or 5D inputs).\n",
      "  warnings.warn(warn_msg)\n",
      "/usr/local/lib/python3.10/dist-packages/torch/nn/functional.py:1375: UserWarning: dropout3d: Received a 2-D input to dropout3d, which is deprecated and will result in an error in a future release. To retain the behavior and silence this warning, please use dropout instead. Note that dropout3d exists to provide channel-wise dropout on inputs with 3 spatial dimensions, a channel dimension, and an optional batch dimension (i.e. 4D or 5D inputs).\n",
      "  warnings.warn(warn_msg)\n",
      "/usr/local/lib/python3.10/dist-packages/torch/nn/functional.py:1375: UserWarning: dropout3d: Received a 2-D input to dropout3d, which is deprecated and will result in an error in a future release. To retain the behavior and silence this warning, please use dropout instead. Note that dropout3d exists to provide channel-wise dropout on inputs with 3 spatial dimensions, a channel dimension, and an optional batch dimension (i.e. 4D or 5D inputs).\n",
      "  warnings.warn(warn_msg)\n",
      "/usr/local/lib/python3.10/dist-packages/torch/nn/functional.py:1375: UserWarning: dropout3d: Received a 2-D input to dropout3d, which is deprecated and will result in an error in a future release. To retain the behavior and silence this warning, please use dropout instead. Note that dropout3d exists to provide channel-wise dropout on inputs with 3 spatial dimensions, a channel dimension, and an optional batch dimension (i.e. 4D or 5D inputs).\n",
      "  warnings.warn(warn_msg)\n",
      "/usr/local/lib/python3.10/dist-packages/torch/nn/functional.py:1375: UserWarning: dropout3d: Received a 2-D input to dropout3d, which is deprecated and will result in an error in a future release. To retain the behavior and silence this warning, please use dropout instead. Note that dropout3d exists to provide channel-wise dropout on inputs with 3 spatial dimensions, a channel dimension, and an optional batch dimension (i.e. 4D or 5D inputs).\n",
      "  warnings.warn(warn_msg)\n",
      "/usr/local/lib/python3.10/dist-packages/torch/nn/functional.py:1375: UserWarning: dropout3d: Received a 2-D input to dropout3d, which is deprecated and will result in an error in a future release. To retain the behavior and silence this warning, please use dropout instead. Note that dropout3d exists to provide channel-wise dropout on inputs with 3 spatial dimensions, a channel dimension, and an optional batch dimension (i.e. 4D or 5D inputs).\n",
      "  warnings.warn(warn_msg)\n"
     ]
    },
    {
     "name": "stdout",
     "output_type": "stream",
     "text": [
      "Epoch 44: loss = 0.0328, accuracy = 1.0000, F1-score = 1.0000\n"
     ]
    },
    {
     "name": "stderr",
     "output_type": "stream",
     "text": [
      "/usr/local/lib/python3.10/dist-packages/torch/nn/functional.py:1375: UserWarning: dropout3d: Received a 2-D input to dropout3d, which is deprecated and will result in an error in a future release. To retain the behavior and silence this warning, please use dropout instead. Note that dropout3d exists to provide channel-wise dropout on inputs with 3 spatial dimensions, a channel dimension, and an optional batch dimension (i.e. 4D or 5D inputs).\n",
      "  warnings.warn(warn_msg)\n",
      "/usr/local/lib/python3.10/dist-packages/torch/nn/functional.py:1375: UserWarning: dropout3d: Received a 2-D input to dropout3d, which is deprecated and will result in an error in a future release. To retain the behavior and silence this warning, please use dropout instead. Note that dropout3d exists to provide channel-wise dropout on inputs with 3 spatial dimensions, a channel dimension, and an optional batch dimension (i.e. 4D or 5D inputs).\n",
      "  warnings.warn(warn_msg)\n",
      "/usr/local/lib/python3.10/dist-packages/torch/nn/functional.py:1375: UserWarning: dropout3d: Received a 2-D input to dropout3d, which is deprecated and will result in an error in a future release. To retain the behavior and silence this warning, please use dropout instead. Note that dropout3d exists to provide channel-wise dropout on inputs with 3 spatial dimensions, a channel dimension, and an optional batch dimension (i.e. 4D or 5D inputs).\n",
      "  warnings.warn(warn_msg)\n",
      "/usr/local/lib/python3.10/dist-packages/torch/nn/functional.py:1375: UserWarning: dropout3d: Received a 2-D input to dropout3d, which is deprecated and will result in an error in a future release. To retain the behavior and silence this warning, please use dropout instead. Note that dropout3d exists to provide channel-wise dropout on inputs with 3 spatial dimensions, a channel dimension, and an optional batch dimension (i.e. 4D or 5D inputs).\n",
      "  warnings.warn(warn_msg)\n",
      "/usr/local/lib/python3.10/dist-packages/torch/nn/functional.py:1375: UserWarning: dropout3d: Received a 2-D input to dropout3d, which is deprecated and will result in an error in a future release. To retain the behavior and silence this warning, please use dropout instead. Note that dropout3d exists to provide channel-wise dropout on inputs with 3 spatial dimensions, a channel dimension, and an optional batch dimension (i.e. 4D or 5D inputs).\n",
      "  warnings.warn(warn_msg)\n",
      "/usr/local/lib/python3.10/dist-packages/torch/nn/functional.py:1375: UserWarning: dropout3d: Received a 2-D input to dropout3d, which is deprecated and will result in an error in a future release. To retain the behavior and silence this warning, please use dropout instead. Note that dropout3d exists to provide channel-wise dropout on inputs with 3 spatial dimensions, a channel dimension, and an optional batch dimension (i.e. 4D or 5D inputs).\n",
      "  warnings.warn(warn_msg)\n",
      "/usr/local/lib/python3.10/dist-packages/torch/nn/functional.py:1375: UserWarning: dropout3d: Received a 2-D input to dropout3d, which is deprecated and will result in an error in a future release. To retain the behavior and silence this warning, please use dropout instead. Note that dropout3d exists to provide channel-wise dropout on inputs with 3 spatial dimensions, a channel dimension, and an optional batch dimension (i.e. 4D or 5D inputs).\n",
      "  warnings.warn(warn_msg)\n"
     ]
    },
    {
     "name": "stdout",
     "output_type": "stream",
     "text": [
      "Epoch 45: loss = 0.0313, accuracy = 1.0000, F1-score = 1.0000\n"
     ]
    },
    {
     "name": "stderr",
     "output_type": "stream",
     "text": [
      "/usr/local/lib/python3.10/dist-packages/torch/nn/functional.py:1375: UserWarning: dropout3d: Received a 2-D input to dropout3d, which is deprecated and will result in an error in a future release. To retain the behavior and silence this warning, please use dropout instead. Note that dropout3d exists to provide channel-wise dropout on inputs with 3 spatial dimensions, a channel dimension, and an optional batch dimension (i.e. 4D or 5D inputs).\n",
      "  warnings.warn(warn_msg)\n",
      "/usr/local/lib/python3.10/dist-packages/torch/nn/functional.py:1375: UserWarning: dropout3d: Received a 2-D input to dropout3d, which is deprecated and will result in an error in a future release. To retain the behavior and silence this warning, please use dropout instead. Note that dropout3d exists to provide channel-wise dropout on inputs with 3 spatial dimensions, a channel dimension, and an optional batch dimension (i.e. 4D or 5D inputs).\n",
      "  warnings.warn(warn_msg)\n",
      "/usr/local/lib/python3.10/dist-packages/torch/nn/functional.py:1375: UserWarning: dropout3d: Received a 2-D input to dropout3d, which is deprecated and will result in an error in a future release. To retain the behavior and silence this warning, please use dropout instead. Note that dropout3d exists to provide channel-wise dropout on inputs with 3 spatial dimensions, a channel dimension, and an optional batch dimension (i.e. 4D or 5D inputs).\n",
      "  warnings.warn(warn_msg)\n",
      "/usr/local/lib/python3.10/dist-packages/torch/nn/functional.py:1375: UserWarning: dropout3d: Received a 2-D input to dropout3d, which is deprecated and will result in an error in a future release. To retain the behavior and silence this warning, please use dropout instead. Note that dropout3d exists to provide channel-wise dropout on inputs with 3 spatial dimensions, a channel dimension, and an optional batch dimension (i.e. 4D or 5D inputs).\n",
      "  warnings.warn(warn_msg)\n",
      "/usr/local/lib/python3.10/dist-packages/torch/nn/functional.py:1375: UserWarning: dropout3d: Received a 2-D input to dropout3d, which is deprecated and will result in an error in a future release. To retain the behavior and silence this warning, please use dropout instead. Note that dropout3d exists to provide channel-wise dropout on inputs with 3 spatial dimensions, a channel dimension, and an optional batch dimension (i.e. 4D or 5D inputs).\n",
      "  warnings.warn(warn_msg)\n",
      "/usr/local/lib/python3.10/dist-packages/torch/nn/functional.py:1375: UserWarning: dropout3d: Received a 2-D input to dropout3d, which is deprecated and will result in an error in a future release. To retain the behavior and silence this warning, please use dropout instead. Note that dropout3d exists to provide channel-wise dropout on inputs with 3 spatial dimensions, a channel dimension, and an optional batch dimension (i.e. 4D or 5D inputs).\n",
      "  warnings.warn(warn_msg)\n",
      "/usr/local/lib/python3.10/dist-packages/torch/nn/functional.py:1375: UserWarning: dropout3d: Received a 2-D input to dropout3d, which is deprecated and will result in an error in a future release. To retain the behavior and silence this warning, please use dropout instead. Note that dropout3d exists to provide channel-wise dropout on inputs with 3 spatial dimensions, a channel dimension, and an optional batch dimension (i.e. 4D or 5D inputs).\n",
      "  warnings.warn(warn_msg)\n",
      "/usr/local/lib/python3.10/dist-packages/torch/nn/functional.py:1375: UserWarning: dropout3d: Received a 2-D input to dropout3d, which is deprecated and will result in an error in a future release. To retain the behavior and silence this warning, please use dropout instead. Note that dropout3d exists to provide channel-wise dropout on inputs with 3 spatial dimensions, a channel dimension, and an optional batch dimension (i.e. 4D or 5D inputs).\n",
      "  warnings.warn(warn_msg)\n"
     ]
    },
    {
     "name": "stdout",
     "output_type": "stream",
     "text": [
      "Epoch 46: loss = 0.0314, accuracy = 1.0000, F1-score = 1.0000\n"
     ]
    },
    {
     "name": "stderr",
     "output_type": "stream",
     "text": [
      "/usr/local/lib/python3.10/dist-packages/torch/nn/functional.py:1375: UserWarning: dropout3d: Received a 2-D input to dropout3d, which is deprecated and will result in an error in a future release. To retain the behavior and silence this warning, please use dropout instead. Note that dropout3d exists to provide channel-wise dropout on inputs with 3 spatial dimensions, a channel dimension, and an optional batch dimension (i.e. 4D or 5D inputs).\n",
      "  warnings.warn(warn_msg)\n",
      "/usr/local/lib/python3.10/dist-packages/torch/nn/functional.py:1375: UserWarning: dropout3d: Received a 2-D input to dropout3d, which is deprecated and will result in an error in a future release. To retain the behavior and silence this warning, please use dropout instead. Note that dropout3d exists to provide channel-wise dropout on inputs with 3 spatial dimensions, a channel dimension, and an optional batch dimension (i.e. 4D or 5D inputs).\n",
      "  warnings.warn(warn_msg)\n",
      "/usr/local/lib/python3.10/dist-packages/torch/nn/functional.py:1375: UserWarning: dropout3d: Received a 2-D input to dropout3d, which is deprecated and will result in an error in a future release. To retain the behavior and silence this warning, please use dropout instead. Note that dropout3d exists to provide channel-wise dropout on inputs with 3 spatial dimensions, a channel dimension, and an optional batch dimension (i.e. 4D or 5D inputs).\n",
      "  warnings.warn(warn_msg)\n",
      "/usr/local/lib/python3.10/dist-packages/torch/nn/functional.py:1375: UserWarning: dropout3d: Received a 2-D input to dropout3d, which is deprecated and will result in an error in a future release. To retain the behavior and silence this warning, please use dropout instead. Note that dropout3d exists to provide channel-wise dropout on inputs with 3 spatial dimensions, a channel dimension, and an optional batch dimension (i.e. 4D or 5D inputs).\n",
      "  warnings.warn(warn_msg)\n",
      "/usr/local/lib/python3.10/dist-packages/torch/nn/functional.py:1375: UserWarning: dropout3d: Received a 2-D input to dropout3d, which is deprecated and will result in an error in a future release. To retain the behavior and silence this warning, please use dropout instead. Note that dropout3d exists to provide channel-wise dropout on inputs with 3 spatial dimensions, a channel dimension, and an optional batch dimension (i.e. 4D or 5D inputs).\n",
      "  warnings.warn(warn_msg)\n",
      "/usr/local/lib/python3.10/dist-packages/torch/nn/functional.py:1375: UserWarning: dropout3d: Received a 2-D input to dropout3d, which is deprecated and will result in an error in a future release. To retain the behavior and silence this warning, please use dropout instead. Note that dropout3d exists to provide channel-wise dropout on inputs with 3 spatial dimensions, a channel dimension, and an optional batch dimension (i.e. 4D or 5D inputs).\n",
      "  warnings.warn(warn_msg)\n"
     ]
    },
    {
     "name": "stdout",
     "output_type": "stream",
     "text": [
      "Epoch 47: loss = 0.0301, accuracy = 1.0000, F1-score = 1.0000\n"
     ]
    },
    {
     "name": "stderr",
     "output_type": "stream",
     "text": [
      "/usr/local/lib/python3.10/dist-packages/torch/nn/functional.py:1375: UserWarning: dropout3d: Received a 2-D input to dropout3d, which is deprecated and will result in an error in a future release. To retain the behavior and silence this warning, please use dropout instead. Note that dropout3d exists to provide channel-wise dropout on inputs with 3 spatial dimensions, a channel dimension, and an optional batch dimension (i.e. 4D or 5D inputs).\n",
      "  warnings.warn(warn_msg)\n",
      "/usr/local/lib/python3.10/dist-packages/torch/nn/functional.py:1375: UserWarning: dropout3d: Received a 2-D input to dropout3d, which is deprecated and will result in an error in a future release. To retain the behavior and silence this warning, please use dropout instead. Note that dropout3d exists to provide channel-wise dropout on inputs with 3 spatial dimensions, a channel dimension, and an optional batch dimension (i.e. 4D or 5D inputs).\n",
      "  warnings.warn(warn_msg)\n",
      "/usr/local/lib/python3.10/dist-packages/torch/nn/functional.py:1375: UserWarning: dropout3d: Received a 2-D input to dropout3d, which is deprecated and will result in an error in a future release. To retain the behavior and silence this warning, please use dropout instead. Note that dropout3d exists to provide channel-wise dropout on inputs with 3 spatial dimensions, a channel dimension, and an optional batch dimension (i.e. 4D or 5D inputs).\n",
      "  warnings.warn(warn_msg)\n",
      "/usr/local/lib/python3.10/dist-packages/torch/nn/functional.py:1375: UserWarning: dropout3d: Received a 2-D input to dropout3d, which is deprecated and will result in an error in a future release. To retain the behavior and silence this warning, please use dropout instead. Note that dropout3d exists to provide channel-wise dropout on inputs with 3 spatial dimensions, a channel dimension, and an optional batch dimension (i.e. 4D or 5D inputs).\n",
      "  warnings.warn(warn_msg)\n",
      "/usr/local/lib/python3.10/dist-packages/torch/nn/functional.py:1375: UserWarning: dropout3d: Received a 2-D input to dropout3d, which is deprecated and will result in an error in a future release. To retain the behavior and silence this warning, please use dropout instead. Note that dropout3d exists to provide channel-wise dropout on inputs with 3 spatial dimensions, a channel dimension, and an optional batch dimension (i.e. 4D or 5D inputs).\n",
      "  warnings.warn(warn_msg)\n",
      "/usr/local/lib/python3.10/dist-packages/torch/nn/functional.py:1375: UserWarning: dropout3d: Received a 2-D input to dropout3d, which is deprecated and will result in an error in a future release. To retain the behavior and silence this warning, please use dropout instead. Note that dropout3d exists to provide channel-wise dropout on inputs with 3 spatial dimensions, a channel dimension, and an optional batch dimension (i.e. 4D or 5D inputs).\n",
      "  warnings.warn(warn_msg)\n",
      "/usr/local/lib/python3.10/dist-packages/torch/nn/functional.py:1375: UserWarning: dropout3d: Received a 2-D input to dropout3d, which is deprecated and will result in an error in a future release. To retain the behavior and silence this warning, please use dropout instead. Note that dropout3d exists to provide channel-wise dropout on inputs with 3 spatial dimensions, a channel dimension, and an optional batch dimension (i.e. 4D or 5D inputs).\n",
      "  warnings.warn(warn_msg)\n"
     ]
    },
    {
     "name": "stdout",
     "output_type": "stream",
     "text": [
      "Epoch 48: loss = 0.0297, accuracy = 1.0000, F1-score = 1.0000\n"
     ]
    },
    {
     "name": "stderr",
     "output_type": "stream",
     "text": [
      "/usr/local/lib/python3.10/dist-packages/torch/nn/functional.py:1375: UserWarning: dropout3d: Received a 2-D input to dropout3d, which is deprecated and will result in an error in a future release. To retain the behavior and silence this warning, please use dropout instead. Note that dropout3d exists to provide channel-wise dropout on inputs with 3 spatial dimensions, a channel dimension, and an optional batch dimension (i.e. 4D or 5D inputs).\n",
      "  warnings.warn(warn_msg)\n",
      "/usr/local/lib/python3.10/dist-packages/torch/nn/functional.py:1375: UserWarning: dropout3d: Received a 2-D input to dropout3d, which is deprecated and will result in an error in a future release. To retain the behavior and silence this warning, please use dropout instead. Note that dropout3d exists to provide channel-wise dropout on inputs with 3 spatial dimensions, a channel dimension, and an optional batch dimension (i.e. 4D or 5D inputs).\n",
      "  warnings.warn(warn_msg)\n",
      "/usr/local/lib/python3.10/dist-packages/torch/nn/functional.py:1375: UserWarning: dropout3d: Received a 2-D input to dropout3d, which is deprecated and will result in an error in a future release. To retain the behavior and silence this warning, please use dropout instead. Note that dropout3d exists to provide channel-wise dropout on inputs with 3 spatial dimensions, a channel dimension, and an optional batch dimension (i.e. 4D or 5D inputs).\n",
      "  warnings.warn(warn_msg)\n",
      "/usr/local/lib/python3.10/dist-packages/torch/nn/functional.py:1375: UserWarning: dropout3d: Received a 2-D input to dropout3d, which is deprecated and will result in an error in a future release. To retain the behavior and silence this warning, please use dropout instead. Note that dropout3d exists to provide channel-wise dropout on inputs with 3 spatial dimensions, a channel dimension, and an optional batch dimension (i.e. 4D or 5D inputs).\n",
      "  warnings.warn(warn_msg)\n",
      "/usr/local/lib/python3.10/dist-packages/torch/nn/functional.py:1375: UserWarning: dropout3d: Received a 2-D input to dropout3d, which is deprecated and will result in an error in a future release. To retain the behavior and silence this warning, please use dropout instead. Note that dropout3d exists to provide channel-wise dropout on inputs with 3 spatial dimensions, a channel dimension, and an optional batch dimension (i.e. 4D or 5D inputs).\n",
      "  warnings.warn(warn_msg)\n",
      "/usr/local/lib/python3.10/dist-packages/torch/nn/functional.py:1375: UserWarning: dropout3d: Received a 2-D input to dropout3d, which is deprecated and will result in an error in a future release. To retain the behavior and silence this warning, please use dropout instead. Note that dropout3d exists to provide channel-wise dropout on inputs with 3 spatial dimensions, a channel dimension, and an optional batch dimension (i.e. 4D or 5D inputs).\n",
      "  warnings.warn(warn_msg)\n"
     ]
    },
    {
     "name": "stdout",
     "output_type": "stream",
     "text": [
      "Epoch 49: loss = 0.0292, accuracy = 1.0000, F1-score = 1.0000\n"
     ]
    },
    {
     "name": "stderr",
     "output_type": "stream",
     "text": [
      "/usr/local/lib/python3.10/dist-packages/torch/nn/functional.py:1375: UserWarning: dropout3d: Received a 2-D input to dropout3d, which is deprecated and will result in an error in a future release. To retain the behavior and silence this warning, please use dropout instead. Note that dropout3d exists to provide channel-wise dropout on inputs with 3 spatial dimensions, a channel dimension, and an optional batch dimension (i.e. 4D or 5D inputs).\n",
      "  warnings.warn(warn_msg)\n",
      "/usr/local/lib/python3.10/dist-packages/torch/nn/functional.py:1375: UserWarning: dropout3d: Received a 2-D input to dropout3d, which is deprecated and will result in an error in a future release. To retain the behavior and silence this warning, please use dropout instead. Note that dropout3d exists to provide channel-wise dropout on inputs with 3 spatial dimensions, a channel dimension, and an optional batch dimension (i.e. 4D or 5D inputs).\n",
      "  warnings.warn(warn_msg)\n",
      "/usr/local/lib/python3.10/dist-packages/torch/nn/functional.py:1375: UserWarning: dropout3d: Received a 2-D input to dropout3d, which is deprecated and will result in an error in a future release. To retain the behavior and silence this warning, please use dropout instead. Note that dropout3d exists to provide channel-wise dropout on inputs with 3 spatial dimensions, a channel dimension, and an optional batch dimension (i.e. 4D or 5D inputs).\n",
      "  warnings.warn(warn_msg)\n",
      "/usr/local/lib/python3.10/dist-packages/torch/nn/functional.py:1375: UserWarning: dropout3d: Received a 2-D input to dropout3d, which is deprecated and will result in an error in a future release. To retain the behavior and silence this warning, please use dropout instead. Note that dropout3d exists to provide channel-wise dropout on inputs with 3 spatial dimensions, a channel dimension, and an optional batch dimension (i.e. 4D or 5D inputs).\n",
      "  warnings.warn(warn_msg)\n",
      "/usr/local/lib/python3.10/dist-packages/torch/nn/functional.py:1375: UserWarning: dropout3d: Received a 2-D input to dropout3d, which is deprecated and will result in an error in a future release. To retain the behavior and silence this warning, please use dropout instead. Note that dropout3d exists to provide channel-wise dropout on inputs with 3 spatial dimensions, a channel dimension, and an optional batch dimension (i.e. 4D or 5D inputs).\n",
      "  warnings.warn(warn_msg)\n",
      "/usr/local/lib/python3.10/dist-packages/torch/nn/functional.py:1375: UserWarning: dropout3d: Received a 2-D input to dropout3d, which is deprecated and will result in an error in a future release. To retain the behavior and silence this warning, please use dropout instead. Note that dropout3d exists to provide channel-wise dropout on inputs with 3 spatial dimensions, a channel dimension, and an optional batch dimension (i.e. 4D or 5D inputs).\n",
      "  warnings.warn(warn_msg)\n",
      "/usr/local/lib/python3.10/dist-packages/torch/nn/functional.py:1375: UserWarning: dropout3d: Received a 2-D input to dropout3d, which is deprecated and will result in an error in a future release. To retain the behavior and silence this warning, please use dropout instead. Note that dropout3d exists to provide channel-wise dropout on inputs with 3 spatial dimensions, a channel dimension, and an optional batch dimension (i.e. 4D or 5D inputs).\n",
      "  warnings.warn(warn_msg)\n",
      "/usr/local/lib/python3.10/dist-packages/torch/nn/functional.py:1375: UserWarning: dropout3d: Received a 2-D input to dropout3d, which is deprecated and will result in an error in a future release. To retain the behavior and silence this warning, please use dropout instead. Note that dropout3d exists to provide channel-wise dropout on inputs with 3 spatial dimensions, a channel dimension, and an optional batch dimension (i.e. 4D or 5D inputs).\n",
      "  warnings.warn(warn_msg)\n",
      "/usr/local/lib/python3.10/dist-packages/torch/nn/functional.py:1375: UserWarning: dropout3d: Received a 2-D input to dropout3d, which is deprecated and will result in an error in a future release. To retain the behavior and silence this warning, please use dropout instead. Note that dropout3d exists to provide channel-wise dropout on inputs with 3 spatial dimensions, a channel dimension, and an optional batch dimension (i.e. 4D or 5D inputs).\n",
      "  warnings.warn(warn_msg)\n"
     ]
    },
    {
     "name": "stdout",
     "output_type": "stream",
     "text": [
      "Metrics on training dataset: {'accuracy': 1.0, 'precision': 1.0, 'recall': 1.0, 'specificity': 1.0, 'F1-score': 1.0, 'balanced_accuracy': 1.0, 'mean_loss': 0.02916686250404878}\n"
     ]
    }
   ],
   "source": [
    "# Define data loader \n",
    "train_loaderLeftHC = DataLoader(train_datasetLeftHC, batch_size=batch_size, shuffle=True, num_workers=2, pin_memory=True)\n",
    "\n",
    "for i, data in enumerate(train_loaderLeftHC, 0):\n",
    "    inputs, labels = data['image'], data['label']\n",
    "    print(type(inputs), type(labels))\n",
    "    \n",
    "# Criterion and optimizer choice\n",
    "criterion = nn.CrossEntropyLoss(reduction='sum')\n",
    "optimizer = torch.optim.Adam(modelLeftHC.parameters(), learning_rate)\n",
    "\n",
    "# Save classification model\n",
    "best_modelLeftHC = train(modelLeftHC, train_loaderLeftHC, criterion, optimizer, n_epochs)\n",
    "\n",
    "# Print performance metrics on the training set\n",
    "train_resultsLeftHC_df, train_metricsLeftHC = test(best_modelLeftHC, train_loaderLeftHC, criterion)\n",
    "print('Metrics on training dataset: ' + str(train_metricsLeftHC))"
   ]
  },
  {
   "cell_type": "code",
   "execution_count": null,
   "metadata": {
    "id": "Lhkx7yeNorax"
   },
   "outputs": [],
   "source": []
  },
  {
   "cell_type": "markdown",
   "metadata": {
    "id": "ppEggPIZoiNP"
   },
   "source": [
    "## **Classification of 3D MRI datasets with unkown labels**\n",
    "Congratulations! You have now trained a convolutional neural network that can classify 3D MRI datasets as belonging to either a cognitively normal (False) patient or one with Alzheimer's disease (True). You need to apply your convolutional neural network to the testing set, and save your predictions in a csv file that you upload to Kaggle. \n",
    "\n",
    "Note that the 'testing_labels_NaN.csv' file in the SC42140 Google Drive folder does NOT contain the true labels of the testing set (the labels of all MRI datasets in the testing set are set to False by default). Your task is to determine what these labels are."
   ]
  },
  {
   "cell_type": "code",
   "execution_count": 100,
   "metadata": {
    "executionInfo": {
     "elapsed": 11,
     "status": "ok",
     "timestamp": 1683702354754,
     "user": {
      "displayName": "Johnny M",
      "userId": "01154982244905029082"
     },
     "user_tz": -120
    },
    "id": "KNY0BmHIqDI4"
   },
   "outputs": [],
   "source": [
    "def test_grade(model, data_loader, criterion):\n",
    "    \"\"\"\n",
    "    Method used to generate a Kaggle-compatible csv file of classification results\n",
    "    \n",
    "    Args:\n",
    "        model: (nn.Module) the neural network\n",
    "        data_loader: (DataLoader) a DataLoader wrapping a MRIDataset\n",
    "        criterion: (nn.Module) a method to compute the loss of a mini-batch of images\n",
    "    \n",
    "    Returns:\n",
    "        results_df: (DataFrame) the label predicted for every subject\n",
    "    \"\"\"\n",
    "\n",
    "    model.eval()\n",
    "    columns = ['Subject_Num', 'Diagnosis']\n",
    "    results_df = pd.DataFrame(columns=columns)\n",
    "    total_loss = 0\n",
    "    \n",
    "    with torch.no_grad():\n",
    "        for i, data in enumerate(data_loader, 0):\n",
    "            images, labels = data['image'].cuda(), data['label'].cuda()\n",
    "            outputs = model(images)\n",
    "            loss = criterion(outputs, labels)\n",
    "            total_loss += loss.item()\n",
    "            probs = nn.Softmax(dim=1)(outputs)\n",
    "            _, predicted = torch.max(outputs.data, 1)\n",
    "\n",
    "            for idx, sub in enumerate(data['participant_id']):\n",
    "                row = [sub, predicted[idx].item()]\n",
    "                row_df = pd.DataFrame([row], columns=columns)\n",
    "                results_df = pd.concat([results_df, row_df])\n",
    "    \n",
    "    # Reformat results for Kaggle\n",
    "    results_df['Subject_Num'] = results_df['Subject_Num'].str.replace(r'\\D', '', regex=True).astype('int32')\n",
    "    results_df['Diagnosis'] = results_df['Diagnosis']==1\n",
    "\n",
    "    return results_df"
   ]
  },
  {
   "cell_type": "code",
   "execution_count": 101,
   "metadata": {
    "executionInfo": {
     "elapsed": 12,
     "status": "ok",
     "timestamp": 1683702354755,
     "user": {
      "displayName": "Johnny M",
      "userId": "01154982244905029082"
     },
     "user_tz": -120
    },
    "id": "E7Vnao6J555F"
   },
   "outputs": [],
   "source": [
    "# Instantiation of MRIDataset class and define a data loader\n",
    "test_datasetLeftHC = MRIDataset('grade', pd.read_csv('/content/drive/MyDrive/SC42140/testing_labels_NaN.csv'))\n",
    "test_loaderLeftHC = DataLoader(test_datasetLeftHC, batch_size=batch_size, shuffle=False, num_workers=2, pin_memory=True)"
   ]
  },
  {
   "cell_type": "code",
   "execution_count": 102,
   "metadata": {
    "colab": {
     "base_uri": "https://localhost:8080/",
     "height": 526
    },
    "executionInfo": {
     "elapsed": 11,
     "status": "ok",
     "timestamp": 1683702354755,
     "user": {
      "displayName": "Johnny M",
      "userId": "01154982244905029082"
     },
     "user_tz": -120
    },
    "id": "EYYN0rSB1Zsn",
    "outputId": "08ad19b0-3e1c-4785-8221-302a5bc4555c"
   },
   "outputs": [
    {
     "name": "stderr",
     "output_type": "stream",
     "text": [
      "/usr/local/lib/python3.10/dist-packages/torch/nn/functional.py:1375: UserWarning: dropout3d: Received a 2-D input to dropout3d, which is deprecated and will result in an error in a future release. To retain the behavior and silence this warning, please use dropout instead. Note that dropout3d exists to provide channel-wise dropout on inputs with 3 spatial dimensions, a channel dimension, and an optional batch dimension (i.e. 4D or 5D inputs).\n",
      "  warnings.warn(warn_msg)\n",
      "/usr/local/lib/python3.10/dist-packages/torch/nn/functional.py:1375: UserWarning: dropout3d: Received a 2-D input to dropout3d, which is deprecated and will result in an error in a future release. To retain the behavior and silence this warning, please use dropout instead. Note that dropout3d exists to provide channel-wise dropout on inputs with 3 spatial dimensions, a channel dimension, and an optional batch dimension (i.e. 4D or 5D inputs).\n",
      "  warnings.warn(warn_msg)\n",
      "/usr/local/lib/python3.10/dist-packages/torch/nn/functional.py:1375: UserWarning: dropout3d: Received a 2-D input to dropout3d, which is deprecated and will result in an error in a future release. To retain the behavior and silence this warning, please use dropout instead. Note that dropout3d exists to provide channel-wise dropout on inputs with 3 spatial dimensions, a channel dimension, and an optional batch dimension (i.e. 4D or 5D inputs).\n",
      "  warnings.warn(warn_msg)\n",
      "/usr/local/lib/python3.10/dist-packages/torch/nn/functional.py:1375: UserWarning: dropout3d: Received a 2-D input to dropout3d, which is deprecated and will result in an error in a future release. To retain the behavior and silence this warning, please use dropout instead. Note that dropout3d exists to provide channel-wise dropout on inputs with 3 spatial dimensions, a channel dimension, and an optional batch dimension (i.e. 4D or 5D inputs).\n",
      "  warnings.warn(warn_msg)\n"
     ]
    },
    {
     "data": {
      "text/html": [
       "\n",
       "  <div id=\"df-a53ff515-4737-45b4-a438-1d98a385b762\">\n",
       "    <div class=\"colab-df-container\">\n",
       "      <div>\n",
       "<style scoped>\n",
       "    .dataframe tbody tr th:only-of-type {\n",
       "        vertical-align: middle;\n",
       "    }\n",
       "\n",
       "    .dataframe tbody tr th {\n",
       "        vertical-align: top;\n",
       "    }\n",
       "\n",
       "    .dataframe thead th {\n",
       "        text-align: right;\n",
       "    }\n",
       "</style>\n",
       "<table border=\"1\" class=\"dataframe\">\n",
       "  <thead>\n",
       "    <tr style=\"text-align: right;\">\n",
       "      <th></th>\n",
       "      <th>Subject_Num</th>\n",
       "      <th>Diagnosis</th>\n",
       "    </tr>\n",
       "  </thead>\n",
       "  <tbody>\n",
       "    <tr>\n",
       "      <th>0</th>\n",
       "      <td>221</td>\n",
       "      <td>False</td>\n",
       "    </tr>\n",
       "    <tr>\n",
       "      <th>1</th>\n",
       "      <td>222</td>\n",
       "      <td>False</td>\n",
       "    </tr>\n",
       "    <tr>\n",
       "      <th>2</th>\n",
       "      <td>223</td>\n",
       "      <td>True</td>\n",
       "    </tr>\n",
       "    <tr>\n",
       "      <th>3</th>\n",
       "      <td>224</td>\n",
       "      <td>False</td>\n",
       "    </tr>\n",
       "    <tr>\n",
       "      <th>4</th>\n",
       "      <td>225</td>\n",
       "      <td>False</td>\n",
       "    </tr>\n",
       "    <tr>\n",
       "      <th>5</th>\n",
       "      <td>226</td>\n",
       "      <td>False</td>\n",
       "    </tr>\n",
       "    <tr>\n",
       "      <th>6</th>\n",
       "      <td>227</td>\n",
       "      <td>False</td>\n",
       "    </tr>\n",
       "    <tr>\n",
       "      <th>7</th>\n",
       "      <td>228</td>\n",
       "      <td>False</td>\n",
       "    </tr>\n",
       "    <tr>\n",
       "      <th>8</th>\n",
       "      <td>229</td>\n",
       "      <td>False</td>\n",
       "    </tr>\n",
       "    <tr>\n",
       "      <th>9</th>\n",
       "      <td>230</td>\n",
       "      <td>False</td>\n",
       "    </tr>\n",
       "  </tbody>\n",
       "</table>\n",
       "</div>\n",
       "      <button class=\"colab-df-convert\" onclick=\"convertToInteractive('df-a53ff515-4737-45b4-a438-1d98a385b762')\"\n",
       "              title=\"Convert this dataframe to an interactive table.\"\n",
       "              style=\"display:none;\">\n",
       "        \n",
       "  <svg xmlns=\"http://www.w3.org/2000/svg\" height=\"24px\"viewBox=\"0 0 24 24\"\n",
       "       width=\"24px\">\n",
       "    <path d=\"M0 0h24v24H0V0z\" fill=\"none\"/>\n",
       "    <path d=\"M18.56 5.44l.94 2.06.94-2.06 2.06-.94-2.06-.94-.94-2.06-.94 2.06-2.06.94zm-11 1L8.5 8.5l.94-2.06 2.06-.94-2.06-.94L8.5 2.5l-.94 2.06-2.06.94zm10 10l.94 2.06.94-2.06 2.06-.94-2.06-.94-.94-2.06-.94 2.06-2.06.94z\"/><path d=\"M17.41 7.96l-1.37-1.37c-.4-.4-.92-.59-1.43-.59-.52 0-1.04.2-1.43.59L10.3 9.45l-7.72 7.72c-.78.78-.78 2.05 0 2.83L4 21.41c.39.39.9.59 1.41.59.51 0 1.02-.2 1.41-.59l7.78-7.78 2.81-2.81c.8-.78.8-2.07 0-2.86zM5.41 20L4 18.59l7.72-7.72 1.47 1.35L5.41 20z\"/>\n",
       "  </svg>\n",
       "      </button>\n",
       "      \n",
       "  <style>\n",
       "    .colab-df-container {\n",
       "      display:flex;\n",
       "      flex-wrap:wrap;\n",
       "      gap: 12px;\n",
       "    }\n",
       "\n",
       "    .colab-df-convert {\n",
       "      background-color: #E8F0FE;\n",
       "      border: none;\n",
       "      border-radius: 50%;\n",
       "      cursor: pointer;\n",
       "      display: none;\n",
       "      fill: #1967D2;\n",
       "      height: 32px;\n",
       "      padding: 0 0 0 0;\n",
       "      width: 32px;\n",
       "    }\n",
       "\n",
       "    .colab-df-convert:hover {\n",
       "      background-color: #E2EBFA;\n",
       "      box-shadow: 0px 1px 2px rgba(60, 64, 67, 0.3), 0px 1px 3px 1px rgba(60, 64, 67, 0.15);\n",
       "      fill: #174EA6;\n",
       "    }\n",
       "\n",
       "    [theme=dark] .colab-df-convert {\n",
       "      background-color: #3B4455;\n",
       "      fill: #D2E3FC;\n",
       "    }\n",
       "\n",
       "    [theme=dark] .colab-df-convert:hover {\n",
       "      background-color: #434B5C;\n",
       "      box-shadow: 0px 1px 3px 1px rgba(0, 0, 0, 0.15);\n",
       "      filter: drop-shadow(0px 1px 2px rgba(0, 0, 0, 0.3));\n",
       "      fill: #FFFFFF;\n",
       "    }\n",
       "  </style>\n",
       "\n",
       "      <script>\n",
       "        const buttonEl =\n",
       "          document.querySelector('#df-a53ff515-4737-45b4-a438-1d98a385b762 button.colab-df-convert');\n",
       "        buttonEl.style.display =\n",
       "          google.colab.kernel.accessAllowed ? 'block' : 'none';\n",
       "\n",
       "        async function convertToInteractive(key) {\n",
       "          const element = document.querySelector('#df-a53ff515-4737-45b4-a438-1d98a385b762');\n",
       "          const dataTable =\n",
       "            await google.colab.kernel.invokeFunction('convertToInteractive',\n",
       "                                                     [key], {});\n",
       "          if (!dataTable) return;\n",
       "\n",
       "          const docLinkHtml = 'Like what you see? Visit the ' +\n",
       "            '<a target=\"_blank\" href=https://colab.research.google.com/notebooks/data_table.ipynb>data table notebook</a>'\n",
       "            + ' to learn more about interactive tables.';\n",
       "          element.innerHTML = '';\n",
       "          dataTable['output_type'] = 'display_data';\n",
       "          await google.colab.output.renderOutput(dataTable, element);\n",
       "          const docLink = document.createElement('div');\n",
       "          docLink.innerHTML = docLinkHtml;\n",
       "          element.appendChild(docLink);\n",
       "        }\n",
       "      </script>\n",
       "    </div>\n",
       "  </div>\n",
       "  "
      ],
      "text/plain": [
       "   Subject_Num  Diagnosis\n",
       "0          221      False\n",
       "1          222      False\n",
       "2          223       True\n",
       "3          224      False\n",
       "4          225      False\n",
       "5          226      False\n",
       "6          227      False\n",
       "7          228      False\n",
       "8          229      False\n",
       "9          230      False"
      ]
     },
     "execution_count": 102,
     "metadata": {},
     "output_type": "execute_result"
    }
   ],
   "source": [
    "# Perform classification of the 3D MRI scans in the testing set\n",
    "test_resultsLeftHC_df = test_grade(best_modelLeftHC, test_loaderLeftHC, criterion)\n",
    "test_resultsLeftHC_df.reset_index(drop=True).head(10)"
   ]
  },
  {
   "cell_type": "code",
   "execution_count": 103,
   "metadata": {
    "executionInfo": {
     "elapsed": 5,
     "status": "ok",
     "timestamp": 1683702354755,
     "user": {
      "displayName": "Johnny M",
      "userId": "01154982244905029082"
     },
     "user_tz": -120
    },
    "id": "jSn2ZXn5eJzD"
   },
   "outputs": [],
   "source": [
    "# Save your AD/CD classification results to a csv file that you upload to Kaggle\n",
    "# Save your results in your Google Drive, but NOT in the shared SC42140 folder! \n",
    "test_resultsLeftHC_df.to_csv('/content/drive/MyDrive/Results_for_Kaggle51.csv', index=False)"
   ]
  },
  {
   "cell_type": "code",
   "execution_count": null,
   "metadata": {
    "id": "-7ziryUfK9Wf"
   },
   "outputs": [],
   "source": []
  },
  {
   "cell_type": "code",
   "execution_count": null,
   "metadata": {
    "id": "WdHiZ8E7Bskb"
   },
   "outputs": [],
   "source": []
  }
 ],
 "metadata": {
  "accelerator": "GPU",
  "colab": {
   "provenance": [
    {
     "file_id": "1k4hqk-QNmm4Stx5zhO5vVxJKsKJ4nB1E",
     "timestamp": 1682279322285
    },
    {
     "file_id": "1Nnd7aekxFCDNWbJbADUh9QnyF3OiQCDl",
     "timestamp": 1644408252409
    }
   ]
  },
  "gpuClass": "standard",
  "kernelspec": {
   "display_name": "Python 3",
   "name": "python3"
  },
  "language_info": {
   "name": "python"
  }
 },
 "nbformat": 4,
 "nbformat_minor": 0
}
